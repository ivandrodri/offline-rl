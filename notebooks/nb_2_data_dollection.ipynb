{
 "cells": [
  {
   "cell_type": "code",
   "execution_count": 1,
   "metadata": {
    "execution": {
     "iopub.execute_input": "2025-01-04T11:49:53.751079Z",
     "iopub.status.busy": "2025-01-04T11:49:53.750855Z",
     "iopub.status.idle": "2025-01-04T11:49:53.881024Z",
     "shell.execute_reply": "2025-01-04T11:49:53.880518Z"
    }
   },
   "outputs": [],
   "source": [
    "%%capture\n",
    "%load_ext autoreload\n",
    "%autoreload 2\n",
    "%matplotlib inline\n",
    "%load_ext tensorboard\n",
    "%set_random_seed 12"
   ]
  },
  {
   "cell_type": "code",
   "execution_count": 2,
   "metadata": {
    "execution": {
     "iopub.execute_input": "2025-01-04T11:49:53.882476Z",
     "iopub.status.busy": "2025-01-04T11:49:53.882396Z",
     "iopub.status.idle": "2025-01-04T11:49:53.886918Z",
     "shell.execute_reply": "2025-01-04T11:49:53.886584Z"
    }
   },
   "outputs": [],
   "source": [
    "# %tensorboard --logdir ../src/training_rl/offline_rl/ --host localhost"
   ]
  },
  {
   "cell_type": "code",
   "execution_count": 3,
   "metadata": {
    "execution": {
     "iopub.execute_input": "2025-01-04T11:49:53.888138Z",
     "iopub.status.busy": "2025-01-04T11:49:53.888048Z",
     "iopub.status.idle": "2025-01-04T11:49:54.935483Z",
     "shell.execute_reply": "2025-01-04T11:49:54.934924Z"
    }
   },
   "outputs": [
    {
     "name": "stderr",
     "output_type": "stream",
     "text": [
      "sys:1: DeprecationWarning: DataCollectorV0 is deprecated and will be removed. Use DataCollector instead.\n"
     ]
    }
   ],
   "source": [
    "from src.offline_rl.set_env_variables import set_env_variables\n",
    "\n",
    "#set_env_variables(\"/home/jovyan/offline_re/src/training_rl/offline_rl/\")\n",
    "set_env_variables()\n",
    "\n",
    "import warnings\n",
    "import os\n",
    "\n",
    "import gymnasium as gym\n",
    "from src.offline_rl.custom_envs.custom_2d_grid_env.obstacles_2D_grid_register import ObstacleTypes\n",
    "from src.offline_rl.custom_envs.custom_2d_grid_env.simple_grid import Custom2DGridEnv\n",
    "from src.offline_rl.custom_envs.custom_envs_registration import RenderMode\n",
    "from src.offline_rl.offline_policies.offpolicy_rendering import offpolicy_rendering\n",
    "from src.offline_rl.utils import load_buffer_minari\n",
    "from src.offline_rl.visualizations.utils import (\n",
    "    get_state_action_data_and_policy_grid_distributions,\n",
    "    snapshot_env,\n",
    ")\n",
    "from src.offline_rl.utils import widget_list\n",
    "from src.offline_rl.custom_envs.custom_envs_registration import EnvFactory\n",
    "from offline_rl.behavior_policies.behavior_policy_registry import BehaviorPolicy2dGridFactory\n",
    "from offline_rl.generate_custom_minari_datasets.generate_minari_dataset import (\n",
    "    create_minari_datasets,\n",
    ")\n",
    "\n",
    "\n",
    "if not os.environ.get(\"DISPLAY\"):\n",
    "    os.environ[\"MUJOCO_GL\"] = \"egl\"\n",
    "\n",
    "warnings.filterwarnings(\"ignore\")\n",
    "\n",
    "# To get access to the registered environments."
   ]
  },
  {
   "cell_type": "markdown",
   "metadata": {
    "slideshow": {
     "slide_type": "slide"
    }
   },
   "source": [
    "# Exercise: Minari data collection\n",
    "\n",
    "In this exercise you don't have any homework. The idea is to play around with it to get familiar with the code  (notebooks and source code) and with the way we collect data.\n",
    "\n",
    "Remember that the pipeline for offline learning will be the following:\n",
    "\n",
    "<img src=\"_static/images/93_offline_RL_pipeline.png\" alt=\"Snow\" style=\"width:50%;\">\n",
    "\n",
    "In this notebook we will be exploring the steps 1-2-3 . It would be a good idea now to give a look to the code structure:\n",
    "\n",
    "<img src=\"_static/images/93_code_structure.png\" alt=\"Snow\" style=\"width:20%;\">\n",
    "\n",
    "You can also give a look to [Minari documentation](https://minari.farama.org/main/content/basic_usage/) if needed."
   ]
  },
  {
   "cell_type": "markdown",
   "metadata": {
    "slideshow": {
     "slide_type": "slide"
    }
   },
   "source": [
    "## STEP 1: Create the environments"
   ]
  },
  {
   "cell_type": "code",
   "execution_count": 4,
   "metadata": {
    "execution": {
     "iopub.execute_input": "2025-01-04T11:49:54.949805Z",
     "iopub.status.busy": "2025-01-04T11:49:54.949627Z",
     "iopub.status.idle": "2025-01-04T11:49:54.958474Z",
     "shell.execute_reply": "2025-01-04T11:49:54.958124Z"
    },
    "slideshow": {
     "slide_type": "slide"
    }
   },
   "outputs": [],
   "source": [
    "# List of different environments\n",
    "ENV_LIST = [\n",
    "    EnvFactory.Grid_2D_8x8_discrete,\n",
    "    \"InvertedPendulum-v4\",\n",
    "    \"Humanoid-v4\",\n",
    "    \"AdroitHandHammer-v1\",\n",
    "    \"HalfCheetah-v4\",\n",
    "]\n",
    "\n",
    "# obstacles to be used with the 2d grid-world\n",
    "grid_world_obstacles = [\n",
    "    ObstacleTypes.obstacle_8x8_top_right,\n",
    "    ObstacleTypes.obst_free_8x8,\n",
    "]\n",
    "\n",
    "# behavior policies to be used with 2d grid-world\n",
    "behavior_policy_grid_world = [\n",
    "    BehaviorPolicy2dGridFactory.suboptimal_8x8,\n",
    "    BehaviorPolicy2dGridFactory.random,\n",
    "    BehaviorPolicy2dGridFactory.deterministic_8x8,\n",
    "]"
   ]
  },
  {
   "cell_type": "code",
   "execution_count": 5,
   "metadata": {
    "execution": {
     "iopub.execute_input": "2025-01-04T11:49:54.959566Z",
     "iopub.status.busy": "2025-01-04T11:49:54.959463Z",
     "iopub.status.idle": "2025-01-04T11:49:54.970576Z",
     "shell.execute_reply": "2025-01-04T11:49:54.970330Z"
    },
    "slideshow": {
     "slide_type": "slide"
    }
   },
   "outputs": [
    {
     "data": {
      "application/vnd.jupyter.widget-view+json": {
       "model_id": "b6173c5872df487cac0f90e39648ba3e",
       "version_major": 2,
       "version_minor": 0
      },
      "text/plain": [
       "Dropdown(description='Mixed envs.', options=(<EnvFactory.Grid_2D_8x8_discrete: 'Grid_2D_8x8_discrete'>, 'Inver…"
      ]
     },
     "metadata": {},
     "output_type": "display_data"
    },
    {
     "data": {
      "application/vnd.jupyter.widget-view+json": {
       "model_id": "cc1e3d81beef459a9be64cdcddc9bba5",
       "version_major": 2,
       "version_minor": 0
      },
      "text/plain": [
       "Dropdown(description='grid obst.', options=(<ObstacleTypes.obstacle_8x8_top_right: ['00000100', '00000100', '0…"
      ]
     },
     "metadata": {},
     "output_type": "display_data"
    },
    {
     "data": {
      "application/vnd.jupyter.widget-view+json": {
       "model_id": "8d64aec037474b4aac84351d7b5cdb84",
       "version_major": 2,
       "version_minor": 0
      },
      "text/plain": [
       "Dropdown(description='grid policy', options=(<BehaviorPolicy2dGridFactory.suboptimal_8x8: 'suboptimal_8x8'>, <…"
      ]
     },
     "metadata": {},
     "output_type": "display_data"
    }
   ],
   "source": [
    "selected_environment = widget_list(ENV_LIST, description=\"Mixed envs.\")\n",
    "selected_obstacle = widget_list(grid_world_obstacles, description=\"grid obst.\")\n",
    "selected_grid_world_policy = widget_list(behavior_policy_grid_world, description=\"grid policy\")"
   ]
  },
  {
   "cell_type": "markdown",
   "metadata": {
    "slideshow": {
     "slide_type": "slide"
    }
   },
   "source": [
    "**Select and render behavior policies**"
   ]
  },
  {
   "cell_type": "code",
   "execution_count": 6,
   "metadata": {
    "execution": {
     "iopub.execute_input": "2025-01-04T11:49:54.971740Z",
     "iopub.status.busy": "2025-01-04T11:49:54.971667Z",
     "iopub.status.idle": "2025-01-04T11:49:56.125063Z",
     "shell.execute_reply": "2025-01-04T11:49:56.124686Z"
    },
    "slideshow": {
     "slide_type": "slide"
    }
   },
   "outputs": [
    {
     "data": {
      "text/html": [
       "<table class=\"show_videos\" style=\"border-spacing:0px;\"><tr><td style=\"padding:1px;\"><div style=\"display:flex; align-items:left;\">\n",
       "      <div style=\"display:flex; flex-direction:column; align-items:center;\">\n",
       "      <div>2d-GridWorld</div><div><video controls width=\"256\" height=\"256\" style=\"object-fit:cover;\" loop autoplay muted>\n",
       "      <source src=\"data:video/mp4;base64,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\" type=\"video/mp4\"/>\n",
       "      This browser does not support the video tag.\n",
       "      </video></div></div></div></td></tr></table>"
      ],
      "text/plain": [
       "<IPython.core.display.HTML object>"
      ]
     },
     "metadata": {},
     "output_type": "display_data"
    }
   ],
   "source": [
    "behavior_policy = BehaviorPolicy2dGridFactory.random\n",
    "if isinstance(selected_environment.value, EnvFactory):\n",
    "    env = EnvFactory[selected_environment.value].get_env(render_mode=RenderMode.RGB_ARRAY)\n",
    "    if isinstance(env.unwrapped, Custom2DGridEnv):\n",
    "        env.set_new_obstacle_map(selected_obstacle.value.value)\n",
    "        behavior_policy = selected_grid_world_policy.value\n",
    "else:\n",
    "    env = gym.make(selected_environment.value, render_mode=\"rgb_array\")\n",
    "\n",
    "offpolicy_rendering(\n",
    "    env_or_env_name=env,\n",
    "    render_mode=RenderMode.RGB_ARRAY,\n",
    "    behavior_policy=behavior_policy,\n",
    "    num_frames=100,\n",
    "    fps=10,\n",
    ")"
   ]
  },
  {
   "cell_type": "markdown",
   "metadata": {
    "slideshow": {
     "slide_type": "slide"
    }
   },
   "source": [
    "## STEP 2: Create Minari datasets"
   ]
  },
  {
   "cell_type": "code",
   "execution_count": 7,
   "metadata": {
    "execution": {
     "iopub.execute_input": "2025-01-04T11:49:56.126310Z",
     "iopub.status.busy": "2025-01-04T11:49:56.126207Z",
     "iopub.status.idle": "2025-01-04T11:49:56.159519Z",
     "shell.execute_reply": "2025-01-04T11:49:56.159228Z"
    },
    "slideshow": {
     "slide_type": "slide"
    }
   },
   "outputs": [
    {
     "name": "stdout",
     "output_type": "stream",
     "text": [
      "Dataset Grid_2D_8x8_discrete-data_collected_data_nb_92-v0 deleted!\n"
     ]
    }
   ],
   "source": [
    "DATA_SET_IDENTIFIER_I = \"_collected_data_nb_92\"\n",
    "NUM_STEPS_I = 500\n",
    "\n",
    "data_set_config = create_minari_datasets(\n",
    "    env_name=env.spec.id,\n",
    "    dataset_identifier=DATA_SET_IDENTIFIER_I,\n",
    "    num_collected_points=NUM_STEPS_I,\n",
    "    behavior_policy=behavior_policy,\n",
    ")"
   ]
  },
  {
   "cell_type": "markdown",
   "metadata": {},
   "source": [
    "**Congratulations! You have created your first Minari dataset. Take a look at `src/offline_rl/data`.**"
   ]
  },
  {
   "cell_type": "markdown",
   "metadata": {
    "slideshow": {
     "slide_type": "slide"
    }
   },
   "source": [
    "## STEP 3: Feed dataset to Tianshou ReplayBuffer"
   ]
  },
  {
   "cell_type": "code",
   "execution_count": 8,
   "metadata": {
    "execution": {
     "iopub.execute_input": "2025-01-04T11:49:56.160862Z",
     "iopub.status.busy": "2025-01-04T11:49:56.160775Z",
     "iopub.status.idle": "2025-01-04T11:49:56.175525Z",
     "shell.execute_reply": "2025-01-04T11:49:56.175091Z"
    },
    "slideshow": {
     "slide_type": "slide"
    }
   },
   "outputs": [
    {
     "name": "stdout",
     "output_type": "stream",
     "text": [
      "Dataset /home/ivan/Documents/GIT_PROJECTS/offline-rl/src/offline_rl/data/offline_data/Grid_2D_8x8_discrete-data_collected_data_nb_92-v0 downloaded. number of episodes: 10\n",
      "The number of dataset points is 500\n",
      "Batch(\n",
      "    obs: array([1., 0., 0., 0., 0., 0., 0., 0., 0., 0., 0., 0., 0., 0., 0., 0., 0.,\n",
      "                0., 0., 0., 0., 0., 0., 0., 0., 0., 0., 0., 0., 0., 0., 0., 0., 0.,\n",
      "                0., 0., 0., 0., 0., 0., 0., 0., 0., 0., 0., 0., 0., 0., 0., 0., 0.,\n",
      "                0., 0., 0., 0., 0., 0., 0., 0., 0., 0., 0., 0., 0.]),\n",
      "    act: array(0),\n",
      "    rew: array(-1.),\n",
      "    terminated: array(False),\n",
      "    truncated: array(0.),\n",
      "    done: array(False),\n",
      "    obs_next: array([1., 0., 0., 0., 0., 0., 0., 0., 0., 0., 0., 0., 0., 0., 0., 0., 0.,\n",
      "                     0., 0., 0., 0., 0., 0., 0., 0., 0., 0., 0., 0., 0., 0., 0., 0., 0.,\n",
      "                     0., 0., 0., 0., 0., 0., 0., 0., 0., 0., 0., 0., 0., 0., 0., 0., 0.,\n",
      "                     0., 0., 0., 0., 0., 0., 0., 0., 0., 0., 0., 0., 0.]),\n",
      "    info: Batch(),\n",
      "    policy: Batch(),\n",
      ")\n"
     ]
    }
   ],
   "source": [
    "buffer_data = load_buffer_minari(data_set_config.data_set_name)\n",
    "print(f\"The number of dataset points is {len(buffer_data)}\")\n",
    "\n",
    "for elem in buffer_data:\n",
    "    print(elem)\n",
    "    break"
   ]
  },
  {
   "cell_type": "markdown",
   "metadata": {
    "slideshow": {
     "slide_type": "slide"
    }
   },
   "source": [
    "**Let's give a look to the collected 2d grid world data**\n",
    "\n",
    "**Useful information:**\n",
    "\n",
    "In our grid world environment, the agent's position is represented as $(x_1, x_2)$, with $x_1/x_2$ the vertical/horizontal coordinates. Observations are represented as a one-hot encoded vector of dimensions $x_1 \\times x_2$, for example, a 64-dimensional vector in an 8x8 grid,\n",
    " \n",
    "\n",
    "The action is represented by an integer in the range of [0, 1, 2, 3], each indicating a direction:\n",
    "\n",
    "    0: (-1, 0) - UP\n",
    "    1: (1, 0) - DOWN\n",
    "    2: (0, -1) - LEFT\n",
    "    3: (0, 1) - RIGHT\n",
    "\n"
   ]
  },
  {
   "cell_type": "code",
   "execution_count": 9,
   "metadata": {
    "execution": {
     "iopub.execute_input": "2025-01-04T11:49:56.176960Z",
     "iopub.status.busy": "2025-01-04T11:49:56.176876Z",
     "iopub.status.idle": "2025-01-04T11:49:56.611484Z",
     "shell.execute_reply": "2025-01-04T11:49:56.611218Z"
    },
    "slideshow": {
     "slide_type": "slide"
    }
   },
   "outputs": [
    {
     "data": {
      "image/png": "[encoded data removed]",
      "text/plain": [
       "<Figure size 1000x500 with 1 Axes>"
      ]
     },
     "metadata": {},
     "output_type": "display_data"
    },
    {
     "data": {
      "image/png": "[encoded data removed]",
      "text/plain": [
       "<Figure size 640x480 with 1 Axes>"
      ]
     },
     "metadata": {},
     "output_type": "display_data"
    }
   ],
   "source": [
    "# Compute state-action data distribution\n",
    "if type(env.unwrapped).__name__== \"Custom2DGridEnv\":\n",
    "    state_action_count_data, _ = get_state_action_data_and_policy_grid_distributions(\n",
    "        buffer_data, env\n",
    "    )\n",
    "    snapshot_env(env)\n",
    "else:\n",
    "    raise ValueError(f\"To analyze the data the environment should be of type {Custom2DGridEnv}.\")"
   ]
  },
  {
   "cell_type": "markdown",
   "metadata": {
    "slideshow": {
     "slide_type": "slide"
    }
   },
   "source": [
    "## References\n",
    "\n",
    "[ \\[Fu.Justin et. al.\\] D4RL: Datasets for Deep Data-Driven Reinforcement Learning](https://arxiv.org/abs/2004.07219)\n",
    "\n",
    "[ MINARI: A dataset API for Offline Reinforcement Learning ](https://minari.farama.org/main/content/basic_usage/)"
   ]
  },
  {
   "cell_type": "code",
   "execution_count": null,
   "metadata": {},
   "outputs": [],
   "source": []
  }
 ],
 "metadata": {
  "celltoolbar": "Slideshow",
  "kernelspec": {
   "display_name": "offline-rl-example",
   "language": "python",
   "name": "offline-rl-example"
  },
  "language_info": {
   "codemirror_mode": {
    "name": "ipython",
    "version": 3
   },
   "file_extension": ".py",
   "mimetype": "text/x-python",
   "name": "python",
   "nbconvert_exporter": "python",
   "pygments_lexer": "ipython3",
   "version": "3.11.11"
  },
  "toc": {
   "base_numbering": 1,
   "nav_menu": {
    "height": "121px",
    "width": "195px"
   },
   "number_sections": true,
   "sideBar": true,
   "skip_h1_title": false,
   "title_cell": "Table of Contents",
   "title_sidebar": "Contents",
   "toc_cell": false,
   "toc_position": {},
   "toc_section_display": true,
   "toc_window_display": true
  },
  "widgets": {
   "application/vnd.jupyter.widget-state+json": {
    "state": {
     "160c0e21b2cc44e0beb09e5b32b776ef": {
      "model_module": "@jupyter-widgets/controls",
      "model_module_version": "2.0.0",
      "model_name": "DescriptionStyleModel",
      "state": {
       "_model_module": "@jupyter-widgets/controls",
       "_model_module_version": "2.0.0",
       "_model_name": "DescriptionStyleModel",
       "_view_count": null,
       "_view_module": "@jupyter-widgets/base",
       "_view_module_version": "2.0.0",
       "_view_name": "StyleView",
       "description_width": ""
      }
     },
     "21135d2899f649b78859aba995b841cb": {
      "model_module": "@jupyter-widgets/controls",
      "model_module_version": "2.0.0",
      "model_name": "DescriptionStyleModel",
      "state": {
       "_model_module": "@jupyter-widgets/controls",
       "_model_module_version": "2.0.0",
       "_model_name": "DescriptionStyleModel",
       "_view_count": null,
       "_view_module": "@jupyter-widgets/base",
       "_view_module_version": "2.0.0",
       "_view_name": "StyleView",
       "description_width": ""
      }
     },
     "23fba8240db742a8a52a4559f2326d6d": {
      "model_module": "@jupyter-widgets/controls",
      "model_module_version": "2.0.0",
      "model_name": "DescriptionStyleModel",
      "state": {
       "_model_module": "@jupyter-widgets/controls",
       "_model_module_version": "2.0.0",
       "_model_name": "DescriptionStyleModel",
       "_view_count": null,
       "_view_module": "@jupyter-widgets/base",
       "_view_module_version": "2.0.0",
       "_view_name": "StyleView",
       "description_width": ""
      }
     },
     "79678eef72ff4c09b34a8da0fea87e59": {
      "model_module": "@jupyter-widgets/base",
      "model_module_version": "2.0.0",
      "model_name": "LayoutModel",
      "state": {
       "_model_module": "@jupyter-widgets/base",
       "_model_module_version": "2.0.0",
       "_model_name": "LayoutModel",
       "_view_count": null,
       "_view_module": "@jupyter-widgets/base",
       "_view_module_version": "2.0.0",
       "_view_name": "LayoutView",
       "align_content": null,
       "align_items": null,
       "align_self": null,
       "border_bottom": null,
       "border_left": null,
       "border_right": null,
       "border_top": null,
       "bottom": null,
       "display": null,
       "flex": null,
       "flex_flow": null,
       "grid_area": null,
       "grid_auto_columns": null,
       "grid_auto_flow": null,
       "grid_auto_rows": null,
       "grid_column": null,
       "grid_gap": null,
       "grid_row": null,
       "grid_template_areas": null,
       "grid_template_columns": null,
       "grid_template_rows": null,
       "height": null,
       "justify_content": null,
       "justify_items": null,
       "left": null,
       "margin": null,
       "max_height": null,
       "max_width": null,
       "min_height": null,
       "min_width": null,
       "object_fit": null,
       "object_position": null,
       "order": null,
       "overflow": null,
       "padding": null,
       "right": null,
       "top": null,
       "visibility": null,
       "width": null
      }
     },
     "850fea6582bd44309c079b6839ecba76": {
      "model_module": "@jupyter-widgets/base",
      "model_module_version": "2.0.0",
      "model_name": "LayoutModel",
      "state": {
       "_model_module": "@jupyter-widgets/base",
       "_model_module_version": "2.0.0",
       "_model_name": "LayoutModel",
       "_view_count": null,
       "_view_module": "@jupyter-widgets/base",
       "_view_module_version": "2.0.0",
       "_view_name": "LayoutView",
       "align_content": null,
       "align_items": null,
       "align_self": null,
       "border_bottom": null,
       "border_left": null,
       "border_right": null,
       "border_top": null,
       "bottom": null,
       "display": null,
       "flex": null,
       "flex_flow": null,
       "grid_area": null,
       "grid_auto_columns": null,
       "grid_auto_flow": null,
       "grid_auto_rows": null,
       "grid_column": null,
       "grid_gap": null,
       "grid_row": null,
       "grid_template_areas": null,
       "grid_template_columns": null,
       "grid_template_rows": null,
       "height": null,
       "justify_content": null,
       "justify_items": null,
       "left": null,
       "margin": null,
       "max_height": null,
       "max_width": null,
       "min_height": null,
       "min_width": null,
       "object_fit": null,
       "object_position": null,
       "order": null,
       "overflow": null,
       "padding": null,
       "right": null,
       "top": null,
       "visibility": null,
       "width": null
      }
     },
     "8d64aec037474b4aac84351d7b5cdb84": {
      "model_module": "@jupyter-widgets/controls",
      "model_module_version": "2.0.0",
      "model_name": "DropdownModel",
      "state": {
       "_dom_classes": [],
       "_model_module": "@jupyter-widgets/controls",
       "_model_module_version": "2.0.0",
       "_model_name": "DropdownModel",
       "_options_labels": [
        "suboptimal_8x8",
        "random",
        "deterministic_8x8"
       ],
       "_view_count": null,
       "_view_module": "@jupyter-widgets/controls",
       "_view_module_version": "2.0.0",
       "_view_name": "DropdownView",
       "description": "grid policy",
       "description_allow_html": false,
       "disabled": false,
       "index": 0,
       "layout": "IPY_MODEL_964d358293f44d7ab96192b0ba83e7ff",
       "style": "IPY_MODEL_23fba8240db742a8a52a4559f2326d6d",
       "tabbable": null,
       "tooltip": null
      }
     },
     "964d358293f44d7ab96192b0ba83e7ff": {
      "model_module": "@jupyter-widgets/base",
      "model_module_version": "2.0.0",
      "model_name": "LayoutModel",
      "state": {
       "_model_module": "@jupyter-widgets/base",
       "_model_module_version": "2.0.0",
       "_model_name": "LayoutModel",
       "_view_count": null,
       "_view_module": "@jupyter-widgets/base",
       "_view_module_version": "2.0.0",
       "_view_name": "LayoutView",
       "align_content": null,
       "align_items": null,
       "align_self": null,
       "border_bottom": null,
       "border_left": null,
       "border_right": null,
       "border_top": null,
       "bottom": null,
       "display": null,
       "flex": null,
       "flex_flow": null,
       "grid_area": null,
       "grid_auto_columns": null,
       "grid_auto_flow": null,
       "grid_auto_rows": null,
       "grid_column": null,
       "grid_gap": null,
       "grid_row": null,
       "grid_template_areas": null,
       "grid_template_columns": null,
       "grid_template_rows": null,
       "height": null,
       "justify_content": null,
       "justify_items": null,
       "left": null,
       "margin": null,
       "max_height": null,
       "max_width": null,
       "min_height": null,
       "min_width": null,
       "object_fit": null,
       "object_position": null,
       "order": null,
       "overflow": null,
       "padding": null,
       "right": null,
       "top": null,
       "visibility": null,
       "width": null
      }
     },
     "b6173c5872df487cac0f90e39648ba3e": {
      "model_module": "@jupyter-widgets/controls",
      "model_module_version": "2.0.0",
      "model_name": "DropdownModel",
      "state": {
       "_dom_classes": [],
       "_model_module": "@jupyter-widgets/controls",
       "_model_module_version": "2.0.0",
       "_model_name": "DropdownModel",
       "_options_labels": [
        "Grid_2D_8x8_discrete",
        "InvertedPendulum-v4",
        "Humanoid-v4",
        "AdroitHandHammer-v1",
        "HalfCheetah-v4"
       ],
       "_view_count": null,
       "_view_module": "@jupyter-widgets/controls",
       "_view_module_version": "2.0.0",
       "_view_name": "DropdownView",
       "description": "Mixed envs.",
       "description_allow_html": false,
       "disabled": false,
       "index": 0,
       "layout": "IPY_MODEL_850fea6582bd44309c079b6839ecba76",
       "style": "IPY_MODEL_160c0e21b2cc44e0beb09e5b32b776ef",
       "tabbable": null,
       "tooltip": null
      }
     },
     "cc1e3d81beef459a9be64cdcddc9bba5": {
      "model_module": "@jupyter-widgets/controls",
      "model_module_version": "2.0.0",
      "model_name": "DropdownModel",
      "state": {
       "_dom_classes": [],
       "_model_module": "@jupyter-widgets/controls",
       "_model_module_version": "2.0.0",
       "_model_name": "DropdownModel",
       "_options_labels": [
        "ObstacleTypes.obstacle_8x8_top_right",
        "ObstacleTypes.obst_free_8x8"
       ],
       "_view_count": null,
       "_view_module": "@jupyter-widgets/controls",
       "_view_module_version": "2.0.0",
       "_view_name": "DropdownView",
       "description": "grid obst.",
       "description_allow_html": false,
       "disabled": false,
       "index": 0,
       "layout": "IPY_MODEL_79678eef72ff4c09b34a8da0fea87e59",
       "style": "IPY_MODEL_21135d2899f649b78859aba995b841cb",
       "tabbable": null,
       "tooltip": null
      }
     }
    },
    "version_major": 2,
    "version_minor": 0
   }
  }
 },
 "nbformat": 4,
 "nbformat_minor": 1
}
