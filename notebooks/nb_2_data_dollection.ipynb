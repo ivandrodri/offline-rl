{
 "cells": [
  {
   "cell_type": "code",
   "execution_count": 22,
   "metadata": {
    "ExecuteTime": {
     "end_time": "2024-12-24T17:17:23.947148Z",
     "start_time": "2024-12-24T17:17:22.960743Z"
    }
   },
   "outputs": [],
   "source": [
    "%%capture\n",
    "%load_ext autoreload\n",
    "%autoreload 2\n",
    "%matplotlib inline\n",
    "%load_ext training_rl\n",
    "%load_ext tensorboard\n",
    "%set_random_seed 12"
   ]
  },
  {
   "cell_type": "code",
   "execution_count": 23,
   "metadata": {
    "ExecuteTime": {
     "end_time": "2024-12-24T17:17:24.380771Z",
     "start_time": "2024-12-24T17:17:24.370118Z"
    }
   },
   "outputs": [
    {
     "data": {
      "text/html": [
       "<style>/*\n",
       "This file is mainly copy-pasta from rise's examples\n",
       "https://github.com/damianavila/RISE/blob/master/examples/rise.css\n",
       "*/\n",
       "@import url('https://fonts.googleapis.com/css2?family=Work+Sans:wght@400&display=swap');\n",
       "\n",
       "\n",
       "/*\n",
       "body {\n",
       "    font-family: 'Work Sans', sans-serif !important;\n",
       "    text-transform: initial !important;\n",
       "    letter-spacing: initial !important;\n",
       "    font-weight: 400 !important;\n",
       "    line-height: 1.5 !important;\n",
       "    text-size-adjust: 100% !important;\n",
       "    ‑webkit‑text‑size‑adjust: 100% !important;\n",
       "}\n",
       "\n",
       "\n",
       ".reveal, div.text_cell_render, .md-slide, .sidebar-wrapper {\n",
       "    font-size: 1.5rem !important;\n",
       "}\n",
       "*/\n",
       "\n",
       ".navbar-default .navbar-nav > li > a {\n",
       "    color: #00747b !important;\n",
       "}\n",
       "\n",
       ".filename {\n",
       "    font-size: 2.4rem !important;\n",
       "    color: #212529 !important;\n",
       "    font-weight: 600 !important;\n",
       "}\n",
       "\n",
       ".reveal, .md-slide {\n",
       "    color: white !important;\n",
       "}\n",
       "\n",
       "h1, h2 {\n",
       "    color: #00747b !important;\n",
       "}\n",
       "\n",
       "h3, h4, h5, h6 {\n",
       "    color: #808080 !important;\n",
       "}\n",
       "\n",
       ".reveal p, .reveal ol, .reveal dl, .reveal ul,\n",
       "div.text_cell_render {\n",
       "    color: #212529 !important;\n",
       "}\n",
       "\n",
       "/*copied from stackoverflow, better spacing between list items*/\n",
       "li + li {\n",
       "  margin-top: 0.2em;\n",
       "}\n",
       "\n",
       "body.rise-enabled .reveal ol, body.rise-enabled .reveal dl, body.rise-enabled .reveal ul {\n",
       "    margin-left: 0.1em;\n",
       "    margin-top: 0.2em;\n",
       "}\n",
       "\n",
       ".reveal .rendered_html h1:first-child,\n",
       ".reveal .rendered_html h2:first-child,\n",
       ".reveal .rendered_html h3:first-child,\n",
       ".reveal .rendered_html h4:first-child,\n",
       ".reveal .rendered_html h5:first-child {\n",
       "    margin-top: 0.2em;\n",
       "}\n",
       "\n",
       "/*\n",
       ".CodeMirror-lines, .output_text {\n",
       "    font-size: 1.5rem !important;\n",
       "}\n",
       "*/\n",
       "\n",
       "h1.plan, h2.plan, h3.plan {\n",
       "    text-align: center;\n",
       "    padding-bottom: 30px;\n",
       "}\n",
       "\n",
       "ul.plan>li>span.plan-bold {\n",
       "    font-size: 110%;\n",
       "    padding: 4px;\n",
       "    font-weight: bold;\n",
       "    background-color: #eee;\n",
       "}\n",
       "\n",
       "ul.plan>li>ul.subplan>li>span.plan-bold {\n",
       "    font-weight: bold;\n",
       "}\n",
       "\n",
       ".plan-strike {\n",
       "    opacity: 0.4;\n",
       "/*    text-decoration: line-through; */\n",
       "}\n",
       "\n",
       "div.plan-container {\n",
       "    display: grid;\n",
       "    grid-template-columns: 50% 50%;\n",
       "}\n",
       "\n",
       "/*\n",
       " * this is to void xarray's html output to show the fallback textual representation\n",
       " * see also\n",
       "   * xarray.md and\n",
       "   * https://github.com/damianavila/RISE/issues/594\n",
       " */\n",
       ".reveal pre.xr-text-repr-fallback {\n",
       "    display: none;\n",
       "}\n",
       "\n",
       "#toc-header, .toc-item li {\n",
       "    margin: auto !important;\n",
       "    color: #808080 !important;\n",
       "}\n",
       "\n",
       "#toc, #toc-wrapper, .toc-item-num, #toc a, .toc {\n",
       "    margin: auto !important;\n",
       "    color: #00747b !important;\n",
       "}\n",
       "\n",
       "#toc-wrapper {\n",
       "    top: auto !important;\n",
       "    bottom: auto !important;\n",
       "    margin-top: 2rem !important;\n",
       "    color: #00747b !important;\n",
       "}\n",
       "\n",
       "\n",
       "#rise-header {\n",
       "    margin: 10px;\n",
       "    left: 5%;\n",
       "}\n",
       "\n",
       "#rise-footer {\n",
       "    margin: 10px;\n",
       "    right: 5%;\n",
       "}\n",
       "\n",
       "#rise-backimage {\n",
       "    opacity: 0.70;\n",
       "}\n",
       "\n",
       ".reveal img {\n",
       "    max-width: 100%;\n",
       "}\n",
       "\n",
       "\n",
       ".md-slide.title {\n",
       "    position: relative;\n",
       "    top: -50%;\n",
       "    margin-left: 5%;\n",
       "    font-size: 4em !important;\n",
       "    line-height: 1.6;\n",
       "}\n",
       "</style>"
      ],
      "text/plain": [
       "<IPython.core.display.HTML object>"
      ]
     },
     "execution_count": 23,
     "metadata": {},
     "output_type": "execute_result"
    }
   ],
   "source": [
    "%presentation_style"
   ]
  },
  {
   "cell_type": "code",
   "execution_count": 24,
   "metadata": {
    "ExecuteTime": {
     "end_time": "2024-12-24T17:17:25.492815Z",
     "start_time": "2024-12-24T17:17:25.480352Z"
    }
   },
   "outputs": [
    {
     "data": {
      "text/markdown": [
       "\n",
       "$\\newcommand{\\vect}[1]{{\\mathbf{\\boldsymbol{#1}} }}$\n",
       "$\\newcommand{\\amax}{{\\text{argmax}}}$\n",
       "$\\newcommand{\\P}{{\\mathbb{P}}}$\n",
       "$\\newcommand{\\E}{{\\mathbb{E}}}$\n",
       "$\\newcommand{\\R}{{\\mathbb{R}}}$\n",
       "$\\newcommand{\\Z}{{\\mathbb{Z}}}$\n",
       "$\\newcommand{\\N}{{\\mathbb{N}}}$\n",
       "$\\newcommand{\\C}{{\\mathbb{C}}}$\n",
       "$\\newcommand{\\abs}[1]{{ \\left| #1 \\right| }}$\n",
       "$\\newcommand{\\simpl}[1]{{\\Delta^{#1} }}$\n"
      ],
      "text/plain": [
       "<IPython.core.display.Markdown object>"
      ]
     },
     "metadata": {},
     "output_type": "display_data"
    }
   ],
   "source": [
    "%load_latex_macros"
   ]
  },
  {
   "cell_type": "code",
   "execution_count": 25,
   "metadata": {
    "ExecuteTime": {
     "end_time": "2024-12-24T17:17:26.354170Z",
     "start_time": "2024-12-24T17:17:26.341575Z"
    }
   },
   "outputs": [],
   "source": [
    "#%tensorboard --logdir ../src/training_rl/offline_rl/ --host localhost"
   ]
  },
  {
   "cell_type": "code",
   "execution_count": 26,
   "metadata": {
    "ExecuteTime": {
     "end_time": "2024-12-24T17:17:52.173185Z",
     "start_time": "2024-12-24T17:17:27.120210Z"
    }
   },
   "outputs": [],
   "source": [
    "from offline_rl.load_env_variables import load_env_variables\n",
    "load_env_variables()\n",
    "#load_env_variables(\"/home/jovyan/tfl-training-rl/src/training_rl/offline_rl/\")\n",
    "\n",
    "import warnings\n",
    "import os\n",
    "\n",
    "import gymnasium as gym\n",
    "from offline_rl.custom_envs.custom_2d_grid_env.obstacles_2D_grid_register import \\\n",
    "    ObstacleTypes\n",
    "from offline_rl.custom_envs.custom_2d_grid_env.simple_grid import \\\n",
    "    Custom2DGridEnv\n",
    "from offline_rl.custom_envs.custom_envs_registration import RenderMode, register_grid_envs\n",
    "from offline_rl.offline_policies.offpolicy_rendering import \\\n",
    "    offpolicy_rendering\n",
    "from offline_rl.utils import load_buffer_minari\n",
    "from offline_rl.visualizations.utils import get_state_action_data_and_policy_grid_distributions, snapshot_env\n",
    "from offline_rl.utils import widget_list\n",
    "from offline_rl.behavior_policies.behavior_policy_registry import BehaviorPolicyType\n",
    "from offline_rl.custom_envs.custom_envs_registration import EnvFactory\n",
    "from offline_rl.generate_custom_minari_datasets.generate_minari_dataset_grid_envs import create_minari_datasets\n",
    "\n",
    "if not os.environ.get(\"DISPLAY\"):\n",
    "    os.environ['MUJOCO_GL'] = 'egl'\n",
    "\n",
    "warnings.filterwarnings(\"ignore\")\n",
    "# To get access to the registered environments.\n",
    "register_grid_envs()"
   ]
  },
  {
   "cell_type": "markdown",
   "metadata": {
    "slideshow": {
     "slide_type": "slide"
    }
   },
   "source": [
    "<img src=\"_static/images/aai-institute-cover.svg\" alt=\"Snow\" style=\"width:100%;\">\n",
    "<div class=\"md-slide title\"> Minari Overview </div>"
   ]
  },
  {
   "cell_type": "markdown",
   "metadata": {
    "slideshow": {
     "slide_type": "slide"
    }
   },
   "source": [
    "# Exercise: Minari data collection\n",
    "\n",
    "In this exercise you don't have any homework. The idea is to play around with it to get familiar with the code  (notebooks and source code) and with the way we collect data.\n",
    "\n",
    "Remember that the pipeline for offline learning will be the following:\n",
    "\n",
    "<img src=\"_static/images/93_offline_RL_pipeline.png\" alt=\"Snow\" style=\"width:50%;\">\n",
    "\n",
    "In this notebook we will be exploring the steps 1-2-3 . It would be a good idea now to give a look to the code structure:\n",
    "\n",
    "<img src=\"_static/images/93_code_structure.png\" alt=\"Snow\" style=\"width:20%;\">\n",
    "\n",
    "You can also give a look to [Minari documentation](https://minari.farama.org/main/content/basic_usage/) if needed."
   ]
  },
  {
   "cell_type": "markdown",
   "metadata": {
    "slideshow": {
     "slide_type": "slide"
    }
   },
   "source": [
    "## STEP 1: Create the environments"
   ]
  },
  {
   "cell_type": "code",
   "execution_count": 27,
   "metadata": {
    "ExecuteTime": {
     "end_time": "2024-12-24T17:18:00.114767Z",
     "start_time": "2024-12-24T17:18:00.099474Z"
    },
    "slideshow": {
     "slide_type": "slide"
    }
   },
   "outputs": [],
   "source": [
    "# List of different environments \n",
    "ENV_LIST = [\n",
    "    EnvFactory.Grid_2D_8x8_discrete,\n",
    "    \"InvertedPendulum-v4\", \n",
    "    \"Humanoid-v4\", \n",
    "    \"AdroitHandHammer-v1\",\n",
    "    \"HalfCheetah-v4\",\n",
    "]\n",
    "\n",
    "# obstacles to be used with the 2d grid-world\n",
    "grid_world_obstacles = [\n",
    "    ObstacleTypes.obstacle_8x8_top_right,\n",
    "    ObstacleTypes.obst_free_8x8, \n",
    "]\n",
    "\n",
    "# behavior policies to be used with 2d grid-world\n",
    "behavior_policy_grid_world = [\n",
    "    BehaviorPolicyType.behavior_8x8_suboptimal_initial_0_0_final_0_7,\n",
    "    BehaviorPolicyType.random,\n",
    "    BehaviorPolicyType.behavior_8x8_grid_deterministic_0_0_to_4_7,\n",
    "]"
   ]
  },
  {
   "cell_type": "code",
   "execution_count": 28,
   "metadata": {
    "ExecuteTime": {
     "end_time": "2024-12-24T17:18:01.468242Z",
     "start_time": "2024-12-24T17:18:01.449463Z"
    },
    "slideshow": {
     "slide_type": "slide"
    }
   },
   "outputs": [
    {
     "data": {
      "application/vnd.jupyter.widget-view+json": {
       "model_id": "c4cb721d97b743ac820e9c85b915d2b3",
       "version_major": 2,
       "version_minor": 0
      },
      "text/plain": [
       "Dropdown(description='Mixed envs.', options=(<EnvFactory.Grid_2D_8x8_discrete: 'Grid_2D_8x8_discrete'>, 'Inver…"
      ]
     },
     "metadata": {},
     "output_type": "display_data"
    },
    {
     "data": {
      "application/vnd.jupyter.widget-view+json": {
       "model_id": "5be9eabd615d492a81dc6de8eeb58909",
       "version_major": 2,
       "version_minor": 0
      },
      "text/plain": [
       "Dropdown(description='grid obst.', options=(<ObstacleTypes.obstacle_8x8_top_right: ['00000100', '00000100', '0…"
      ]
     },
     "metadata": {},
     "output_type": "display_data"
    },
    {
     "data": {
      "application/vnd.jupyter.widget-view+json": {
       "model_id": "6b6b6098fbdd45e8aea76cb063035cc8",
       "version_major": 2,
       "version_minor": 0
      },
      "text/plain": [
       "Dropdown(description='grid policy', options=(<BehaviorPolicyType.behavior_8x8_suboptimal_initial_0_0_final_0_7…"
      ]
     },
     "metadata": {},
     "output_type": "display_data"
    }
   ],
   "source": [
    "selected_environment = widget_list(ENV_LIST, description=\"Mixed envs.\")\n",
    "selected_obstacle = widget_list(grid_world_obstacles, description=\"grid obst.\" )\n",
    "selected_grid_world_policy = widget_list(behavior_policy_grid_world, description=\"grid policy\")"
   ]
  },
  {
   "cell_type": "markdown",
   "metadata": {
    "slideshow": {
     "slide_type": "slide"
    }
   },
   "source": [
    "**Select and render behavior policies**"
   ]
  },
  {
   "cell_type": "code",
   "execution_count": 29,
   "metadata": {
    "ExecuteTime": {
     "end_time": "2024-12-24T17:18:05.024770Z",
     "start_time": "2024-12-24T17:18:03.544618Z"
    },
    "slideshow": {
     "slide_type": "slide"
    }
   },
   "outputs": [
    {
     "data": {
      "text/html": [
       "<table class=\"show_videos\" style=\"border-spacing:0px;\"><tr><td style=\"padding:1px;\"><div style=\"display:flex; align-items:left;\">\n",
       "      <div style=\"display:flex; flex-direction:column; align-items:center;\">\n",
       "      <div>2d-GridWorld</div><div><video controls width=\"256\" height=\"256\" style=\"object-fit:cover;\" loop autoplay muted>\n",
       "      <source src=\"data:video/mp4;base64,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\" type=\"video/mp4\"/>\n",
       "      This browser does not support the video tag.\n",
       "      </video></div></div></div></td></tr></table>"
      ],
      "text/plain": [
       "<IPython.core.display.HTML object>"
      ]
     },
     "metadata": {},
     "output_type": "display_data"
    }
   ],
   "source": [
    "behavior_policy = BehaviorPolicyType.random\n",
    "if isinstance(selected_environment.value, EnvFactory):\n",
    "    env = EnvFactory[selected_environment.value].get_env(render_mode=RenderMode.RGB_ARRAY_LIST)\n",
    "    if isinstance(env.unwrapped, Custom2DGridEnv):\n",
    "        env.set_new_obstacle_map(selected_obstacle.value.value)\n",
    "        behavior_policy = selected_grid_world_policy.value\n",
    "else:\n",
    "    env = gym.make(selected_environment.value, render_mode=\"rgb_array_list\")\n",
    "    \n",
    "offpolicy_rendering(\n",
    "    env_or_env_name=env,\n",
    "    render_mode=RenderMode.RGB_ARRAY_LIST,\n",
    "    behavior_policy_name=behavior_policy,\n",
    "    num_frames=100,\n",
    "    fps=10,\n",
    ")"
   ]
  },
  {
   "cell_type": "markdown",
   "metadata": {
    "slideshow": {
     "slide_type": "slide"
    }
   },
   "source": [
    "## STEP 2: Create Minari datasets"
   ]
  },
  {
   "cell_type": "code",
   "execution_count": 30,
   "metadata": {
    "ExecuteTime": {
     "end_time": "2024-12-24T17:18:07.991667Z",
     "start_time": "2024-12-24T17:18:07.946043Z"
    },
    "slideshow": {
     "slide_type": "slide"
    }
   },
   "outputs": [
    {
     "name": "stdout",
     "output_type": "stream",
     "text": [
      "Dataset Grid_2D_8x8_discrete-data-v0 deleted!\n"
     ]
    }
   ],
   "source": [
    "DATA_SET_IDENTIFIER_I = \"_collected_data_nb_92\"\n",
    "NUM_STEPS_I = 500\n",
    "\n",
    "data_set_config = create_minari_datasets(\n",
    "    env_name=env.unwrapped.spec.id,\n",
    "    dataset_identifier=DATA_SET_IDENTIFIER_I,\n",
    "    num_colected_points=NUM_STEPS_I,\n",
    "    behavior_policy_name=behavior_policy,\n",
    ")"
   ]
  },
  {
   "cell_type": "markdown",
   "metadata": {
    "slideshow": {
     "slide_type": "slide"
    }
   },
   "source": [
    "## STEP 3: Feed dataset to Tianshou ReplayBuffer"
   ]
  },
  {
   "cell_type": "code",
   "execution_count": 31,
   "metadata": {
    "ExecuteTime": {
     "end_time": "2024-12-24T17:18:08.999666Z",
     "start_time": "2024-12-24T17:18:08.975820Z"
    },
    "slideshow": {
     "slide_type": "slide"
    }
   },
   "outputs": [
    {
     "name": "stdout",
     "output_type": "stream",
     "text": [
      "Dataset /home/ivan/Documents/GIT_PROJECTS/offline-rl/src/offline_rl/data/offline_data/Grid_2D_8x8_discrete-data-v0 downloaded. number of episodes: 11\n",
      "The number of dataset points is 500\n",
      "Batch(\n",
      "    obs: array([1., 0., 0., 0., 0., 0., 0., 0., 0., 0., 0., 0., 0., 0., 0., 0., 0.,\n",
      "                0., 0., 0., 0., 0., 0., 0., 0., 0., 0., 0., 0., 0., 0., 0., 0., 0.,\n",
      "                0., 0., 0., 0., 0., 0., 0., 0., 0., 0., 0., 0., 0., 0., 0., 0., 0.,\n",
      "                0., 0., 0., 0., 0., 0., 0., 0., 0., 0., 0., 0., 0.]),\n",
      "    act: array(3),\n",
      "    rew: array(-0.01440554),\n",
      "    terminated: array(False),\n",
      "    truncated: array(0.),\n",
      "    done: array(False),\n",
      "    obs_next: array([0., 1., 0., 0., 0., 0., 0., 0., 0., 0., 0., 0., 0., 0., 0., 0., 0.,\n",
      "                     0., 0., 0., 0., 0., 0., 0., 0., 0., 0., 0., 0., 0., 0., 0., 0., 0.,\n",
      "                     0., 0., 0., 0., 0., 0., 0., 0., 0., 0., 0., 0., 0., 0., 0., 0., 0.,\n",
      "                     0., 0., 0., 0., 0., 0., 0., 0., 0., 0., 0., 0., 0.]),\n",
      "    info: Batch(),\n",
      "    policy: Batch(),\n",
      ")\n"
     ]
    }
   ],
   "source": [
    "buffer_data = load_buffer_minari(data_set_config.data_set_name)\n",
    "print(f\"The number of dataset points is {len(buffer_data)}\")\n",
    "\n",
    "for elem in buffer_data:\n",
    "    print(elem)\n",
    "    break"
   ]
  },
  {
   "cell_type": "markdown",
   "metadata": {
    "slideshow": {
     "slide_type": "slide"
    }
   },
   "source": [
    "**Let's collect and visualize the 2d grid world data with one of its behavior policies**\n",
    "\n",
    "**Useful information:**\n",
    "\n",
    "In our grid world environment, the agent's position is represented as $(x_1, x_2)$, with $x_1/x_2$ the vertical/horizontal coordinates. Observations are represented as a one-hot encoded vector of dimensions $x_1 \\times x_2$, for example, a 64-dimensional vector in an 8x8 grid,\n",
    " \n",
    "\n",
    "The action is represented by an integer in the range of [0, 1, 2, 3], each indicating a direction:\n",
    "\n",
    "    0: (-1, 0) - UP\n",
    "    1: (1, 0) - DOWN\n",
    "    2: (0, -1) - LEFT\n",
    "    3: (0, 1) - RIGHT\n",
    "\n"
   ]
  },
  {
   "cell_type": "code",
   "execution_count": 32,
   "metadata": {
    "slideshow": {
     "slide_type": "slide"
    }
   },
   "outputs": [
    {
     "ename": "ValueError",
     "evalue": "To analyze the data the environment should be of type <class 'offline_rl.custom_envs.custom_2d_grid_env.simple_grid.Custom2DGridEnv'>.",
     "output_type": "error",
     "traceback": [
      "\u001b[0;31m---------------------------------------------------------------------------\u001b[0m",
      "\u001b[0;31mValueError\u001b[0m                                Traceback (most recent call last)",
      "Cell \u001b[0;32mIn[32], line 7\u001b[0m\n\u001b[1;32m      5\u001b[0m     snapshot_env(env)\n\u001b[1;32m      6\u001b[0m \u001b[38;5;28;01melse\u001b[39;00m:\n\u001b[0;32m----> 7\u001b[0m     \u001b[38;5;28;01mraise\u001b[39;00m \u001b[38;5;167;01mValueError\u001b[39;00m(\u001b[38;5;124mf\u001b[39m\u001b[38;5;124m\"\u001b[39m\u001b[38;5;124mTo analyze the data the environment should be of type \u001b[39m\u001b[38;5;132;01m{\u001b[39;00mCustom2DGridEnv\u001b[38;5;132;01m}\u001b[39;00m\u001b[38;5;124m.\u001b[39m\u001b[38;5;124m\"\u001b[39m)\n",
      "\u001b[0;31mValueError\u001b[0m: To analyze the data the environment should be of type <class 'offline_rl.custom_envs.custom_2d_grid_env.simple_grid.Custom2DGridEnv'>."
     ]
    }
   ],
   "source": [
    "# Compute state-action data distribution\n",
    "if isinstance(env.unwrapped, Custom2DGridEnv):\n",
    "    \n",
    "    state_action_count_data, _ = get_state_action_data_and_policy_grid_distributions(buffer_data, env)\n",
    "    snapshot_env(env)\n",
    "else:\n",
    "    raise ValueError(f\"To analyze the data the environment should be of type {Custom2DGridEnv}.\")"
   ]
  },
  {
   "cell_type": "markdown",
   "metadata": {
    "slideshow": {
     "slide_type": "slide"
    }
   },
   "source": [
    "## Summary\n",
    "\n",
    "To be done together."
   ]
  },
  {
   "cell_type": "markdown",
   "metadata": {
    "slideshow": {
     "slide_type": "slide"
    }
   },
   "source": [
    "## References\n",
    "\n",
    "[ \\[Fu.Justin et. al.\\] D4RL: Datasets for Deep Data-Driven Reinforcement Learning](https://arxiv.org/abs/2004.07219)\n",
    "\n",
    "[ MINARI: A dataset API for Offline Reinforcement Learning ](https://minari.farama.org/main/content/basic_usage/)"
   ]
  },
  {
   "cell_type": "code",
   "execution_count": null,
   "metadata": {},
   "outputs": [],
   "source": []
  },
  {
   "cell_type": "code",
   "execution_count": null,
   "metadata": {},
   "outputs": [],
   "source": []
  }
 ],
 "metadata": {
  "celltoolbar": "Slideshow",
  "kernelspec": {
   "display_name": "training_rl",
   "language": "python",
   "name": "training_rl"
  },
  "language_info": {
   "codemirror_mode": {
    "name": "ipython",
    "version": 3
   },
   "file_extension": ".py",
   "mimetype": "text/x-python",
   "name": "python",
   "nbconvert_exporter": "python",
   "pygments_lexer": "ipython3",
   "version": "3.11.8"
  },
  "toc": {
   "base_numbering": 1,
   "nav_menu": {
    "height": "121px",
    "width": "195px"
   },
   "number_sections": true,
   "sideBar": true,
   "skip_h1_title": false,
   "title_cell": "Table of Contents",
   "title_sidebar": "Contents",
   "toc_cell": false,
   "toc_position": {},
   "toc_section_display": true,
   "toc_window_display": true
  }
 },
 "nbformat": 4,
 "nbformat_minor": 1
}
