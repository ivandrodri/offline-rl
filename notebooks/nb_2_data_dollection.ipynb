{
 "cells": [
  {
   "cell_type": "code",
   "execution_count": 1,
   "metadata": {
    "execution": {
     "iopub.execute_input": "2025-01-04T17:51:45.922047Z",
     "iopub.status.busy": "2025-01-04T17:51:45.921801Z",
     "iopub.status.idle": "2025-01-04T17:51:46.163763Z",
     "shell.execute_reply": "2025-01-04T17:51:46.163441Z"
    }
   },
   "outputs": [],
   "source": [
    "%%capture\n",
    "%load_ext autoreload\n",
    "%autoreload 2\n",
    "%matplotlib inline\n",
    "%load_ext tensorboard\n",
    "%set_random_seed 12"
   ]
  },
  {
   "cell_type": "code",
   "execution_count": 2,
   "metadata": {
    "execution": {
     "iopub.execute_input": "2025-01-04T17:51:46.165452Z",
     "iopub.status.busy": "2025-01-04T17:51:46.165324Z",
     "iopub.status.idle": "2025-01-04T17:51:46.169545Z",
     "shell.execute_reply": "2025-01-04T17:51:46.169278Z"
    }
   },
   "outputs": [],
   "source": [
    "# %tensorboard --logdir ../src/training_rl/offline_rl/ --host localhost"
   ]
  },
  {
   "cell_type": "code",
   "execution_count": 3,
   "metadata": {
    "execution": {
     "iopub.execute_input": "2025-01-04T17:51:46.171027Z",
     "iopub.status.busy": "2025-01-04T17:51:46.170927Z",
     "iopub.status.idle": "2025-01-04T17:51:47.187744Z",
     "shell.execute_reply": "2025-01-04T17:51:47.187236Z"
    }
   },
   "outputs": [
    {
     "name": "stderr",
     "output_type": "stream",
     "text": [
      "sys:1: DeprecationWarning: DataCollectorV0 is deprecated and will be removed. Use DataCollector instead.\n"
     ]
    }
   ],
   "source": [
    "from src.offline_rl.set_env_variables import set_env_variables\n",
    "\n",
    "#set_env_variables(\"/home/jovyan/offline_re/src/training_rl/offline_rl/\")\n",
    "set_env_variables()\n",
    "\n",
    "import warnings\n",
    "import os\n",
    "\n",
    "import gymnasium as gym\n",
    "from src.offline_rl.custom_envs.custom_2d_grid_env.obstacles_2D_grid_register import ObstacleTypes\n",
    "from src.offline_rl.custom_envs.custom_2d_grid_env.simple_grid import Custom2DGridEnv\n",
    "from src.offline_rl.custom_envs.custom_envs_registration import RenderMode\n",
    "from src.offline_rl.offline_policies.offpolicy_rendering import offpolicy_rendering\n",
    "from src.offline_rl.utils import load_buffer_minari\n",
    "from src.offline_rl.visualizations.utils import (\n",
    "    get_state_action_data_and_policy_grid_distributions,\n",
    "    snapshot_env,\n",
    ")\n",
    "from src.offline_rl.utils import widget_list\n",
    "from src.offline_rl.custom_envs.custom_envs_registration import EnvFactory\n",
    "from offline_rl.behavior_policies.behavior_policy_registry import BehaviorPolicy2dGridFactory\n",
    "from offline_rl.generate_custom_minari_datasets.generate_minari_dataset import (\n",
    "    create_minari_datasets,\n",
    ")\n",
    "\n",
    "\n",
    "if not os.environ.get(\"DISPLAY\"):\n",
    "    os.environ[\"MUJOCO_GL\"] = \"egl\"\n",
    "\n",
    "warnings.filterwarnings(\"ignore\")\n",
    "\n",
    "# To get access to the registered environments."
   ]
  },
  {
   "cell_type": "markdown",
   "metadata": {
    "slideshow": {
     "slide_type": "slide"
    }
   },
   "source": [
    "# Exercise: Minari data collection\n",
    "\n",
    "In this exercise you don't have any homework. The idea is to play around with it to get familiar with the code  (notebooks and source code) and with the way we collect data.\n",
    "\n",
    "Remember that the pipeline for offline learning will be the following:\n",
    "\n",
    "<img src=\"_static/images/93_offline_RL_pipeline.png\" alt=\"Snow\" style=\"width:50%;\">\n",
    "\n",
    "In this notebook we will be exploring the steps 1-2-3 . It would be a good idea now to give a look to the code structure:\n",
    "\n",
    "<img src=\"_static/images/93_code_structure.png\" alt=\"Snow\" style=\"width:20%;\">\n",
    "\n",
    "You can also give a look to [Minari documentation](https://minari.farama.org/main/content/basic_usage/) if needed."
   ]
  },
  {
   "cell_type": "markdown",
   "metadata": {
    "slideshow": {
     "slide_type": "slide"
    }
   },
   "source": [
    "## STEP 1: Create the environments"
   ]
  },
  {
   "cell_type": "code",
   "execution_count": 4,
   "metadata": {
    "execution": {
     "iopub.execute_input": "2025-01-04T17:51:47.201756Z",
     "iopub.status.busy": "2025-01-04T17:51:47.201580Z",
     "iopub.status.idle": "2025-01-04T17:51:47.211312Z",
     "shell.execute_reply": "2025-01-04T17:51:47.210969Z"
    },
    "slideshow": {
     "slide_type": "slide"
    }
   },
   "outputs": [],
   "source": [
    "# List of different environments\n",
    "ENV_LIST = [\n",
    "    EnvFactory.Grid_2D_8x8_discrete,\n",
    "    \"InvertedPendulum-v4\",\n",
    "    \"Humanoid-v4\",\n",
    "    \"AdroitHandHammer-v1\",\n",
    "    \"HalfCheetah-v4\",\n",
    "]\n",
    "\n",
    "# obstacles to be used with the 2d grid-world\n",
    "grid_world_obstacles = [\n",
    "    ObstacleTypes.obstacle_8x8_top_right,\n",
    "    ObstacleTypes.obst_free_8x8,\n",
    "]\n",
    "\n",
    "# behavior policies to be used with 2d grid-world\n",
    "behavior_policy_grid_world = [\n",
    "    BehaviorPolicy2dGridFactory.suboptimal_8x8,\n",
    "    BehaviorPolicy2dGridFactory.random,\n",
    "    BehaviorPolicy2dGridFactory.deterministic_8x8,\n",
    "]"
   ]
  },
  {
   "cell_type": "code",
   "execution_count": 5,
   "metadata": {
    "execution": {
     "iopub.execute_input": "2025-01-04T17:51:47.212542Z",
     "iopub.status.busy": "2025-01-04T17:51:47.212448Z",
     "iopub.status.idle": "2025-01-04T17:51:47.225101Z",
     "shell.execute_reply": "2025-01-04T17:51:47.224827Z"
    },
    "slideshow": {
     "slide_type": "slide"
    }
   },
   "outputs": [
    {
     "data": {
      "application/vnd.jupyter.widget-view+json": {
       "model_id": "2616aac4851d440c867d87268eca3b9c",
       "version_major": 2,
       "version_minor": 0
      },
      "text/plain": [
       "Dropdown(description='Mixed envs.', options=(<EnvFactory.Grid_2D_8x8_discrete: 'Grid_2D_8x8_discrete'>, 'Inver…"
      ]
     },
     "metadata": {},
     "output_type": "display_data"
    },
    {
     "data": {
      "application/vnd.jupyter.widget-view+json": {
       "model_id": "7d6d1ce82e7b499db039925a5f886add",
       "version_major": 2,
       "version_minor": 0
      },
      "text/plain": [
       "Dropdown(description='grid obst.', options=(<ObstacleTypes.obstacle_8x8_top_right: ['00000100', '00000100', '0…"
      ]
     },
     "metadata": {},
     "output_type": "display_data"
    },
    {
     "data": {
      "application/vnd.jupyter.widget-view+json": {
       "model_id": "1bd2e3c997cc4f84a1dcb78811d9c297",
       "version_major": 2,
       "version_minor": 0
      },
      "text/plain": [
       "Dropdown(description='grid policy', options=(<BehaviorPolicy2dGridFactory.suboptimal_8x8: 'suboptimal_8x8'>, <…"
      ]
     },
     "metadata": {},
     "output_type": "display_data"
    }
   ],
   "source": [
    "selected_environment = widget_list(ENV_LIST, description=\"Mixed envs.\")\n",
    "selected_obstacle = widget_list(grid_world_obstacles, description=\"grid obst.\")\n",
    "selected_grid_world_policy = widget_list(behavior_policy_grid_world, description=\"grid policy\")"
   ]
  },
  {
   "cell_type": "markdown",
   "metadata": {
    "slideshow": {
     "slide_type": "slide"
    }
   },
   "source": [
    "**Select and render behavior policies**"
   ]
  },
  {
   "cell_type": "code",
   "execution_count": 6,
   "metadata": {
    "execution": {
     "iopub.execute_input": "2025-01-04T17:51:47.226334Z",
     "iopub.status.busy": "2025-01-04T17:51:47.226243Z",
     "iopub.status.idle": "2025-01-04T17:51:48.359642Z",
     "shell.execute_reply": "2025-01-04T17:51:48.359418Z"
    },
    "slideshow": {
     "slide_type": "slide"
    }
   },
   "outputs": [
    {
     "data": {
      "text/html": [
       "<table class=\"show_videos\" style=\"border-spacing:0px;\"><tr><td style=\"padding:1px;\"><div style=\"display:flex; align-items:left;\">\n",
       "      <div style=\"display:flex; flex-direction:column; align-items:center;\">\n",
       "      <div>2d-GridWorld</div><div><video controls width=\"256\" height=\"256\" style=\"object-fit:cover;\" loop autoplay muted>\n",
       "      <source src=\"data:video/mp4;base64,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\" type=\"video/mp4\"/>\n",
       "      This browser does not support the video tag.\n",
       "      </video></div></div></div></td></tr></table>"
      ],
      "text/plain": [
       "<IPython.core.display.HTML object>"
      ]
     },
     "metadata": {},
     "output_type": "display_data"
    }
   ],
   "source": [
    "behavior_policy = BehaviorPolicy2dGridFactory.random\n",
    "if isinstance(selected_environment.value, EnvFactory):\n",
    "    env = EnvFactory[selected_environment.value].get_env(render_mode=RenderMode.RGB_ARRAY)\n",
    "    if isinstance(env.unwrapped, Custom2DGridEnv):\n",
    "        env.set_new_obstacle_map(selected_obstacle.value.value)\n",
    "        behavior_policy = selected_grid_world_policy.value\n",
    "else:\n",
    "    env = gym.make(selected_environment.value, render_mode=\"rgb_array\")\n",
    "\n",
    "offpolicy_rendering(\n",
    "    env_or_env_name=env,\n",
    "    render_mode=RenderMode.RGB_ARRAY,\n",
    "    behavior_policy=behavior_policy,\n",
    "    num_frames=100,\n",
    "    fps=10,\n",
    ")"
   ]
  },
  {
   "cell_type": "markdown",
   "metadata": {
    "slideshow": {
     "slide_type": "slide"
    }
   },
   "source": [
    "## STEP 2: Create Minari datasets"
   ]
  },
  {
   "cell_type": "code",
   "execution_count": 7,
   "metadata": {
    "execution": {
     "iopub.execute_input": "2025-01-04T17:51:48.360800Z",
     "iopub.status.busy": "2025-01-04T17:51:48.360682Z",
     "iopub.status.idle": "2025-01-04T17:51:48.395290Z",
     "shell.execute_reply": "2025-01-04T17:51:48.394958Z"
    },
    "slideshow": {
     "slide_type": "slide"
    }
   },
   "outputs": [
    {
     "name": "stdout",
     "output_type": "stream",
     "text": [
      "Dataset Grid_2D_8x8_discrete-data_collected_data_nb_92-v0 deleted!\n"
     ]
    }
   ],
   "source": [
    "DATA_SET_IDENTIFIER_I = \"_collected_data_nb_92\"\n",
    "NUM_STEPS_I = 500\n",
    "\n",
    "data_set_config = create_minari_datasets(\n",
    "    env_name=env.spec.id,\n",
    "    dataset_identifier=DATA_SET_IDENTIFIER_I,\n",
    "    num_collected_points=NUM_STEPS_I,\n",
    "    behavior_policy=behavior_policy,\n",
    ")"
   ]
  },
  {
   "cell_type": "markdown",
   "metadata": {},
   "source": [
    "**Congratulations! You have created your first Minari dataset. Take a look at `src/offline_rl/data`.**"
   ]
  },
  {
   "cell_type": "markdown",
   "metadata": {
    "slideshow": {
     "slide_type": "slide"
    }
   },
   "source": [
    "## STEP 3: Feed dataset to Tianshou ReplayBuffer"
   ]
  },
  {
   "cell_type": "code",
   "execution_count": 8,
   "metadata": {
    "execution": {
     "iopub.execute_input": "2025-01-04T17:51:48.396969Z",
     "iopub.status.busy": "2025-01-04T17:51:48.396896Z",
     "iopub.status.idle": "2025-01-04T17:51:48.412158Z",
     "shell.execute_reply": "2025-01-04T17:51:48.411917Z"
    },
    "slideshow": {
     "slide_type": "slide"
    }
   },
   "outputs": [
    {
     "name": "stdout",
     "output_type": "stream",
     "text": [
      "Dataset /home/ivan/Documents/GIT_PROJECTS/offline-rl/src/offline_rl/data/offline_data/Grid_2D_8x8_discrete-data_collected_data_nb_92-v0 downloaded. number of episodes: 10\n",
      "The number of dataset points is 500\n",
      "Batch(\n",
      "    obs: array([1., 0., 0., 0., 0., 0., 0., 0., 0., 0., 0., 0., 0., 0., 0., 0., 0.,\n",
      "                0., 0., 0., 0., 0., 0., 0., 0., 0., 0., 0., 0., 0., 0., 0., 0., 0.,\n",
      "                0., 0., 0., 0., 0., 0., 0., 0., 0., 0., 0., 0., 0., 0., 0., 0., 0.,\n",
      "                0., 0., 0., 0., 0., 0., 0., 0., 0., 0., 0., 0., 0.]),\n",
      "    act: array(1),\n",
      "    rew: array(-0.01440554),\n",
      "    terminated: array(False),\n",
      "    truncated: array(0.),\n",
      "    done: array(False),\n",
      "    obs_next: array([0., 0., 0., 0., 0., 0., 0., 0., 1., 0., 0., 0., 0., 0., 0., 0., 0.,\n",
      "                     0., 0., 0., 0., 0., 0., 0., 0., 0., 0., 0., 0., 0., 0., 0., 0., 0.,\n",
      "                     0., 0., 0., 0., 0., 0., 0., 0., 0., 0., 0., 0., 0., 0., 0., 0., 0.,\n",
      "                     0., 0., 0., 0., 0., 0., 0., 0., 0., 0., 0., 0., 0.]),\n",
      "    info: Batch(),\n",
      "    policy: Batch(),\n",
      ")\n"
     ]
    }
   ],
   "source": [
    "buffer_data = load_buffer_minari(data_set_config.data_set_name)\n",
    "print(f\"The number of dataset points is {len(buffer_data)}\")\n",
    "\n",
    "for elem in buffer_data:\n",
    "    print(elem)\n",
    "    break"
   ]
  },
  {
   "cell_type": "markdown",
   "metadata": {
    "slideshow": {
     "slide_type": "slide"
    }
   },
   "source": [
    "**Let's give a look to the collected 2d grid world data**\n",
    "\n",
    "**Useful information:**\n",
    "\n",
    "In our grid world environment, the agent's position is represented as $(x_1, x_2)$, with $x_1/x_2$ the vertical/horizontal coordinates. Observations are represented as a one-hot encoded vector of dimensions $x_1 \\times x_2$, for example, a 64-dimensional vector in an 8x8 grid,\n",
    " \n",
    "\n",
    "The action is represented by an integer in the range of [0, 1, 2, 3], each indicating a direction:\n",
    "\n",
    "    0: (-1, 0) - UP\n",
    "    1: (1, 0) - DOWN\n",
    "    2: (0, -1) - LEFT\n",
    "    3: (0, 1) - RIGHT\n",
    "\n"
   ]
  },
  {
   "cell_type": "code",
   "execution_count": 9,
   "metadata": {
    "execution": {
     "iopub.execute_input": "2025-01-04T17:51:48.413614Z",
     "iopub.status.busy": "2025-01-04T17:51:48.413541Z",
     "iopub.status.idle": "2025-01-04T17:51:48.828157Z",
     "shell.execute_reply": "2025-01-04T17:51:48.827910Z"
    },
    "slideshow": {
     "slide_type": "slide"
    }
   },
   "outputs": [
    {
     "data": {
      "image/png": "[encoded data removed]",
      "text/plain": [
       "<Figure size 1000x500 with 1 Axes>"
      ]
     },
     "metadata": {},
     "output_type": "display_data"
    },
    {
     "data": {
      "image/png": "[encoded data removed]",
      "text/plain": [
       "<Figure size 640x480 with 1 Axes>"
      ]
     },
     "metadata": {},
     "output_type": "display_data"
    }
   ],
   "source": [
    "# Compute state-action data distribution\n",
    "if type(env.unwrapped).__name__== \"Custom2DGridEnv\":\n",
    "    state_action_count_data, _ = get_state_action_data_and_policy_grid_distributions(\n",
    "        buffer_data, env\n",
    "    )\n",
    "    snapshot_env(env)\n",
    "else:\n",
    "    raise ValueError(f\"To analyze the data the environment should be of type {Custom2DGridEnv}.\")"
   ]
  },
  {
   "cell_type": "markdown",
   "metadata": {
    "slideshow": {
     "slide_type": "slide"
    }
   },
   "source": [
    "## References\n",
    "\n",
    "[ \\[Fu.Justin et. al.\\] D4RL: Datasets for Deep Data-Driven Reinforcement Learning](https://arxiv.org/abs/2004.07219)\n",
    "\n",
    "[ MINARI: A dataset API for Offline Reinforcement Learning ](https://minari.farama.org/main/content/basic_usage/)"
   ]
  },
  {
   "cell_type": "code",
   "execution_count": null,
   "metadata": {},
   "outputs": [],
   "source": []
  }
 ],
 "metadata": {
  "celltoolbar": "Slideshow",
  "kernelspec": {
   "display_name": "offline-rl-example",
   "language": "python",
   "name": "offline-rl-example"
  },
  "language_info": {
   "codemirror_mode": {
    "name": "ipython",
    "version": 3
   },
   "file_extension": ".py",
   "mimetype": "text/x-python",
   "name": "python",
   "nbconvert_exporter": "python",
   "pygments_lexer": "ipython3",
   "version": "3.11.11"
  },
  "toc": {
   "base_numbering": 1,
   "nav_menu": {
    "height": "121px",
    "width": "195px"
   },
   "number_sections": true,
   "sideBar": true,
   "skip_h1_title": false,
   "title_cell": "Table of Contents",
   "title_sidebar": "Contents",
   "toc_cell": false,
   "toc_position": {},
   "toc_section_display": true,
   "toc_window_display": true
  },
  "widgets": {
   "application/vnd.jupyter.widget-state+json": {
    "state": {
     "1403e3012eeb46da9f2b1c4a758ee169": {
      "model_module": "@jupyter-widgets/base",
      "model_module_version": "2.0.0",
      "model_name": "LayoutModel",
      "state": {
       "_model_module": "@jupyter-widgets/base",
       "_model_module_version": "2.0.0",
       "_model_name": "LayoutModel",
       "_view_count": null,
       "_view_module": "@jupyter-widgets/base",
       "_view_module_version": "2.0.0",
       "_view_name": "LayoutView",
       "align_content": null,
       "align_items": null,
       "align_self": null,
       "border_bottom": null,
       "border_left": null,
       "border_right": null,
       "border_top": null,
       "bottom": null,
       "display": null,
       "flex": null,
       "flex_flow": null,
       "grid_area": null,
       "grid_auto_columns": null,
       "grid_auto_flow": null,
       "grid_auto_rows": null,
       "grid_column": null,
       "grid_gap": null,
       "grid_row": null,
       "grid_template_areas": null,
       "grid_template_columns": null,
       "grid_template_rows": null,
       "height": null,
       "justify_content": null,
       "justify_items": null,
       "left": null,
       "margin": null,
       "max_height": null,
       "max_width": null,
       "min_height": null,
       "min_width": null,
       "object_fit": null,
       "object_position": null,
       "order": null,
       "overflow": null,
       "padding": null,
       "right": null,
       "top": null,
       "visibility": null,
       "width": null
      }
     },
     "1bd2e3c997cc4f84a1dcb78811d9c297": {
      "model_module": "@jupyter-widgets/controls",
      "model_module_version": "2.0.0",
      "model_name": "DropdownModel",
      "state": {
       "_dom_classes": [],
       "_model_module": "@jupyter-widgets/controls",
       "_model_module_version": "2.0.0",
       "_model_name": "DropdownModel",
       "_options_labels": [
        "suboptimal_8x8",
        "random",
        "deterministic_8x8"
       ],
       "_view_count": null,
       "_view_module": "@jupyter-widgets/controls",
       "_view_module_version": "2.0.0",
       "_view_name": "DropdownView",
       "description": "grid policy",
       "description_allow_html": false,
       "disabled": false,
       "index": 0,
       "layout": "IPY_MODEL_a0b4a84e8ba14c54affca7bf8c2e0749",
       "style": "IPY_MODEL_89bbc015223149c887d0c81e0c9ea849",
       "tabbable": null,
       "tooltip": null
      }
     },
     "2616aac4851d440c867d87268eca3b9c": {
      "model_module": "@jupyter-widgets/controls",
      "model_module_version": "2.0.0",
      "model_name": "DropdownModel",
      "state": {
       "_dom_classes": [],
       "_model_module": "@jupyter-widgets/controls",
       "_model_module_version": "2.0.0",
       "_model_name": "DropdownModel",
       "_options_labels": [
        "Grid_2D_8x8_discrete",
        "InvertedPendulum-v4",
        "Humanoid-v4",
        "AdroitHandHammer-v1",
        "HalfCheetah-v4"
       ],
       "_view_count": null,
       "_view_module": "@jupyter-widgets/controls",
       "_view_module_version": "2.0.0",
       "_view_name": "DropdownView",
       "description": "Mixed envs.",
       "description_allow_html": false,
       "disabled": false,
       "index": 0,
       "layout": "IPY_MODEL_1403e3012eeb46da9f2b1c4a758ee169",
       "style": "IPY_MODEL_6ea8f77d78024bfab57d2b3570bdf6bd",
       "tabbable": null,
       "tooltip": null
      }
     },
     "38f65548e2ca4e6f846f50b2b8358693": {
      "model_module": "@jupyter-widgets/controls",
      "model_module_version": "2.0.0",
      "model_name": "DescriptionStyleModel",
      "state": {
       "_model_module": "@jupyter-widgets/controls",
       "_model_module_version": "2.0.0",
       "_model_name": "DescriptionStyleModel",
       "_view_count": null,
       "_view_module": "@jupyter-widgets/base",
       "_view_module_version": "2.0.0",
       "_view_name": "StyleView",
       "description_width": ""
      }
     },
     "6ea8f77d78024bfab57d2b3570bdf6bd": {
      "model_module": "@jupyter-widgets/controls",
      "model_module_version": "2.0.0",
      "model_name": "DescriptionStyleModel",
      "state": {
       "_model_module": "@jupyter-widgets/controls",
       "_model_module_version": "2.0.0",
       "_model_name": "DescriptionStyleModel",
       "_view_count": null,
       "_view_module": "@jupyter-widgets/base",
       "_view_module_version": "2.0.0",
       "_view_name": "StyleView",
       "description_width": ""
      }
     },
     "787361d32e224071921804e663509061": {
      "model_module": "@jupyter-widgets/base",
      "model_module_version": "2.0.0",
      "model_name": "LayoutModel",
      "state": {
       "_model_module": "@jupyter-widgets/base",
       "_model_module_version": "2.0.0",
       "_model_name": "LayoutModel",
       "_view_count": null,
       "_view_module": "@jupyter-widgets/base",
       "_view_module_version": "2.0.0",
       "_view_name": "LayoutView",
       "align_content": null,
       "align_items": null,
       "align_self": null,
       "border_bottom": null,
       "border_left": null,
       "border_right": null,
       "border_top": null,
       "bottom": null,
       "display": null,
       "flex": null,
       "flex_flow": null,
       "grid_area": null,
       "grid_auto_columns": null,
       "grid_auto_flow": null,
       "grid_auto_rows": null,
       "grid_column": null,
       "grid_gap": null,
       "grid_row": null,
       "grid_template_areas": null,
       "grid_template_columns": null,
       "grid_template_rows": null,
       "height": null,
       "justify_content": null,
       "justify_items": null,
       "left": null,
       "margin": null,
       "max_height": null,
       "max_width": null,
       "min_height": null,
       "min_width": null,
       "object_fit": null,
       "object_position": null,
       "order": null,
       "overflow": null,
       "padding": null,
       "right": null,
       "top": null,
       "visibility": null,
       "width": null
      }
     },
     "7d6d1ce82e7b499db039925a5f886add": {
      "model_module": "@jupyter-widgets/controls",
      "model_module_version": "2.0.0",
      "model_name": "DropdownModel",
      "state": {
       "_dom_classes": [],
       "_model_module": "@jupyter-widgets/controls",
       "_model_module_version": "2.0.0",
       "_model_name": "DropdownModel",
       "_options_labels": [
        "ObstacleTypes.obstacle_8x8_top_right",
        "ObstacleTypes.obst_free_8x8"
       ],
       "_view_count": null,
       "_view_module": "@jupyter-widgets/controls",
       "_view_module_version": "2.0.0",
       "_view_name": "DropdownView",
       "description": "grid obst.",
       "description_allow_html": false,
       "disabled": false,
       "index": 0,
       "layout": "IPY_MODEL_787361d32e224071921804e663509061",
       "style": "IPY_MODEL_38f65548e2ca4e6f846f50b2b8358693",
       "tabbable": null,
       "tooltip": null
      }
     },
     "89bbc015223149c887d0c81e0c9ea849": {
      "model_module": "@jupyter-widgets/controls",
      "model_module_version": "2.0.0",
      "model_name": "DescriptionStyleModel",
      "state": {
       "_model_module": "@jupyter-widgets/controls",
       "_model_module_version": "2.0.0",
       "_model_name": "DescriptionStyleModel",
       "_view_count": null,
       "_view_module": "@jupyter-widgets/base",
       "_view_module_version": "2.0.0",
       "_view_name": "StyleView",
       "description_width": ""
      }
     },
     "a0b4a84e8ba14c54affca7bf8c2e0749": {
      "model_module": "@jupyter-widgets/base",
      "model_module_version": "2.0.0",
      "model_name": "LayoutModel",
      "state": {
       "_model_module": "@jupyter-widgets/base",
       "_model_module_version": "2.0.0",
       "_model_name": "LayoutModel",
       "_view_count": null,
       "_view_module": "@jupyter-widgets/base",
       "_view_module_version": "2.0.0",
       "_view_name": "LayoutView",
       "align_content": null,
       "align_items": null,
       "align_self": null,
       "border_bottom": null,
       "border_left": null,
       "border_right": null,
       "border_top": null,
       "bottom": null,
       "display": null,
       "flex": null,
       "flex_flow": null,
       "grid_area": null,
       "grid_auto_columns": null,
       "grid_auto_flow": null,
       "grid_auto_rows": null,
       "grid_column": null,
       "grid_gap": null,
       "grid_row": null,
       "grid_template_areas": null,
       "grid_template_columns": null,
       "grid_template_rows": null,
       "height": null,
       "justify_content": null,
       "justify_items": null,
       "left": null,
       "margin": null,
       "max_height": null,
       "max_width": null,
       "min_height": null,
       "min_width": null,
       "object_fit": null,
       "object_position": null,
       "order": null,
       "overflow": null,
       "padding": null,
       "right": null,
       "top": null,
       "visibility": null,
       "width": null
      }
     }
    },
    "version_major": 2,
    "version_minor": 0
   }
  }
 },
 "nbformat": 4,
 "nbformat_minor": 1
}
