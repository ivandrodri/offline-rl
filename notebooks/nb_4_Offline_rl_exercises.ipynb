{
 "cells": [
  {
   "cell_type": "code",
   "execution_count": 1,
   "metadata": {
    "execution": {
     "iopub.execute_input": "2025-01-04T17:51:53.952364Z",
     "iopub.status.busy": "2025-01-04T17:51:53.952110Z",
     "iopub.status.idle": "2025-01-04T17:51:54.179403Z",
     "shell.execute_reply": "2025-01-04T17:51:54.179005Z"
    },
    "ExecuteTime": {
     "end_time": "2025-01-04T22:33:27.209635Z",
     "start_time": "2025-01-04T22:33:26.891475Z"
    }
   },
   "outputs": [],
   "source": [
    "%%capture\n",
    "%load_ext autoreload\n",
    "%autoreload 2\n",
    "%matplotlib inline\n",
    "%load_ext offline_rl\n",
    "%set_random_seed 12"
   ]
  },
  {
   "cell_type": "code",
   "execution_count": 2,
   "metadata": {
    "execution": {
     "iopub.execute_input": "2025-01-04T17:51:54.181176Z",
     "iopub.status.busy": "2025-01-04T17:51:54.181072Z",
     "iopub.status.idle": "2025-01-04T17:51:54.187440Z",
     "shell.execute_reply": "2025-01-04T17:51:54.187233Z"
    },
    "ExecuteTime": {
     "end_time": "2025-01-04T22:33:33.804174Z",
     "start_time": "2025-01-04T22:33:33.794401Z"
    }
   },
   "outputs": [],
   "source": [
    "%autoreload"
   ]
  },
  {
   "cell_type": "code",
   "execution_count": 3,
   "metadata": {
    "execution": {
     "iopub.execute_input": "2025-01-04T17:51:54.189029Z",
     "iopub.status.busy": "2025-01-04T17:51:54.188933Z",
     "iopub.status.idle": "2025-01-04T17:51:55.338641Z",
     "shell.execute_reply": "2025-01-04T17:51:55.338068Z"
    },
    "ExecuteTime": {
     "end_time": "2025-01-04T22:33:35.804546Z",
     "start_time": "2025-01-04T22:33:34.197983Z"
    }
   },
   "outputs": [
    {
     "name": "stderr",
     "output_type": "stream",
     "text": [
      "sys:1: DeprecationWarning: DataCollectorV0 is deprecated and will be removed. Use DataCollector instead.\n"
     ]
    }
   ],
   "source": [
    "from offline_rl.set_env_variables import set_env_variables\n",
    "set_env_variables()\n",
    "import torch\n",
    "import warnings\n",
    "from offline_rl.custom_envs.custom_2d_grid_env.obstacles_2D_grid_register import ObstacleTypes\n",
    "from offline_rl.custom_envs.custom_envs_registration import RenderMode, EnvFactory\n",
    "from offline_rl.offline_policies.offpolicy_rendering import offpolicy_rendering\n",
    "from offline_rl.trainings.policy_config_data_class import (\n",
    "    TrainedPolicyConfig,\n",
    "    get_trained_policy_path,\n",
    ")\n",
    "from offline_rl.trainings.offline_training import OfflineRLTraining\n",
    "from offline_rl.utils import widget_list\n",
    "from offline_rl.visualizations.utils import (\n",
    "    get_state_action_data_and_policy_grid_distributions,\n",
    "    snapshot_env,\n",
    ")\n",
    "from offline_rl.utils import load_buffer_minari\n",
    "from offline_rl.custom_envs.env_wrappers import Grid2DInitialConfig\n",
    "from offline_rl.behavior_policies.behavior_policy_registry import BehaviorPolicy2dGridFactory\n",
    "from offline_rl.trainings.training_interface import OfflineTrainingHyperparams\n",
    "from pathlib import Path\n",
    "\n",
    "warnings.filterwarnings(\"ignore\")\n",
    "render_mode = RenderMode.RGB_ARRAY"
   ]
  },
  {
   "cell_type": "markdown",
   "metadata": {
    "slideshow": {
     "slide_type": "slide"
    }
   },
   "source": [
    "Offline RL pipeline:\n",
    "\n",
    "<img src=\"_static/images/93_offline_RL_pipeline.png\" alt=\"Snow\" style=\"width:50%;\">"
   ]
  },
  {
   "cell_type": "markdown",
   "metadata": {
    "slideshow": {
     "slide_type": "slide"
    }
   },
   "source": [
    "# Exercise: Offline RL algorithms"
   ]
  },
  {
   "cell_type": "markdown",
   "metadata": {
    "slideshow": {
     "slide_type": "slide"
    }
   },
   "source": [
    "**Off-policy methods cannot learn from data efficiently unless a significant amount of data covering a large portion of the environment states is available**. Only in such cases can the agent explore the environment and get feedback similar to what's done in an online approach. However, this scenario is rare and challenging to achieve in realistic applications, which is one of the reasons why we turn to offline RL, where only a small amount of data is available."
   ]
  },
  {
   "cell_type": "markdown",
   "metadata": {
    "slideshow": {
     "slide_type": "slide"
    }
   },
   "source": [
    "One of the major issues when applying off-policy methods to collected data is the agent's tendency to go out-of-distribution (o.o.d.). More importantly, once it goes o.o.d., the policy becomes unpredictable, making it impossible to return to the in-distribution region. This unpredictability propagates errors in the policy evaluation process (i.e., the dynamic programming equations), destroying the algorithm's learning capabilities."
   ]
  },
  {
   "cell_type": "markdown",
   "metadata": {
    "slideshow": {
     "slide_type": "slide"
    }
   },
   "source": [
    "## Exercise I\n",
    "\n",
    "Let's collect a small amount of expert data and a larger amount of suboptimal data. We will play with two offline RL algorithms, BCQ and CQL, and we will check it they can recover the expert policy without going o.o.d. We will compare the results with the imitation learning approach, specifically the BC algorithm, which in some cases is another viable option when expert data is available.\n",
    "\n",
    "\n",
    "In this exercise, we will collect two datasets: one with expert and another with suboptimal data. The goal of the agent will be to get as close as possible to the target.\n",
    "\n",
    "I - **expert policy**: collect ~ 1000 steps\n",
    "\n",
    "II  - **Suboptimal policy**:  collect ~ 2000 steps"
   ]
  },
  {
   "cell_type": "markdown",
   "metadata": {
    "slideshow": {
     "slide_type": "slide"
    }
   },
   "source": [
    "### STEP 1: Create the environment"
   ]
  },
  {
   "cell_type": "code",
   "execution_count": 4,
   "metadata": {
    "execution": {
     "iopub.execute_input": "2025-01-04T17:51:55.340425Z",
     "iopub.status.busy": "2025-01-04T17:51:55.340263Z",
     "iopub.status.idle": "2025-01-04T17:51:55.350637Z",
     "shell.execute_reply": "2025-01-04T17:51:55.350459Z"
    },
    "slideshow": {
     "slide_type": "slide"
    },
    "ExecuteTime": {
     "end_time": "2025-01-04T22:33:36.517941Z",
     "start_time": "2025-01-04T22:33:36.504170Z"
    }
   },
   "outputs": [
    {
     "data": {
      "text/plain": "Dropdown(options=(<ObstacleTypes.obstacle_8x8_wall_with_door: ['00000000', '00000000', '00000000', '00000000',…",
      "application/vnd.jupyter.widget-view+json": {
       "version_major": 2,
       "version_minor": 0,
       "model_id": "a0474e8d18f34fcbadef569067212e0c"
      }
     },
     "metadata": {},
     "output_type": "display_data"
    }
   ],
   "source": [
    "obstacle_selected = widget_list([ObstacleTypes.obstacle_8x8_wall_with_door])"
   ]
  },
  {
   "cell_type": "code",
   "execution_count": 5,
   "metadata": {
    "execution": {
     "iopub.execute_input": "2025-01-04T17:51:55.352248Z",
     "iopub.status.busy": "2025-01-04T17:51:55.352153Z",
     "iopub.status.idle": "2025-01-04T17:51:55.439807Z",
     "shell.execute_reply": "2025-01-04T17:51:55.439449Z"
    },
    "slideshow": {
     "slide_type": "slide"
    },
    "ExecuteTime": {
     "end_time": "2025-01-04T22:33:36.910335Z",
     "start_time": "2025-01-04T22:33:36.806849Z"
    }
   },
   "outputs": [
    {
     "data": {
      "text/plain": "<Figure size 640x480 with 1 Axes>",
      "image/png": "[encoded data removed]"
     },
     "metadata": {},
     "output_type": "display_data"
    }
   ],
   "source": [
    "ENV = EnvFactory.Grid_2D_8x8_discrete\n",
    "\n",
    "# Grid configuration\n",
    "OBSTACLE = obstacle_selected.value\n",
    "INITIAL_STATE = (7, 7)\n",
    "FINAL_STATE = (0, 7)\n",
    "\n",
    "env_2D_grid_initial_config = Grid2DInitialConfig(\n",
    "    obstacles=OBSTACLE,\n",
    "    initial_state=INITIAL_STATE,\n",
    "    target_state=FINAL_STATE,\n",
    ")\n",
    "\n",
    "env = ENV.get_env(render_mode=render_mode, grid_config=env_2D_grid_initial_config)\n",
    "\n",
    "snapshot_env(env)"
   ]
  },
  {
   "cell_type": "markdown",
   "metadata": {
    "slideshow": {
     "slide_type": "slide"
    }
   },
   "source": [
    "### STEP 2: Create Minari datasets"
   ]
  },
  {
   "cell_type": "markdown",
   "metadata": {
    "slideshow": {
     "slide_type": "slide"
    }
   },
   "source": [
    "**Behavior policies and datasets configurations**"
   ]
  },
  {
   "cell_type": "code",
   "execution_count": 6,
   "metadata": {
    "execution": {
     "iopub.execute_input": "2025-01-04T17:51:55.441117Z",
     "iopub.status.busy": "2025-01-04T17:51:55.441041Z",
     "iopub.status.idle": "2025-01-04T17:51:55.450289Z",
     "shell.execute_reply": "2025-01-04T17:51:55.450059Z"
    },
    "slideshow": {
     "slide_type": "slide"
    },
    "ExecuteTime": {
     "end_time": "2025-01-04T22:33:38.193630Z",
     "start_time": "2025-01-04T22:33:38.182706Z"
    }
   },
   "outputs": [],
   "source": [
    "BEHAVIOR_POLICY_I = BehaviorPolicy2dGridFactory.move_up\n",
    "DATA_SET_IDENTIFIER_I = \"_expert\"\n",
    "NUM_STEPS_I = 1000\n",
    "\n",
    "BEHAVIOR_POLICY_II = BehaviorPolicy2dGridFactory.move_left\n",
    "DATA_SET_IDENTIFIER_II = \"_suboptimal\"\n",
    "NUM_STEPS_II = 2000"
   ]
  },
  {
   "cell_type": "code",
   "execution_count": 7,
   "metadata": {
    "execution": {
     "iopub.execute_input": "2025-01-04T17:51:55.451602Z",
     "iopub.status.busy": "2025-01-04T17:51:55.451530Z",
     "iopub.status.idle": "2025-01-04T17:51:55.460676Z",
     "shell.execute_reply": "2025-01-04T17:51:55.460467Z"
    },
    "slideshow": {
     "slide_type": "slide"
    },
    "ExecuteTime": {
     "end_time": "2025-01-04T22:33:38.586925Z",
     "start_time": "2025-01-04T22:33:38.574212Z"
    }
   },
   "outputs": [
    {
     "data": {
      "text/plain": "Dropdown(options=(<BehaviorPolicy2dGridFactory.move_up: 'move_up'>, <BehaviorPolicy2dGridFactory.move_left: 'm…",
      "application/vnd.jupyter.widget-view+json": {
       "version_major": 2,
       "version_minor": 0,
       "model_id": "e15e104881ae41f1b276e2abccc0278b"
      }
     },
     "metadata": {},
     "output_type": "display_data"
    }
   ],
   "source": [
    "policy_selected = widget_list([BEHAVIOR_POLICY_I, BEHAVIOR_POLICY_II])"
   ]
  },
  {
   "cell_type": "code",
   "execution_count": 8,
   "metadata": {
    "execution": {
     "iopub.execute_input": "2025-01-04T17:51:55.462187Z",
     "iopub.status.busy": "2025-01-04T17:51:55.462117Z",
     "iopub.status.idle": "2025-01-04T17:51:56.610652Z",
     "shell.execute_reply": "2025-01-04T17:51:56.610305Z"
    },
    "slideshow": {
     "slide_type": "slide"
    },
    "ExecuteTime": {
     "end_time": "2025-01-04T22:33:40.275262Z",
     "start_time": "2025-01-04T22:33:38.963846Z"
    }
   },
   "outputs": [
    {
     "data": {
      "text/plain": "<IPython.core.display.HTML object>",
      "text/html": "<table class=\"show_videos\" style=\"border-spacing:0px;\"><tr><td style=\"padding:1px;\"><div style=\"display:flex; align-items:left;\">\n      <div style=\"display:flex; flex-direction:column; align-items:center;\">\n      <div>2d-GridWorld</div><div><video controls width=\"256\" height=\"256\" style=\"object-fit:cover;\" loop autoplay muted>\n      <source src=\"data:video/mp4;base64,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\" type=\"video/mp4\"/>\n      This browser does not support the video tag.\n      </video></div></div></div></td></tr></table>"
     },
     "metadata": {},
     "output_type": "display_data"
    }
   ],
   "source": [
    "offpolicy_rendering(\n",
    "    env_or_env_name=ENV,\n",
    "    render_mode=render_mode,\n",
    "    behavior_policy=policy_selected.value,\n",
    "    env_2d_grid_initial_config=env_2D_grid_initial_config,\n",
    "    num_frames=100,\n",
    ")"
   ]
  },
  {
   "cell_type": "markdown",
   "metadata": {
    "slideshow": {
     "slide_type": "slide"
    }
   },
   "source": [
    "**Collect data**"
   ]
  },
  {
   "cell_type": "code",
   "execution_count": 9,
   "metadata": {
    "execution": {
     "iopub.execute_input": "2025-01-04T17:51:56.611978Z",
     "iopub.status.busy": "2025-01-04T17:51:56.611895Z",
     "iopub.status.idle": "2025-01-04T17:51:56.794641Z",
     "shell.execute_reply": "2025-01-04T17:51:56.794271Z"
    },
    "slideshow": {
     "slide_type": "slide"
    },
    "ExecuteTime": {
     "end_time": "2025-01-04T22:33:40.456818Z",
     "start_time": "2025-01-04T22:33:40.276072Z"
    }
   },
   "outputs": [
    {
     "name": "stdout",
     "output_type": "stream",
     "text": [
      "Dataset Grid_2D_8x8_discrete-data_obstacle_8x8_wall_with_door_start_7_7_target_0_7_expert-v0 deleted!\n",
      "Dataset Grid_2D_8x8_discrete-data_obstacle_8x8_wall_with_door_start_7_7_target_0_7_suboptimal-v0 deleted!\n",
      "Dataset Grid_2D_8x8_discrete-combined_data_sets_offline_rl-v0 deleted!\n",
      "Number of episodes in dataset I:20, in dataset II:40 and  in the combined dataset: 60\n"
     ]
    },
    {
     "data": {
      "text/plain": "Dropdown(options=('Grid_2D_8x8_discrete-combined_data_sets_offline_rl-v0', 'Grid_2D_8x8_discrete-data_obstacle…",
      "application/vnd.jupyter.widget-view+json": {
       "version_major": 2,
       "version_minor": 0,
       "model_id": "88838fbad5d349cdb86d5e3e0798072d"
      }
     },
     "metadata": {},
     "output_type": "display_data"
    }
   ],
   "source": [
    "from offline_rl.generate_custom_minari_datasets.generate_minari_dataset import (\n",
    "    create_combined_minari_dataset,\n",
    ")\n",
    "\n",
    "config_combined_data = create_combined_minari_dataset(\n",
    "    env_name=ENV,\n",
    "    dataset_identifiers=(DATA_SET_IDENTIFIER_I, DATA_SET_IDENTIFIER_II),\n",
    "    num_collected_points=(NUM_STEPS_I, NUM_STEPS_II),\n",
    "    behavior_policies=(BEHAVIOR_POLICY_I, BEHAVIOR_POLICY_II),\n",
    "    combined_dataset_identifier=\"combined_data_sets_offline_rl\",\n",
    "    env_2d_grid_initial_config=env_2D_grid_initial_config,\n",
    ")\n",
    "\n",
    "dataset_availables = [\n",
    "    config_combined_data.data_set_name\n",
    "] + config_combined_data.children_dataset_names\n",
    "selected_data_set = widget_list(dataset_availables)"
   ]
  },
  {
   "cell_type": "markdown",
   "metadata": {
    "slideshow": {
     "slide_type": "slide"
    }
   },
   "source": [
    "### STEP 3: Feed data into replay buffer"
   ]
  },
  {
   "cell_type": "code",
   "execution_count": 10,
   "metadata": {
    "execution": {
     "iopub.execute_input": "2025-01-04T17:51:56.796356Z",
     "iopub.status.busy": "2025-01-04T17:51:56.796278Z",
     "iopub.status.idle": "2025-01-04T17:51:57.233544Z",
     "shell.execute_reply": "2025-01-04T17:51:57.233119Z"
    },
    "slideshow": {
     "slide_type": "slide"
    },
    "ExecuteTime": {
     "end_time": "2025-01-04T22:33:45.952014Z",
     "start_time": "2025-01-04T22:33:45.515006Z"
    }
   },
   "outputs": [
    {
     "name": "stdout",
     "output_type": "stream",
     "text": [
      "Dataset /home/ivan/Documents/GIT_PROJECTS/offline-rl/src/offline_rl/data/offline_data/Grid_2D_8x8_discrete-combined_data_sets_offline_rl-v0 downloaded. number of episodes: 60\n"
     ]
    },
    {
     "data": {
      "text/plain": "<Figure size 1000x500 with 1 Axes>",
      "image/png": "[encoded data removed]"
     },
     "metadata": {},
     "output_type": "display_data"
    },
    {
     "data": {
      "text/plain": "<Figure size 640x480 with 1 Axes>",
      "image/png": "[encoded data removed]"
     },
     "metadata": {},
     "output_type": "display_data"
    }
   ],
   "source": [
    "buffer_data = load_buffer_minari(selected_data_set.value)\n",
    "len_buffer = len(buffer_data)\n",
    "\n",
    "# Compute state-action data distribution\n",
    "state_action_count_data, _ = get_state_action_data_and_policy_grid_distributions(buffer_data, env)\n",
    "snapshot_env(env)"
   ]
  },
  {
   "cell_type": "markdown",
   "metadata": {},
   "source": [
    "#### Data analysis\n",
    "\n",
    "Note that we have four peaks. The ones at (2,7) and (3,7) come from policy-I, which goes towards the target but stops before reaching it. The other two peaks at (6,0) and (7,0) are produced by policy-II, which drifts the agent to the left with noise. **It is important to notice that the amount of collected data at state (5,7) is very little, but this state is crucial if we want to approach the target.**\n",
    "\n",
    "What do you think a BC algorithm would do? What about an offline one?\n",
    "\n",
    "<div style=\"margin-top: 20px;\">\n",
    "    <div style=\"display: flex; justify-content: space-between;\">\n",
    "        <div style=\"width: 100%;\">\n",
    "            <img src=\"_static/images/nb_96_critical_state.png\" alt=\"Snow\" style=\"width:100%;\">\n",
    "        </div>\n",
    "        <div style=\"width: 100%;\">\n",
    "            <img src=\"_static/images/96_critical_action_states.png\" alt=\"KL divergence\" width=80%>\n",
    "        </div>\n",
    "    </div>\n",
    "</div>"
   ]
  },
  {
   "cell_type": "markdown",
   "metadata": {
    "slideshow": {
     "slide_type": "slide"
    }
   },
   "source": [
    "### STEP 4-5: Select offline policies and training"
   ]
  },
  {
   "cell_type": "code",
   "execution_count": 11,
   "metadata": {
    "execution": {
     "iopub.execute_input": "2025-01-04T17:51:57.235170Z",
     "iopub.status.busy": "2025-01-04T17:51:57.235057Z",
     "iopub.status.idle": "2025-01-04T17:51:57.246203Z",
     "shell.execute_reply": "2025-01-04T17:51:57.246002Z"
    },
    "slideshow": {
     "slide_type": "slide"
    },
    "ExecuteTime": {
     "end_time": "2025-01-04T22:33:49.496035Z",
     "start_time": "2025-01-04T22:33:49.481252Z"
    }
   },
   "outputs": [
    {
     "data": {
      "text/plain": "Dropdown(options=(<RLPolicyFactory.bcq_discrete: 'bcq_discrete'>, <RLPolicyFactory.cql_discrete: 'cql_discrete…",
      "application/vnd.jupyter.widget-view+json": {
       "version_major": 2,
       "version_minor": 0,
       "model_id": "944de5ecc280496299273d70b5144da3"
      }
     },
     "metadata": {},
     "output_type": "display_data"
    }
   ],
   "source": [
    "from offline_rl.offline_policies.policy_registry import RLPolicyFactory\n",
    "\n",
    "offline_rl_policies = [\n",
    "    RLPolicyFactory.bcq_discrete,\n",
    "    RLPolicyFactory.cql_discrete,\n",
    "    RLPolicyFactory.imitation_learning,\n",
    "]\n",
    "selected_offline_rl_policy = widget_list(offline_rl_policies)"
   ]
  },
  {
   "cell_type": "markdown",
   "metadata": {
    "slideshow": {
     "slide_type": "slide"
    }
   },
   "source": [
    "**Training**"
   ]
  },
  {
   "cell_type": "code",
   "execution_count": 12,
   "metadata": {
    "execution": {
     "iopub.execute_input": "2025-01-04T17:51:57.247774Z",
     "iopub.status.busy": "2025-01-04T17:51:57.247706Z",
     "iopub.status.idle": "2025-01-04T17:51:57.257338Z",
     "shell.execute_reply": "2025-01-04T17:51:57.257106Z"
    },
    "slideshow": {
     "slide_type": "slide"
    },
    "ExecuteTime": {
     "end_time": "2025-01-04T22:33:50.861037Z",
     "start_time": "2025-01-04T22:33:50.849730Z"
    }
   },
   "outputs": [],
   "source": [
    "NUM_EPOCHS = 2\n",
    "BATCH_SIZE = 128\n",
    "STEP_PER_EPOCH = 1.0 * len_buffer\n",
    "NUMBER_TEST_ENVS = 1\n",
    "\n",
    "# Metadata for the offline policy. Included the Minari metadata as well as the policy model configuration.\n",
    "offline_policy_config = TrainedPolicyConfig(\n",
    "    rl_policy_model=selected_offline_rl_policy.value,\n",
    "    name_expert_data=selected_data_set.value,\n",
    "    render_mode=render_mode,\n",
    "    device=\"cpu\",\n",
    ")\n",
    "\n",
    "# Hyperparameters to be used in the training.\n",
    "offline_training_hyperparams = OfflineTrainingHyperparams(\n",
    "    offline_policy_config=offline_policy_config,\n",
    "    num_epochs=NUM_EPOCHS,\n",
    "    number_test_envs=NUMBER_TEST_ENVS,\n",
    "    step_per_epoch=STEP_PER_EPOCH,\n",
    "    restore_training=False,\n",
    ")"
   ]
  },
  {
   "cell_type": "code",
   "execution_count": 14,
   "metadata": {
    "execution": {
     "iopub.execute_input": "2025-01-04T17:51:57.259080Z",
     "iopub.status.busy": "2025-01-04T17:51:57.259012Z",
     "iopub.status.idle": "2025-01-04T17:52:44.576873Z",
     "shell.execute_reply": "2025-01-04T17:52:44.576397Z"
    },
    "ExecuteTime": {
     "end_time": "2025-01-04T22:36:12.870696Z",
     "start_time": "2025-01-04T22:35:23.035959Z"
    }
   },
   "outputs": [],
   "source": [
    "OfflineRLTraining.training(offline_training_hyperparams)"
   ]
  },
  {
   "cell_type": "markdown",
   "metadata": {
    "slideshow": {
     "slide_type": "slide"
    }
   },
   "source": [
    "**Restore and visualize trained policy**"
   ]
  },
  {
   "cell_type": "code",
   "execution_count": null,
   "metadata": {
    "execution": {
     "iopub.execute_input": "2025-01-04T17:52:44.579169Z",
     "iopub.status.busy": "2025-01-04T17:52:44.578830Z",
     "iopub.status.idle": "2025-01-04T17:52:44.595580Z",
     "shell.execute_reply": "2025-01-04T17:52:44.595058Z"
    },
    "slideshow": {
     "slide_type": "slide"
    }
   },
   "outputs": [],
   "source": [
    "available_obstacles = [ObstacleTypes.obstacle_8x8_wall_with_door]\n",
    "selected_obstacle = widget_list(available_obstacles)"
   ]
  },
  {
   "cell_type": "code",
   "execution_count": null,
   "metadata": {
    "execution": {
     "iopub.execute_input": "2025-01-04T17:52:44.596937Z",
     "iopub.status.busy": "2025-01-04T17:52:44.596845Z",
     "iopub.status.idle": "2025-01-04T17:52:45.883099Z",
     "shell.execute_reply": "2025-01-04T17:52:45.882766Z"
    },
    "slideshow": {
     "slide_type": "slide"
    }
   },
   "outputs": [],
   "source": [
    "# SAVED_POLICY_NAME = \"policy_best_reward.pth\"\n",
    "SAVED_POLICY_NAME = \"policy.pth\"\n",
    "INITIAL_STATE = (7, 7)\n",
    "FINAL_STATE = (0, 7)\n",
    "\n",
    "offline_policy_config = TrainedPolicyConfig(\n",
    "    name_expert_data=selected_data_set.value,\n",
    "    rl_policy_model=selected_offline_rl_policy.value,\n",
    "    render_mode=render_mode,\n",
    "    device=\"cpu\",\n",
    ")\n",
    "\n",
    "policy = OfflineRLTraining.restore_policy(offline_policy_config)\n",
    "\n",
    "env.set_new_obstacle_map(selected_obstacle.value.value)\n",
    "env.set_starting_point(INITIAL_STATE)\n",
    "env.set_goal_point(FINAL_STATE)\n",
    "# snapshot_env(env)\n",
    "\n",
    "offpolicy_rendering(\n",
    "    env_or_env_name=env,\n",
    "    render_mode=render_mode,\n",
    "    policy_model=policy,\n",
    "    env_2d_grid_initial_config=env_2D_grid_initial_config,\n",
    "    num_frames=100,\n",
    "    imitation_policy_sampling=False,\n",
    "    inline=True,\n",
    ")"
   ]
  },
  {
   "cell_type": "markdown",
   "metadata": {
    "slideshow": {
     "slide_type": "slide"
    }
   },
   "source": [
    "### Summary and conclusions\n",
    "\n",
    "**BCQ and the CQL policies are able to learn the expert data**\n",
    "\n",
    "**Imitation learning cannot make it because it cannot learn the critical state-action pairs.**"
   ]
  },
  {
   "cell_type": "markdown",
   "metadata": {
    "slideshow": {
     "slide_type": "slide"
    }
   },
   "source": [
    "## Exercise II "
   ]
  },
  {
   "cell_type": "markdown",
   "metadata": {
    "slideshow": {
     "slide_type": "slide"
    }
   },
   "source": [
    "**Now, we'll explore how BCQ and CQL, address the issue of connecting suboptimal trajectories in order to get new ones with higer rewards (stitching property). We will see how they compare with imitation learning.**"
   ]
  },
  {
   "cell_type": "markdown",
   "metadata": {
    "slideshow": {
     "slide_type": "slide"
    }
   },
   "source": [
    "We will start again with the previous setup. So, as we did before, we will create again two datasets: one from a policy moving suboptimal from (0,0) to (2,4), and the other from another policy moving from (4,0) to (7,7). The goal is to find an agent capable of connecting trajectories coming from both datasets, in order to find the optimal path between (2,0) and (2,4)."
   ]
  },
  {
   "cell_type": "markdown",
   "metadata": {
    "slideshow": {
     "slide_type": "slide"
    }
   },
   "source": [
    "### STEP 1: Create the environment\n",
    "\n",
    "**Create the environment**"
   ]
  },
  {
   "cell_type": "code",
   "execution_count": null,
   "metadata": {
    "execution": {
     "iopub.execute_input": "2025-01-04T17:52:45.884755Z",
     "iopub.status.busy": "2025-01-04T17:52:45.884647Z",
     "iopub.status.idle": "2025-01-04T17:52:46.142195Z",
     "shell.execute_reply": "2025-01-04T17:52:46.141759Z"
    },
    "slideshow": {
     "slide_type": "slide"
    }
   },
   "outputs": [],
   "source": [
    "ENV = EnvFactory.Grid_2D_8x8_discrete\n",
    "\n",
    "OBSTACLE = ObstacleTypes.obst_free_8x8\n",
    "INITIAL_STATE_POLICY_I = (0, 0)\n",
    "INITIAL_STATE_POLICY_II = (2, 0)\n",
    "FINAL_STATE_POLICY = (2, 4)\n",
    "\n",
    "\n",
    "env_2D_grid_initial_config_I = Grid2DInitialConfig(\n",
    "    obstacles=OBSTACLE,\n",
    "    initial_state=INITIAL_STATE_POLICY_I,\n",
    "    target_state=FINAL_STATE_POLICY,\n",
    ")\n",
    "\n",
    "env_2D_grid_initial_config_II = Grid2DInitialConfig(\n",
    "    obstacles=OBSTACLE,\n",
    "    initial_state=INITIAL_STATE_POLICY_II,\n",
    "    target_state=FINAL_STATE_POLICY,\n",
    ")\n",
    "\n",
    "env = ENV.get_env(render_mode=render_mode, grid_config=env_2D_grid_initial_config_I)\n",
    "snapshot_env(env)\n",
    "\n",
    "env = ENV.get_env(render_mode=render_mode, grid_config=env_2D_grid_initial_config_II)\n",
    "snapshot_env(env)"
   ]
  },
  {
   "cell_type": "markdown",
   "metadata": {
    "slideshow": {
     "slide_type": "slide"
    }
   },
   "source": [
    "### STEP 2: Create Minari datasets\n",
    "\n",
    "**Let's see how well offline RL algorithms can deal with the stitching property. We will examine some edge cases to compare them with some of the algorithms we have already studied before.**"
   ]
  },
  {
   "cell_type": "code",
   "execution_count": null,
   "metadata": {
    "execution": {
     "iopub.execute_input": "2025-01-04T17:52:46.143950Z",
     "iopub.status.busy": "2025-01-04T17:52:46.143791Z",
     "iopub.status.idle": "2025-01-04T17:52:46.158665Z",
     "shell.execute_reply": "2025-01-04T17:52:46.158192Z"
    },
    "slideshow": {
     "slide_type": "slide"
    }
   },
   "outputs": [],
   "source": [
    "IDENTIFIER_COMBINED_DATASETS = \"_stiching_property_I\"\n",
    "\n",
    "# Dataset I with 2000 collected points\n",
    "BEHAVIOR_POLICY_I = BehaviorPolicy2dGridFactory.deterministic_8x8\n",
    "DATA_SET_IDENTIFIER_I = \"_longer_path\"\n",
    "NUM_STEPS_I = 2000\n",
    "\n",
    "# Dataset II with 1000 points\n",
    "# BEHAVIOR_POLICY_II = BehaviorPolicyType.behavior_8x8_eps_greedy_4_0_to_7_7\n",
    "BEHAVIOR_POLICY_II = BehaviorPolicy2dGridFactory.move_right\n",
    "DATA_SET_IDENTIFIER_II = \"_short_path\"\n",
    "NUM_STEPS_II = 1000"
   ]
  },
  {
   "cell_type": "code",
   "execution_count": null,
   "metadata": {
    "execution": {
     "iopub.execute_input": "2025-01-04T17:52:46.160778Z",
     "iopub.status.busy": "2025-01-04T17:52:46.160276Z",
     "iopub.status.idle": "2025-01-04T17:52:46.175307Z",
     "shell.execute_reply": "2025-01-04T17:52:46.175031Z"
    },
    "slideshow": {
     "slide_type": "slide"
    }
   },
   "outputs": [],
   "source": [
    "select_policy_to_render = widget_list([BEHAVIOR_POLICY_I, BEHAVIOR_POLICY_II])"
   ]
  },
  {
   "cell_type": "code",
   "execution_count": null,
   "metadata": {
    "execution": {
     "iopub.execute_input": "2025-01-04T17:52:46.177428Z",
     "iopub.status.busy": "2025-01-04T17:52:46.177246Z",
     "iopub.status.idle": "2025-01-04T17:52:47.460800Z",
     "shell.execute_reply": "2025-01-04T17:52:47.460506Z"
    },
    "slideshow": {
     "slide_type": "slide"
    }
   },
   "outputs": [],
   "source": [
    "env_2D_grid_initial_config = (\n",
    "    env_2D_grid_initial_config_I\n",
    "    if select_policy_to_render.value == BEHAVIOR_POLICY_I\n",
    "    else env_2D_grid_initial_config_II\n",
    ")\n",
    "\n",
    "offpolicy_rendering(\n",
    "    env_or_env_name=ENV,\n",
    "    render_mode=render_mode,\n",
    "    policy_model=select_policy_to_render.value,\n",
    "    env_2d_grid_initial_config=env_2D_grid_initial_config,\n",
    "    num_frames=100,\n",
    ")"
   ]
  },
  {
   "cell_type": "markdown",
   "metadata": {
    "slideshow": {
     "slide_type": "slide"
    }
   },
   "source": [
    "**Create datasets**"
   ]
  },
  {
   "cell_type": "code",
   "execution_count": null,
   "metadata": {
    "execution": {
     "iopub.execute_input": "2025-01-04T17:52:47.462602Z",
     "iopub.status.busy": "2025-01-04T17:52:47.462443Z",
     "iopub.status.idle": "2025-01-04T17:52:48.229141Z",
     "shell.execute_reply": "2025-01-04T17:52:48.228635Z"
    },
    "slideshow": {
     "slide_type": "slide"
    }
   },
   "outputs": [],
   "source": [
    "config_combined_data = create_combined_minari_dataset(\n",
    "    env_name=ENV,\n",
    "    dataset_identifiers=(DATA_SET_IDENTIFIER_I, DATA_SET_IDENTIFIER_II),\n",
    "    num_collected_points=(NUM_STEPS_I, NUM_STEPS_II),\n",
    "    behavior_policies=(BEHAVIOR_POLICY_I, BEHAVIOR_POLICY_II),\n",
    "    combined_dataset_identifier=\"combined_dataset\",\n",
    "    env_2d_grid_initial_config=(env_2D_grid_initial_config_I, env_2D_grid_initial_config_II),\n",
    ")\n",
    "buffer_data = load_buffer_minari(config_combined_data.data_set_name)\n",
    "data_size = len(buffer_data)"
   ]
  },
  {
   "cell_type": "code",
   "execution_count": null,
   "metadata": {
    "execution": {
     "iopub.execute_input": "2025-01-04T17:52:48.230985Z",
     "iopub.status.busy": "2025-01-04T17:52:48.230878Z",
     "iopub.status.idle": "2025-01-04T17:52:48.243060Z",
     "shell.execute_reply": "2025-01-04T17:52:48.242730Z"
    }
   },
   "outputs": [],
   "source": [
    "dataset_availables = [\n",
    "    config_combined_data.data_set_name\n",
    "] + config_combined_data.children_dataset_names\n",
    "selected_data_set = widget_list(dataset_availables)"
   ]
  },
  {
   "cell_type": "markdown",
   "metadata": {
    "slideshow": {
     "slide_type": "slide"
    }
   },
   "source": [
    "### STEP 3: Feed data into replay buffer"
   ]
  },
  {
   "cell_type": "code",
   "execution_count": null,
   "metadata": {
    "execution": {
     "iopub.execute_input": "2025-01-04T17:52:48.244430Z",
     "iopub.status.busy": "2025-01-04T17:52:48.244207Z",
     "iopub.status.idle": "2025-01-04T17:52:48.760282Z",
     "shell.execute_reply": "2025-01-04T17:52:48.759990Z"
    },
    "slideshow": {
     "slide_type": "slide"
    }
   },
   "outputs": [],
   "source": [
    "buffer_data = load_buffer_minari(selected_data_set.value)\n",
    "len_buffer = len(buffer_data)\n",
    "\n",
    "# Compute state-action data distribution\n",
    "state_action_count_data, _ = get_state_action_data_and_policy_grid_distributions(\n",
    "    buffer_data, env, normalized=False\n",
    ")\n",
    "\n",
    "if \"start_0_0\" in selected_data_set.value:\n",
    "    env.set_starting_point((0, 0))\n",
    "    snapshot_env(env)\n",
    "elif \"start_2_0\" in selected_data_set.value:\n",
    "    env.set_starting_point((2, 0))\n",
    "    snapshot_env(env)"
   ]
  },
  {
   "cell_type": "markdown",
   "metadata": {
    "slideshow": {
     "slide_type": "slide"
    }
   },
   "source": [
    "### STEP 4: Select offline policies and training"
   ]
  },
  {
   "cell_type": "code",
   "execution_count": null,
   "metadata": {
    "execution": {
     "iopub.execute_input": "2025-01-04T17:52:48.762015Z",
     "iopub.status.busy": "2025-01-04T17:52:48.761921Z",
     "iopub.status.idle": "2025-01-04T17:52:48.773049Z",
     "shell.execute_reply": "2025-01-04T17:52:48.772810Z"
    },
    "slideshow": {
     "slide_type": "slide"
    }
   },
   "outputs": [],
   "source": [
    "offline_rl_policies = [RLPolicyFactory.bcq_discrete, RLPolicyFactory.cql_discrete]\n",
    "selected_offline_rl_policy = widget_list(offline_rl_policies)"
   ]
  },
  {
   "cell_type": "code",
   "execution_count": null,
   "metadata": {
    "execution": {
     "iopub.execute_input": "2025-01-04T17:52:48.774655Z",
     "iopub.status.busy": "2025-01-04T17:52:48.774561Z",
     "iopub.status.idle": "2025-01-04T17:52:48.784582Z",
     "shell.execute_reply": "2025-01-04T17:52:48.784398Z"
    },
    "slideshow": {
     "slide_type": "slide"
    }
   },
   "outputs": [],
   "source": [
    "# Offiline - Training\n",
    "\n",
    "NUM_EPOCHS = 2\n",
    "BATCH_SIZE = 128\n",
    "STEP_PER_EPOCH = 1.0 * len_buffer\n",
    "NUMBER_TEST_ENVS = 1\n",
    "\n",
    "\n",
    "offline_policy_config = TrainedPolicyConfig(\n",
    "    name_expert_data=selected_data_set.value,\n",
    "    rl_policy_model=selected_offline_rl_policy.value,\n",
    "    render_mode=render_mode,\n",
    "    device=\"cpu\",\n",
    ")\n",
    "\n",
    "\n",
    "# Hyperparameters to be used in the training.\n",
    "offline_training_hyperparams = OfflineTrainingHyperparams(\n",
    "    offline_policy_config=offline_policy_config,\n",
    "    num_epochs=NUM_EPOCHS,\n",
    "    number_test_envs=NUMBER_TEST_ENVS,\n",
    "    step_per_epoch=STEP_PER_EPOCH,\n",
    "    restore_training=False,\n",
    ")"
   ]
  },
  {
   "cell_type": "code",
   "execution_count": null,
   "metadata": {
    "execution": {
     "iopub.execute_input": "2025-01-04T17:52:48.786352Z",
     "iopub.status.busy": "2025-01-04T17:52:48.786212Z",
     "iopub.status.idle": "2025-01-04T17:53:37.494382Z",
     "shell.execute_reply": "2025-01-04T17:53:37.493895Z"
    }
   },
   "outputs": [],
   "source": [
    "OfflineRLTraining.training(offline_training_hyperparams)"
   ]
  },
  {
   "cell_type": "markdown",
   "metadata": {
    "slideshow": {
     "slide_type": "slide"
    }
   },
   "source": [
    "**Restore and visualize trained policy**"
   ]
  },
  {
   "cell_type": "code",
   "execution_count": null,
   "metadata": {
    "execution": {
     "iopub.execute_input": "2025-01-04T17:53:37.496255Z",
     "iopub.status.busy": "2025-01-04T17:53:37.496066Z",
     "iopub.status.idle": "2025-01-04T17:53:38.914140Z",
     "shell.execute_reply": "2025-01-04T17:53:38.913769Z"
    },
    "slideshow": {
     "slide_type": "slide"
    }
   },
   "outputs": [],
   "source": [
    "# SAVED_POLICY_NAME = \"policy_best_reward.pth\"\n",
    "SAVED_POLICY_NAME = \"policy.pth\"\n",
    "INITIAL_STATE = (0, 0)\n",
    "FINAL_STATE = (2, 4)\n",
    "\n",
    "offline_policy_config = TrainedPolicyConfig(\n",
    "    name_expert_data=selected_data_set.value,\n",
    "    rl_policy_model=selected_offline_rl_policy.value,\n",
    "    render_mode=render_mode,\n",
    "    device=\"cpu\",\n",
    ")\n",
    "\n",
    "policy = OfflineRLTraining.restore_policy(offline_policy_config)\n",
    "log_name = Path(selected_data_set.value) / Path(selected_offline_rl_policy.value)\n",
    "log_path = get_trained_policy_path() / log_name / SAVED_POLICY_NAME\n",
    "policy.load_state_dict(torch.load(str(log_path), map_location=\"cpu\"))\n",
    "\n",
    "env.set_starting_point(INITIAL_STATE)\n",
    "env.set_goal_point(FINAL_STATE)\n",
    "# snapshot_env(env)\n",
    "\n",
    "offpolicy_rendering(\n",
    "    env_or_env_name=env,\n",
    "    render_mode=render_mode,\n",
    "    policy_model=policy,\n",
    "    env_2d_grid_initial_config=env_2D_grid_initial_config,\n",
    "    num_frames=100,\n",
    "    imitation_policy_sampling=False,\n",
    ")"
   ]
  },
  {
   "cell_type": "markdown",
   "metadata": {},
   "source": [
    "**Question**: Let's now change the dataset distribution. We'll collect 600 points with the first behavior policy and 100 with the second one. In this case, the probability of taking the suboptimal path will be higher. What paths are chosen by the algorithms?"
   ]
  },
  {
   "cell_type": "markdown",
   "metadata": {
    "slideshow": {
     "slide_type": "slide"
    }
   },
   "source": [
    "## Final remarks"
   ]
  },
  {
   "cell_type": "markdown",
   "metadata": {
    "slideshow": {
     "slide_type": "slide"
    }
   },
   "source": [
    "Offline RL proves valuable in various scenarios, especially when:\n",
    "\n",
    "a. Robots require intelligent behavior in complex open-world environments demanding extensive training data due to robust visual perception requirements. (complex environment modeling and extensive data collection)\n",
    "\n",
    "b. Robot grasping tasks, which involve expert data that cannot be accurately simulated, providing an opportunity to assess our BCQ algorithm.\n",
    "\n",
    "c. Robotic navigation tasks, where offline RL aids in crafting effective navigation policies using real-world data.\n",
    "\n",
    "d. Autonomous driving, where ample expert data and an offline approach enhance safety.\n",
    "\n",
    "e. Healthcare applications, where safety is paramount due to the potential serious consequences of inaccurate forecasts.\n",
    "\n",
    "... and many more.\n",
    "\n",
    "However, if you have access to an environment with abundant data, online Reinforcement Learning (RL) can be a powerful choice due to its potential for exploration and real-time feedback. Nevertheless, the landscape of RL is evolving, and a data-centric approach is gaining prominence, exemplified by vast datasets like X-Embodiment. It's becoming evident that robots trained with diverse data across various scenarios tend to outperform those solely focused on specific tasks. Furthermore, leveraging multitask trained agents for transfer learning can be a valuable strategy for addressing your specific task at hand."
   ]
  },
  {
   "cell_type": "code",
   "execution_count": null,
   "metadata": {},
   "outputs": [],
   "source": []
  }
 ],
 "metadata": {
  "celltoolbar": "Slideshow",
  "kernelspec": {
   "display_name": "offline-rl-example",
   "language": "python",
   "name": "offline-rl-example"
  },
  "language_info": {
   "codemirror_mode": {
    "name": "ipython",
    "version": 3
   },
   "file_extension": ".py",
   "mimetype": "text/x-python",
   "name": "python",
   "nbconvert_exporter": "python",
   "pygments_lexer": "ipython3",
   "version": "3.11.11"
  },
  "toc": {
   "base_numbering": 1,
   "nav_menu": {},
   "number_sections": true,
   "sideBar": true,
   "skip_h1_title": false,
   "title_cell": "Table of Contents",
   "title_sidebar": "Contents",
   "toc_cell": false,
   "toc_position": {
    "height": "calc(100% - 180px)",
    "left": "10px",
    "top": "150px",
    "width": "396.2px"
   },
   "toc_section_display": true,
   "toc_window_display": true
  },
  "widgets": {
   "application/vnd.jupyter.widget-state+json": {
    "state": {
     "0423deb5cb654734a7db79af9684348f": {
      "model_module": "@jupyter-widgets/controls",
      "model_module_version": "2.0.0",
      "model_name": "DescriptionStyleModel",
      "state": {
       "_model_module": "@jupyter-widgets/controls",
       "_model_module_version": "2.0.0",
       "_model_name": "DescriptionStyleModel",
       "_view_count": null,
       "_view_module": "@jupyter-widgets/base",
       "_view_module_version": "2.0.0",
       "_view_name": "StyleView",
       "description_width": ""
      }
     },
     "0728c2dce5e548d78b2220215fcde35e": {
      "model_module": "@jupyter-widgets/controls",
      "model_module_version": "2.0.0",
      "model_name": "DescriptionStyleModel",
      "state": {
       "_model_module": "@jupyter-widgets/controls",
       "_model_module_version": "2.0.0",
       "_model_name": "DescriptionStyleModel",
       "_view_count": null,
       "_view_module": "@jupyter-widgets/base",
       "_view_module_version": "2.0.0",
       "_view_name": "StyleView",
       "description_width": ""
      }
     },
     "1fc57d9f13ca44908fc1cda40d78656c": {
      "model_module": "@jupyter-widgets/controls",
      "model_module_version": "2.0.0",
      "model_name": "DropdownModel",
      "state": {
       "_dom_classes": [],
       "_model_module": "@jupyter-widgets/controls",
       "_model_module_version": "2.0.0",
       "_model_name": "DropdownModel",
       "_options_labels": [
        "ObstacleTypes.obstacle_8x8_wall_with_door"
       ],
       "_view_count": null,
       "_view_module": "@jupyter-widgets/controls",
       "_view_module_version": "2.0.0",
       "_view_name": "DropdownView",
       "description": "",
       "description_allow_html": false,
       "disabled": false,
       "index": 0,
       "layout": "IPY_MODEL_3c4cb7e1444a4785b7cc74843aed991b",
       "style": "IPY_MODEL_2a9c76c54e894b3d824b699982233ac9",
       "tabbable": null,
       "tooltip": null
      }
     },
     "2a9c76c54e894b3d824b699982233ac9": {
      "model_module": "@jupyter-widgets/controls",
      "model_module_version": "2.0.0",
      "model_name": "DescriptionStyleModel",
      "state": {
       "_model_module": "@jupyter-widgets/controls",
       "_model_module_version": "2.0.0",
       "_model_name": "DescriptionStyleModel",
       "_view_count": null,
       "_view_module": "@jupyter-widgets/base",
       "_view_module_version": "2.0.0",
       "_view_name": "StyleView",
       "description_width": ""
      }
     },
     "3c4cb7e1444a4785b7cc74843aed991b": {
      "model_module": "@jupyter-widgets/base",
      "model_module_version": "2.0.0",
      "model_name": "LayoutModel",
      "state": {
       "_model_module": "@jupyter-widgets/base",
       "_model_module_version": "2.0.0",
       "_model_name": "LayoutModel",
       "_view_count": null,
       "_view_module": "@jupyter-widgets/base",
       "_view_module_version": "2.0.0",
       "_view_name": "LayoutView",
       "align_content": null,
       "align_items": null,
       "align_self": null,
       "border_bottom": null,
       "border_left": null,
       "border_right": null,
       "border_top": null,
       "bottom": null,
       "display": null,
       "flex": null,
       "flex_flow": null,
       "grid_area": null,
       "grid_auto_columns": null,
       "grid_auto_flow": null,
       "grid_auto_rows": null,
       "grid_column": null,
       "grid_gap": null,
       "grid_row": null,
       "grid_template_areas": null,
       "grid_template_columns": null,
       "grid_template_rows": null,
       "height": null,
       "justify_content": null,
       "justify_items": null,
       "left": null,
       "margin": null,
       "max_height": null,
       "max_width": null,
       "min_height": null,
       "min_width": null,
       "object_fit": null,
       "object_position": null,
       "order": null,
       "overflow": null,
       "padding": null,
       "right": null,
       "top": null,
       "visibility": null,
       "width": null
      }
     },
     "515185161cf84a68958645f54fc3a7ff": {
      "model_module": "@jupyter-widgets/controls",
      "model_module_version": "2.0.0",
      "model_name": "DescriptionStyleModel",
      "state": {
       "_model_module": "@jupyter-widgets/controls",
       "_model_module_version": "2.0.0",
       "_model_name": "DescriptionStyleModel",
       "_view_count": null,
       "_view_module": "@jupyter-widgets/base",
       "_view_module_version": "2.0.0",
       "_view_name": "StyleView",
       "description_width": ""
      }
     },
     "57bf2e5195404c90bad7b9574de0d21c": {
      "model_module": "@jupyter-widgets/controls",
      "model_module_version": "2.0.0",
      "model_name": "DropdownModel",
      "state": {
       "_dom_classes": [],
       "_model_module": "@jupyter-widgets/controls",
       "_model_module_version": "2.0.0",
       "_model_name": "DropdownModel",
       "_options_labels": [
        "bcq_discrete",
        "cql_discrete",
        "imitation_learning"
       ],
       "_view_count": null,
       "_view_module": "@jupyter-widgets/controls",
       "_view_module_version": "2.0.0",
       "_view_name": "DropdownView",
       "description": "",
       "description_allow_html": false,
       "disabled": false,
       "index": 0,
       "layout": "IPY_MODEL_d86fe0b8467d4957a63ffb55c5a899be",
       "style": "IPY_MODEL_515185161cf84a68958645f54fc3a7ff",
       "tabbable": null,
       "tooltip": null
      }
     },
     "5861cf05f5c1414ea4eef77f03d1f455": {
      "model_module": "@jupyter-widgets/controls",
      "model_module_version": "2.0.0",
      "model_name": "DropdownModel",
      "state": {
       "_dom_classes": [],
       "_model_module": "@jupyter-widgets/controls",
       "_model_module_version": "2.0.0",
       "_model_name": "DropdownModel",
       "_options_labels": [
        "move_up",
        "move_left"
       ],
       "_view_count": null,
       "_view_module": "@jupyter-widgets/controls",
       "_view_module_version": "2.0.0",
       "_view_name": "DropdownView",
       "description": "",
       "description_allow_html": false,
       "disabled": false,
       "index": 0,
       "layout": "IPY_MODEL_db15e639be80435483f1aa89957d91de",
       "style": "IPY_MODEL_85b45978d60a45fa9dc87a3f1d3c3ca2",
       "tabbable": null,
       "tooltip": null
      }
     },
     "595a33bd3ef848ca91a2c6ba998ebed5": {
      "model_module": "@jupyter-widgets/controls",
      "model_module_version": "2.0.0",
      "model_name": "DescriptionStyleModel",
      "state": {
       "_model_module": "@jupyter-widgets/controls",
       "_model_module_version": "2.0.0",
       "_model_name": "DescriptionStyleModel",
       "_view_count": null,
       "_view_module": "@jupyter-widgets/base",
       "_view_module_version": "2.0.0",
       "_view_name": "StyleView",
       "description_width": ""
      }
     },
     "6ff32a5bb8c644a8a87287ee31fdc656": {
      "model_module": "@jupyter-widgets/controls",
      "model_module_version": "2.0.0",
      "model_name": "DropdownModel",
      "state": {
       "_dom_classes": [],
       "_model_module": "@jupyter-widgets/controls",
       "_model_module_version": "2.0.0",
       "_model_name": "DropdownModel",
       "_options_labels": [
        "deterministic_8x8",
        "move_right"
       ],
       "_view_count": null,
       "_view_module": "@jupyter-widgets/controls",
       "_view_module_version": "2.0.0",
       "_view_name": "DropdownView",
       "description": "",
       "description_allow_html": false,
       "disabled": false,
       "index": 0,
       "layout": "IPY_MODEL_89db5f56073a4351b732d38621425480",
       "style": "IPY_MODEL_0423deb5cb654734a7db79af9684348f",
       "tabbable": null,
       "tooltip": null
      }
     },
     "7db4511bc42248a8a3ce6c76d7812e00": {
      "model_module": "@jupyter-widgets/controls",
      "model_module_version": "2.0.0",
      "model_name": "DropdownModel",
      "state": {
       "_dom_classes": [],
       "_model_module": "@jupyter-widgets/controls",
       "_model_module_version": "2.0.0",
       "_model_name": "DropdownModel",
       "_options_labels": [
        "bcq_discrete",
        "cql_discrete"
       ],
       "_view_count": null,
       "_view_module": "@jupyter-widgets/controls",
       "_view_module_version": "2.0.0",
       "_view_name": "DropdownView",
       "description": "",
       "description_allow_html": false,
       "disabled": false,
       "index": 0,
       "layout": "IPY_MODEL_88a1d639b3f8458987708798c662deaa",
       "style": "IPY_MODEL_e79ef9e761464533ad8356fb9ee591d0",
       "tabbable": null,
       "tooltip": null
      }
     },
     "85b45978d60a45fa9dc87a3f1d3c3ca2": {
      "model_module": "@jupyter-widgets/controls",
      "model_module_version": "2.0.0",
      "model_name": "DescriptionStyleModel",
      "state": {
       "_model_module": "@jupyter-widgets/controls",
       "_model_module_version": "2.0.0",
       "_model_name": "DescriptionStyleModel",
       "_view_count": null,
       "_view_module": "@jupyter-widgets/base",
       "_view_module_version": "2.0.0",
       "_view_name": "StyleView",
       "description_width": ""
      }
     },
     "88a1d639b3f8458987708798c662deaa": {
      "model_module": "@jupyter-widgets/base",
      "model_module_version": "2.0.0",
      "model_name": "LayoutModel",
      "state": {
       "_model_module": "@jupyter-widgets/base",
       "_model_module_version": "2.0.0",
       "_model_name": "LayoutModel",
       "_view_count": null,
       "_view_module": "@jupyter-widgets/base",
       "_view_module_version": "2.0.0",
       "_view_name": "LayoutView",
       "align_content": null,
       "align_items": null,
       "align_self": null,
       "border_bottom": null,
       "border_left": null,
       "border_right": null,
       "border_top": null,
       "bottom": null,
       "display": null,
       "flex": null,
       "flex_flow": null,
       "grid_area": null,
       "grid_auto_columns": null,
       "grid_auto_flow": null,
       "grid_auto_rows": null,
       "grid_column": null,
       "grid_gap": null,
       "grid_row": null,
       "grid_template_areas": null,
       "grid_template_columns": null,
       "grid_template_rows": null,
       "height": null,
       "justify_content": null,
       "justify_items": null,
       "left": null,
       "margin": null,
       "max_height": null,
       "max_width": null,
       "min_height": null,
       "min_width": null,
       "object_fit": null,
       "object_position": null,
       "order": null,
       "overflow": null,
       "padding": null,
       "right": null,
       "top": null,
       "visibility": null,
       "width": null
      }
     },
     "89db5f56073a4351b732d38621425480": {
      "model_module": "@jupyter-widgets/base",
      "model_module_version": "2.0.0",
      "model_name": "LayoutModel",
      "state": {
       "_model_module": "@jupyter-widgets/base",
       "_model_module_version": "2.0.0",
       "_model_name": "LayoutModel",
       "_view_count": null,
       "_view_module": "@jupyter-widgets/base",
       "_view_module_version": "2.0.0",
       "_view_name": "LayoutView",
       "align_content": null,
       "align_items": null,
       "align_self": null,
       "border_bottom": null,
       "border_left": null,
       "border_right": null,
       "border_top": null,
       "bottom": null,
       "display": null,
       "flex": null,
       "flex_flow": null,
       "grid_area": null,
       "grid_auto_columns": null,
       "grid_auto_flow": null,
       "grid_auto_rows": null,
       "grid_column": null,
       "grid_gap": null,
       "grid_row": null,
       "grid_template_areas": null,
       "grid_template_columns": null,
       "grid_template_rows": null,
       "height": null,
       "justify_content": null,
       "justify_items": null,
       "left": null,
       "margin": null,
       "max_height": null,
       "max_width": null,
       "min_height": null,
       "min_width": null,
       "object_fit": null,
       "object_position": null,
       "order": null,
       "overflow": null,
       "padding": null,
       "right": null,
       "top": null,
       "visibility": null,
       "width": null
      }
     },
     "9b04f0caaa8e4aa6bacce693f422f2a8": {
      "model_module": "@jupyter-widgets/controls",
      "model_module_version": "2.0.0",
      "model_name": "DropdownModel",
      "state": {
       "_dom_classes": [],
       "_model_module": "@jupyter-widgets/controls",
       "_model_module_version": "2.0.0",
       "_model_name": "DropdownModel",
       "_options_labels": [
        "Grid_2D_8x8_discrete-combined_dataset-v0",
        "Grid_2D_8x8_discrete-data_obst_free_8x8_start_0_0_target_2_4_longer_path-v0",
        "Grid_2D_8x8_discrete-data_obst_free_8x8_start_2_0_target_2_4_short_path-v0"
       ],
       "_view_count": null,
       "_view_module": "@jupyter-widgets/controls",
       "_view_module_version": "2.0.0",
       "_view_name": "DropdownView",
       "description": "",
       "description_allow_html": false,
       "disabled": false,
       "index": 0,
       "layout": "IPY_MODEL_9e7e76dd1d274755bcb9df88d420aea9",
       "style": "IPY_MODEL_595a33bd3ef848ca91a2c6ba998ebed5",
       "tabbable": null,
       "tooltip": null
      }
     },
     "9e7e76dd1d274755bcb9df88d420aea9": {
      "model_module": "@jupyter-widgets/base",
      "model_module_version": "2.0.0",
      "model_name": "LayoutModel",
      "state": {
       "_model_module": "@jupyter-widgets/base",
       "_model_module_version": "2.0.0",
       "_model_name": "LayoutModel",
       "_view_count": null,
       "_view_module": "@jupyter-widgets/base",
       "_view_module_version": "2.0.0",
       "_view_name": "LayoutView",
       "align_content": null,
       "align_items": null,
       "align_self": null,
       "border_bottom": null,
       "border_left": null,
       "border_right": null,
       "border_top": null,
       "bottom": null,
       "display": null,
       "flex": null,
       "flex_flow": null,
       "grid_area": null,
       "grid_auto_columns": null,
       "grid_auto_flow": null,
       "grid_auto_rows": null,
       "grid_column": null,
       "grid_gap": null,
       "grid_row": null,
       "grid_template_areas": null,
       "grid_template_columns": null,
       "grid_template_rows": null,
       "height": null,
       "justify_content": null,
       "justify_items": null,
       "left": null,
       "margin": null,
       "max_height": null,
       "max_width": null,
       "min_height": null,
       "min_width": null,
       "object_fit": null,
       "object_position": null,
       "order": null,
       "overflow": null,
       "padding": null,
       "right": null,
       "top": null,
       "visibility": null,
       "width": null
      }
     },
     "9f7409c0eea645d29589d446f79956cd": {
      "model_module": "@jupyter-widgets/controls",
      "model_module_version": "2.0.0",
      "model_name": "DropdownModel",
      "state": {
       "_dom_classes": [],
       "_model_module": "@jupyter-widgets/controls",
       "_model_module_version": "2.0.0",
       "_model_name": "DropdownModel",
       "_options_labels": [
        "Grid_2D_8x8_discrete-combined_data_sets_offline_rl-v0",
        "Grid_2D_8x8_discrete-data_obstacle_8x8_wall_with_door_start_7_7_target_0_7_expert-v0",
        "Grid_2D_8x8_discrete-data_obstacle_8x8_wall_with_door_start_7_7_target_0_7_suboptimal-v0"
       ],
       "_view_count": null,
       "_view_module": "@jupyter-widgets/controls",
       "_view_module_version": "2.0.0",
       "_view_name": "DropdownView",
       "description": "",
       "description_allow_html": false,
       "disabled": false,
       "index": 0,
       "layout": "IPY_MODEL_a3cb949f8bba4293a80ab7a1d9b0610c",
       "style": "IPY_MODEL_0728c2dce5e548d78b2220215fcde35e",
       "tabbable": null,
       "tooltip": null
      }
     },
     "a3cb949f8bba4293a80ab7a1d9b0610c": {
      "model_module": "@jupyter-widgets/base",
      "model_module_version": "2.0.0",
      "model_name": "LayoutModel",
      "state": {
       "_model_module": "@jupyter-widgets/base",
       "_model_module_version": "2.0.0",
       "_model_name": "LayoutModel",
       "_view_count": null,
       "_view_module": "@jupyter-widgets/base",
       "_view_module_version": "2.0.0",
       "_view_name": "LayoutView",
       "align_content": null,
       "align_items": null,
       "align_self": null,
       "border_bottom": null,
       "border_left": null,
       "border_right": null,
       "border_top": null,
       "bottom": null,
       "display": null,
       "flex": null,
       "flex_flow": null,
       "grid_area": null,
       "grid_auto_columns": null,
       "grid_auto_flow": null,
       "grid_auto_rows": null,
       "grid_column": null,
       "grid_gap": null,
       "grid_row": null,
       "grid_template_areas": null,
       "grid_template_columns": null,
       "grid_template_rows": null,
       "height": null,
       "justify_content": null,
       "justify_items": null,
       "left": null,
       "margin": null,
       "max_height": null,
       "max_width": null,
       "min_height": null,
       "min_width": null,
       "object_fit": null,
       "object_position": null,
       "order": null,
       "overflow": null,
       "padding": null,
       "right": null,
       "top": null,
       "visibility": null,
       "width": null
      }
     },
     "b9e165b7d618420986fc4ce858e3816b": {
      "model_module": "@jupyter-widgets/controls",
      "model_module_version": "2.0.0",
      "model_name": "DescriptionStyleModel",
      "state": {
       "_model_module": "@jupyter-widgets/controls",
       "_model_module_version": "2.0.0",
       "_model_name": "DescriptionStyleModel",
       "_view_count": null,
       "_view_module": "@jupyter-widgets/base",
       "_view_module_version": "2.0.0",
       "_view_name": "StyleView",
       "description_width": ""
      }
     },
     "d86fe0b8467d4957a63ffb55c5a899be": {
      "model_module": "@jupyter-widgets/base",
      "model_module_version": "2.0.0",
      "model_name": "LayoutModel",
      "state": {
       "_model_module": "@jupyter-widgets/base",
       "_model_module_version": "2.0.0",
       "_model_name": "LayoutModel",
       "_view_count": null,
       "_view_module": "@jupyter-widgets/base",
       "_view_module_version": "2.0.0",
       "_view_name": "LayoutView",
       "align_content": null,
       "align_items": null,
       "align_self": null,
       "border_bottom": null,
       "border_left": null,
       "border_right": null,
       "border_top": null,
       "bottom": null,
       "display": null,
       "flex": null,
       "flex_flow": null,
       "grid_area": null,
       "grid_auto_columns": null,
       "grid_auto_flow": null,
       "grid_auto_rows": null,
       "grid_column": null,
       "grid_gap": null,
       "grid_row": null,
       "grid_template_areas": null,
       "grid_template_columns": null,
       "grid_template_rows": null,
       "height": null,
       "justify_content": null,
       "justify_items": null,
       "left": null,
       "margin": null,
       "max_height": null,
       "max_width": null,
       "min_height": null,
       "min_width": null,
       "object_fit": null,
       "object_position": null,
       "order": null,
       "overflow": null,
       "padding": null,
       "right": null,
       "top": null,
       "visibility": null,
       "width": null
      }
     },
     "db15e639be80435483f1aa89957d91de": {
      "model_module": "@jupyter-widgets/base",
      "model_module_version": "2.0.0",
      "model_name": "LayoutModel",
      "state": {
       "_model_module": "@jupyter-widgets/base",
       "_model_module_version": "2.0.0",
       "_model_name": "LayoutModel",
       "_view_count": null,
       "_view_module": "@jupyter-widgets/base",
       "_view_module_version": "2.0.0",
       "_view_name": "LayoutView",
       "align_content": null,
       "align_items": null,
       "align_self": null,
       "border_bottom": null,
       "border_left": null,
       "border_right": null,
       "border_top": null,
       "bottom": null,
       "display": null,
       "flex": null,
       "flex_flow": null,
       "grid_area": null,
       "grid_auto_columns": null,
       "grid_auto_flow": null,
       "grid_auto_rows": null,
       "grid_column": null,
       "grid_gap": null,
       "grid_row": null,
       "grid_template_areas": null,
       "grid_template_columns": null,
       "grid_template_rows": null,
       "height": null,
       "justify_content": null,
       "justify_items": null,
       "left": null,
       "margin": null,
       "max_height": null,
       "max_width": null,
       "min_height": null,
       "min_width": null,
       "object_fit": null,
       "object_position": null,
       "order": null,
       "overflow": null,
       "padding": null,
       "right": null,
       "top": null,
       "visibility": null,
       "width": null
      }
     },
     "e79ef9e761464533ad8356fb9ee591d0": {
      "model_module": "@jupyter-widgets/controls",
      "model_module_version": "2.0.0",
      "model_name": "DescriptionStyleModel",
      "state": {
       "_model_module": "@jupyter-widgets/controls",
       "_model_module_version": "2.0.0",
       "_model_name": "DescriptionStyleModel",
       "_view_count": null,
       "_view_module": "@jupyter-widgets/base",
       "_view_module_version": "2.0.0",
       "_view_name": "StyleView",
       "description_width": ""
      }
     },
     "f48c468b1d6e4b3d94d026e4db3c7938": {
      "model_module": "@jupyter-widgets/controls",
      "model_module_version": "2.0.0",
      "model_name": "DropdownModel",
      "state": {
       "_dom_classes": [],
       "_model_module": "@jupyter-widgets/controls",
       "_model_module_version": "2.0.0",
       "_model_name": "DropdownModel",
       "_options_labels": [
        "ObstacleTypes.obstacle_8x8_wall_with_door"
       ],
       "_view_count": null,
       "_view_module": "@jupyter-widgets/controls",
       "_view_module_version": "2.0.0",
       "_view_name": "DropdownView",
       "description": "",
       "description_allow_html": false,
       "disabled": false,
       "index": 0,
       "layout": "IPY_MODEL_fcae823663704a988284e514c9f3aa7b",
       "style": "IPY_MODEL_b9e165b7d618420986fc4ce858e3816b",
       "tabbable": null,
       "tooltip": null
      }
     },
     "fcae823663704a988284e514c9f3aa7b": {
      "model_module": "@jupyter-widgets/base",
      "model_module_version": "2.0.0",
      "model_name": "LayoutModel",
      "state": {
       "_model_module": "@jupyter-widgets/base",
       "_model_module_version": "2.0.0",
       "_model_name": "LayoutModel",
       "_view_count": null,
       "_view_module": "@jupyter-widgets/base",
       "_view_module_version": "2.0.0",
       "_view_name": "LayoutView",
       "align_content": null,
       "align_items": null,
       "align_self": null,
       "border_bottom": null,
       "border_left": null,
       "border_right": null,
       "border_top": null,
       "bottom": null,
       "display": null,
       "flex": null,
       "flex_flow": null,
       "grid_area": null,
       "grid_auto_columns": null,
       "grid_auto_flow": null,
       "grid_auto_rows": null,
       "grid_column": null,
       "grid_gap": null,
       "grid_row": null,
       "grid_template_areas": null,
       "grid_template_columns": null,
       "grid_template_rows": null,
       "height": null,
       "justify_content": null,
       "justify_items": null,
       "left": null,
       "margin": null,
       "max_height": null,
       "max_width": null,
       "min_height": null,
       "min_width": null,
       "object_fit": null,
       "object_position": null,
       "order": null,
       "overflow": null,
       "padding": null,
       "right": null,
       "top": null,
       "visibility": null,
       "width": null
      }
     }
    },
    "version_major": 2,
    "version_minor": 0
   }
  }
 },
 "nbformat": 4,
 "nbformat_minor": 1
}
