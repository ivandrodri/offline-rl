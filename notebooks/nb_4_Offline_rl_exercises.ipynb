{
 "cells": [
  {
   "cell_type": "code",
   "execution_count": 20,
   "metadata": {
    "ExecuteTime": {
     "end_time": "2024-12-27T22:05:12.397916Z",
     "start_time": "2024-12-27T22:05:12.084667Z"
    }
   },
   "outputs": [],
   "source": [
    "%%capture\n",
    "%load_ext autoreload\n",
    "%autoreload 2\n",
    "%matplotlib inline\n",
    "%load_ext offline_rl\n",
    "%set_random_seed 12"
   ]
  },
  {
   "cell_type": "code",
   "execution_count": 21,
   "metadata": {
    "ExecuteTime": {
     "end_time": "2024-12-27T22:05:12.404305Z",
     "start_time": "2024-12-27T22:05:12.398885Z"
    }
   },
   "outputs": [
    {
     "name": "stderr",
     "output_type": "stream",
     "text": [
      "UsageError: Line magic function `%presentation_style` not found.\n"
     ]
    }
   ],
   "source": [
    "%presentation_style"
   ]
  },
  {
   "cell_type": "code",
   "execution_count": 22,
   "metadata": {
    "ExecuteTime": {
     "end_time": "2024-12-27T22:05:12.494310Z",
     "start_time": "2024-12-27T22:05:12.488401Z"
    }
   },
   "outputs": [
    {
     "name": "stderr",
     "output_type": "stream",
     "text": [
      "UsageError: Line magic function `%load_latex_macros` not found.\n"
     ]
    }
   ],
   "source": [
    "%load_latex_macros"
   ]
  },
  {
   "cell_type": "code",
   "execution_count": 23,
   "metadata": {
    "ExecuteTime": {
     "end_time": "2024-12-27T22:05:12.656177Z",
     "start_time": "2024-12-27T22:05:12.647863Z"
    }
   },
   "outputs": [],
   "source": [
    "%autoreload"
   ]
  },
  {
   "cell_type": "code",
   "execution_count": 37,
   "metadata": {
    "ExecuteTime": {
     "end_time": "2024-12-27T22:23:53.350313Z",
     "start_time": "2024-12-27T22:23:53.322616Z"
    }
   },
   "outputs": [],
   "source": [
    "from offline_rl.load_env_variables import load_env_variables\n",
    "\n",
    "load_env_variables()\n",
    "import os\n",
    "import gymnasium as gym\n",
    "import torch\n",
    "import warnings\n",
    "import matplotlib.pyplot as plt\n",
    "import numpy as np\n",
    "from offline_rl.custom_envs.custom_2d_grid_env.obstacles_2D_grid_register import ObstacleTypes\n",
    "from offline_rl.custom_envs.custom_envs_registration import CustomEnv, RenderMode, EnvFactory\n",
    "from offline_rl.offline_policies.offpolicy_rendering import offpolicy_rendering\n",
    "from offline_rl.offline_trainings.policy_config_data_class import (\n",
    "    TrainedPolicyConfig,\n",
    "    get_trained_policy_path,\n",
    ")\n",
    "from offline_rl.offline_trainings.offline_training import OfflineRLTraining\n",
    "from offline_rl.utils import widget_list\n",
    "from offline_rl.visualizations.utils import (\n",
    "    get_state_action_data_and_policy_grid_distributions,\n",
    "    snapshot_env,\n",
    ")\n",
    "from offline_rl.utils import load_buffer_minari\n",
    "from offline_rl.custom_envs.env_wrappers import Grid2DInitialConfig\n",
    "from offline_rl.behavior_policies.behavior_policy_registry import BehaviorPolicy2dGridFactory\n",
    "from offline_rl.offline_trainings.training_interface import OfflineTrainingHyperparams\n",
    "from pathlib import Path\n",
    "\n",
    "\n",
    "warnings.filterwarnings(\"ignore\")\n",
    "render_mode = RenderMode.RGB_ARRAY"
   ]
  },
  {
   "cell_type": "markdown",
   "metadata": {
    "slideshow": {
     "slide_type": "slide"
    }
   },
   "source": [
    "Offline RL pipeline:\n",
    "\n",
    "<img src=\"_static/images/93_offline_RL_pipeline.png\" alt=\"Snow\" style=\"width:50%;\">"
   ]
  },
  {
   "cell_type": "markdown",
   "metadata": {
    "slideshow": {
     "slide_type": "slide"
    }
   },
   "source": [
    "# Offline RL algorithms exercises"
   ]
  },
  {
   "cell_type": "markdown",
   "metadata": {
    "slideshow": {
     "slide_type": "slide"
    }
   },
   "source": [
    "**Off-policy methods cannot learn from data efficiently unless a significant amount of data covering a large portion of the environment states is available**. Only in such cases can the agent explore the environment and get feedback similar to what's done in an online approach. However, this scenario is rare and challenging to achieve in realistic applications, which is one of the reasons why we turn to offline RL, where only a small amount of data is available."
   ]
  },
  {
   "cell_type": "markdown",
   "metadata": {
    "slideshow": {
     "slide_type": "slide"
    }
   },
   "source": [
    "One of the major issues when applying off-policy methods to collected data is the agent's tendency to go out-of-distribution (o.o.d.). More importantly, once it goes o.o.d., the policy becomes unpredictable, making it impossible to return to the in-distribution region. This unpredictability propagates errors in the policy evaluation process (i.e., the dynamic programming equations), destroying the algorithm's learning capabilities."
   ]
  },
  {
   "cell_type": "markdown",
   "metadata": {
    "slideshow": {
     "slide_type": "slide"
    }
   },
   "source": [
    "## Exercise I\n",
    "\n",
    "Let's collect a small amount of expert data and a larger amount of suboptimal data. We will play with two offline RL algorithms, BCQ and CQL, and we will check it they can recover the expert policy without going o.o.d. We will compare the results with the imitation learning approach, specifically the BC algorithm, which in some cases is another viable option when expert data is available.\n",
    "\n",
    "\n",
    "In this exercise, we will collect two datasets: one with expert and another with suboptimal data. The goal of the agent will be to get as close as possible to the target.\n",
    "\n",
    "I - **expert policy**: collect ~ 1000 steps\n",
    "\n",
    "II  - **Suboptimal policy**:  collect ~ 2000 steps"
   ]
  },
  {
   "cell_type": "markdown",
   "metadata": {
    "slideshow": {
     "slide_type": "slide"
    }
   },
   "source": [
    "### STEP 1: Create the environment"
   ]
  },
  {
   "cell_type": "code",
   "execution_count": 26,
   "metadata": {
    "ExecuteTime": {
     "end_time": "2024-12-27T22:05:14.246613Z",
     "start_time": "2024-12-27T22:05:14.233700Z"
    },
    "slideshow": {
     "slide_type": "slide"
    }
   },
   "outputs": [
    {
     "data": {
      "application/vnd.jupyter.widget-view+json": {
       "model_id": "07cc79215a7e4013817595f70ee0fc1c",
       "version_major": 2,
       "version_minor": 0
      },
      "text/plain": [
       "Dropdown(options=(<ObstacleTypes.obstacle_8x8_wall_with_door: ['00000000', '00000000', '00000000', '00000000',…"
      ]
     },
     "metadata": {},
     "output_type": "display_data"
    }
   ],
   "source": [
    "obstacle_selected = widget_list([ObstacleTypes.obstacle_8x8_wall_with_door])"
   ]
  },
  {
   "cell_type": "code",
   "execution_count": 27,
   "metadata": {
    "ExecuteTime": {
     "end_time": "2024-12-27T22:05:14.360772Z",
     "start_time": "2024-12-27T22:05:14.247391Z"
    },
    "slideshow": {
     "slide_type": "slide"
    }
   },
   "outputs": [
    {
     "data": {
      "image/png": "[encoded data removed]",
      "text/plain": [
       "<Figure size 640x480 with 1 Axes>"
      ]
     },
     "metadata": {},
     "output_type": "display_data"
    }
   ],
   "source": [
    "ENV = EnvFactory.Grid_2D_8x8_discrete\n",
    "\n",
    "# Grid configuration\n",
    "OBSTACLE = obstacle_selected.value\n",
    "INITIAL_STATE = (7, 7)\n",
    "FINAL_STATE = (0, 7)\n",
    "\n",
    "env_2D_grid_initial_config = Grid2DInitialConfig(\n",
    "    obstacles=OBSTACLE,\n",
    "    initial_state=INITIAL_STATE,\n",
    "    target_state=FINAL_STATE,\n",
    ")\n",
    "\n",
    "env = ENV.get_env(render_mode=render_mode, grid_config=env_2D_grid_initial_config)\n",
    "\n",
    "snapshot_env(env)"
   ]
  },
  {
   "cell_type": "markdown",
   "metadata": {
    "slideshow": {
     "slide_type": "slide"
    }
   },
   "source": [
    "### STEP 2: Create Minari datasets"
   ]
  },
  {
   "cell_type": "markdown",
   "metadata": {
    "slideshow": {
     "slide_type": "slide"
    }
   },
   "source": [
    "**Behavior policies and datasets configurations**"
   ]
  },
  {
   "cell_type": "code",
   "execution_count": 28,
   "metadata": {
    "ExecuteTime": {
     "end_time": "2024-12-27T22:05:15.653088Z",
     "start_time": "2024-12-27T22:05:15.641596Z"
    },
    "slideshow": {
     "slide_type": "slide"
    }
   },
   "outputs": [],
   "source": [
    "BEHAVIOR_POLICY_I = BehaviorPolicy2dGridFactory.move_up\n",
    "DATA_SET_IDENTIFIER_I = \"_expert\"\n",
    "NUM_STEPS_I = 1000\n",
    "\n",
    "BEHAVIOR_POLICY_II = BehaviorPolicy2dGridFactory.move_left\n",
    "DATA_SET_IDENTIFIER_II = \"_suboptimal\"\n",
    "NUM_STEPS_II = 2000"
   ]
  },
  {
   "cell_type": "code",
   "execution_count": 29,
   "metadata": {
    "ExecuteTime": {
     "end_time": "2024-12-27T22:05:16.046784Z",
     "start_time": "2024-12-27T22:05:16.033734Z"
    },
    "slideshow": {
     "slide_type": "slide"
    }
   },
   "outputs": [
    {
     "data": {
      "application/vnd.jupyter.widget-view+json": {
       "model_id": "2b0af4e84cf54b2293415b7d1ec909cd",
       "version_major": 2,
       "version_minor": 0
      },
      "text/plain": [
       "Dropdown(options=(<BehaviorPolicy2dGridFactory.move_up: 'move_up'>, <BehaviorPolicy2dGridFactory.move_left: 'm…"
      ]
     },
     "metadata": {},
     "output_type": "display_data"
    }
   ],
   "source": [
    "policy_selected = widget_list([BEHAVIOR_POLICY_I, BEHAVIOR_POLICY_II])"
   ]
  },
  {
   "cell_type": "code",
   "execution_count": 31,
   "metadata": {
    "ExecuteTime": {
     "end_time": "2024-12-27T22:05:17.781486Z",
     "start_time": "2024-12-27T22:05:16.308580Z"
    },
    "slideshow": {
     "slide_type": "slide"
    }
   },
   "outputs": [
    {
     "data": {
      "text/html": [
       "<table class=\"show_videos\" style=\"border-spacing:0px;\"><tr><td style=\"padding:1px;\"><div style=\"display:flex; align-items:left;\">\n",
       "      <div style=\"display:flex; flex-direction:column; align-items:center;\">\n",
       "      <div>2d-GridWorld</div><div><video controls width=\"256\" height=\"256\" style=\"object-fit:cover;\" loop autoplay muted>\n",
       "      <source src=\"data:video/mp4;base64,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\" type=\"video/mp4\"/>\n",
       "      This browser does not support the video tag.\n",
       "      </video></div></div></div></td></tr></table>"
      ],
      "text/plain": [
       "<IPython.core.display.HTML object>"
      ]
     },
     "metadata": {},
     "output_type": "display_data"
    }
   ],
   "source": [
    "offpolicy_rendering(\n",
    "    env_or_env_name=ENV,\n",
    "    render_mode=render_mode,\n",
    "    behavior_policy=policy_selected.value,\n",
    "    env_2d_grid_initial_config=env_2D_grid_initial_config,\n",
    "    num_frames=100,\n",
    ")"
   ]
  },
  {
   "cell_type": "markdown",
   "metadata": {
    "slideshow": {
     "slide_type": "slide"
    }
   },
   "source": [
    "**Collect data**"
   ]
  },
  {
   "cell_type": "code",
   "execution_count": 32,
   "metadata": {
    "ExecuteTime": {
     "end_time": "2024-12-27T22:06:45.729631Z",
     "start_time": "2024-12-27T22:06:45.464746Z"
    },
    "slideshow": {
     "slide_type": "slide"
    }
   },
   "outputs": [
    {
     "name": "stdout",
     "output_type": "stream",
     "text": [
      "Dataset Grid_2D_8x8_discrete-data_obstacle_8x8_wall_with_door_start_7_7_target_0_7_expert-v0 deleted!\n",
      "Dataset Grid_2D_8x8_discrete-data_obstacle_8x8_wall_with_door_start_7_7_target_0_7_suboptimal-v0 deleted!\n",
      "Dataset Grid_2D_8x8_discrete-combined_data_sets_offline_rl-v0 deleted!\n",
      "Number of episodes in dataset I:20, in dataset II:40 and  in the combined dataset: 60\n"
     ]
    },
    {
     "data": {
      "application/vnd.jupyter.widget-view+json": {
       "model_id": "a17ee9c53d674ae1bcb8d937d2e6838a",
       "version_major": 2,
       "version_minor": 0
      },
      "text/plain": [
       "Dropdown(options=('Grid_2D_8x8_discrete-combined_data_sets_offline_rl-v0', 'Grid_2D_8x8_discrete-data_obstacle…"
      ]
     },
     "metadata": {},
     "output_type": "display_data"
    }
   ],
   "source": [
    "from offline_rl.generate_custom_minari_datasets.generate_minari_dataset import (\n",
    "    create_combined_minari_dataset,\n",
    ")\n",
    "\n",
    "config_combined_data = create_combined_minari_dataset(\n",
    "    env_name=ENV,\n",
    "    dataset_identifiers=(DATA_SET_IDENTIFIER_I, DATA_SET_IDENTIFIER_II),\n",
    "    num_collected_points=(NUM_STEPS_I, NUM_STEPS_II),\n",
    "    behavior_policies=(BEHAVIOR_POLICY_I, BEHAVIOR_POLICY_II),\n",
    "    combined_dataset_identifier=\"combined_data_sets_offline_rl\",\n",
    "    env_2d_grid_initial_config=env_2D_grid_initial_config,\n",
    ")\n",
    "\n",
    "dataset_availables = [\n",
    "    config_combined_data.data_set_name\n",
    "] + config_combined_data.children_dataset_names\n",
    "selected_data_set = widget_list(dataset_availables)"
   ]
  },
  {
   "cell_type": "markdown",
   "metadata": {
    "slideshow": {
     "slide_type": "slide"
    }
   },
   "source": [
    "### STEP 3: Feed data into replay buffer"
   ]
  },
  {
   "cell_type": "code",
   "execution_count": 33,
   "metadata": {
    "ExecuteTime": {
     "end_time": "2024-12-27T22:06:53.779702Z",
     "start_time": "2024-12-27T22:06:53.216973Z"
    },
    "scrolled": false,
    "slideshow": {
     "slide_type": "slide"
    }
   },
   "outputs": [
    {
     "name": "stdout",
     "output_type": "stream",
     "text": [
      "Dataset /home/ivan/Documents/GIT_PROJECTS/offline-rl/src/offline_rl/data/offline_data/Grid_2D_8x8_discrete-combined_data_sets_offline_rl-v0 downloaded. number of episodes: 60\n"
     ]
    },
    {
     "data": {
      "image/png": "[encoded data removed]",
      "text/plain": [
       "<Figure size 1000x500 with 1 Axes>"
      ]
     },
     "metadata": {},
     "output_type": "display_data"
    },
    {
     "data": {
      "image/png": "[encoded data removed]",
      "text/plain": [
       "<Figure size 640x480 with 1 Axes>"
      ]
     },
     "metadata": {},
     "output_type": "display_data"
    }
   ],
   "source": [
    "buffer_data = load_buffer_minari(selected_data_set.value)\n",
    "len_buffer = len(buffer_data)\n",
    "\n",
    "# Compute state-action data distribution\n",
    "state_action_count_data, _ = get_state_action_data_and_policy_grid_distributions(buffer_data, env)\n",
    "snapshot_env(env)"
   ]
  },
  {
   "cell_type": "markdown",
   "metadata": {},
   "source": [
    "#### Data analysis\n",
    "\n",
    "Note that we have four peaks. The ones at (2,7) and (3,7) come from policy-I, which goes towards the target but stops before reaching it. The other two peaks at (6,0) and (7,0) are produced by policy-II, which drifts the agent to the left with noise. **It is important to notice that the amount of collected data at state (5,7) is very little, but this state is crucial if we want to approach the target.**\n",
    "\n",
    "What do you think a BC algorithm would do? What about an offline one?\n",
    "\n",
    "<div style=\"margin-top: 20px;\">\n",
    "    <div style=\"display: flex; justify-content: space-between;\">\n",
    "        <div style=\"width: 100%;\">\n",
    "            <img src=\"_static/images/nb_96_critical_state.png\" alt=\"Snow\" style=\"width:100%;\">\n",
    "        </div>\n",
    "        <div style=\"width: 100%;\">\n",
    "            <img src=\"_static/images/96_critical_action_states.png\" alt=\"KL divergence\" width=80%>\n",
    "        </div>\n",
    "    </div>\n",
    "</div>"
   ]
  },
  {
   "cell_type": "markdown",
   "metadata": {
    "slideshow": {
     "slide_type": "slide"
    }
   },
   "source": [
    "### STEP 4-5: Select offline policies and training"
   ]
  },
  {
   "cell_type": "code",
   "execution_count": 34,
   "metadata": {
    "ExecuteTime": {
     "end_time": "2024-12-27T22:06:57.736669Z",
     "start_time": "2024-12-27T22:06:57.718076Z"
    },
    "slideshow": {
     "slide_type": "slide"
    }
   },
   "outputs": [
    {
     "data": {
      "application/vnd.jupyter.widget-view+json": {
       "model_id": "70c5e5c2881443d4a7101bb062f618c6",
       "version_major": 2,
       "version_minor": 0
      },
      "text/plain": [
       "Dropdown(options=(<RLPolicyFactory.bcq_discrete: 'bcq_discrete'>, <RLPolicyFactory.cql_discrete: 'cql_discrete…"
      ]
     },
     "metadata": {},
     "output_type": "display_data"
    }
   ],
   "source": [
    "from offline_rl.offline_policies.policy_registry import RLPolicyFactory\n",
    "\n",
    "offline_rl_policies = [\n",
    "    RLPolicyFactory.bcq_discrete,\n",
    "    RLPolicyFactory.cql_discrete,\n",
    "    RLPolicyFactory.imitation_learning,\n",
    "]\n",
    "selected_offline_rl_policy = widget_list(offline_rl_policies)"
   ]
  },
  {
   "cell_type": "markdown",
   "metadata": {
    "slideshow": {
     "slide_type": "slide"
    }
   },
   "source": [
    "**Training**"
   ]
  },
  {
   "cell_type": "code",
   "execution_count": 36,
   "metadata": {
    "ExecuteTime": {
     "end_time": "2024-12-27T22:07:00.586492Z",
     "start_time": "2024-12-27T22:07:00.572209Z"
    },
    "slideshow": {
     "slide_type": "slide"
    }
   },
   "outputs": [],
   "source": [
    "NUM_EPOCHS = 2\n",
    "BATCH_SIZE = 128\n",
    "STEP_PER_EPOCH = 1.0 * len_buffer\n",
    "NUMBER_TEST_ENVS = 1\n",
    "\n",
    "# Metadata for the offline policy. Included the Minari metadata as well as the policy model configuration.\n",
    "offline_policy_config = TrainedPolicyConfig(\n",
    "    rl_policy_model=selected_offline_rl_policy.value,\n",
    "    name_expert_data=selected_data_set.value,\n",
    "    render_mode=render_mode,\n",
    "    device=\"cpu\",\n",
    ")\n",
    "\n",
    "# Hyperparameters to be used in the training.\n",
    "offline_training_hyperparams = OfflineTrainingHyperparams(\n",
    "    offline_policy_config=offline_policy_config,\n",
    "    num_epochs=NUM_EPOCHS,\n",
    "    number_test_envs=NUMBER_TEST_ENVS,\n",
    "    step_per_epoch=STEP_PER_EPOCH,\n",
    "    restore_training=False,\n",
    ")"
   ]
  },
  {
   "cell_type": "code",
   "execution_count": 17,
   "metadata": {
    "ExecuteTime": {
     "end_time": "2024-12-27T22:07:08.921553Z",
     "start_time": "2024-12-27T22:07:01.980645Z"
    }
   },
   "outputs": [
    {
     "name": "stdout",
     "output_type": "stream",
     "text": [
      "Dataset /home/ivan/Documents/GIT_PROJECTS/offline-rl/src/offline_rl/data/offline_data/Grid_2D_8x8_discrete-combined_data_sets_offline_rl-v0 downloaded. number of episodes: 60\n"
     ]
    },
    {
     "name": "stderr",
     "output_type": "stream",
     "text": [
      "Epoch #1: 301it [00:04, 70.44it/s, gradient_step=300]                         \n"
     ]
    },
    {
     "name": "stdout",
     "output_type": "stream",
     "text": [
      "Epoch #1: test_reward: -0.032813 ± 0.000000, best_reward: -0.032813 ± 0.000000 in #0\n"
     ]
    }
   ],
   "source": [
    "OfflineRLTraining.training(offline_training_hyperparams)"
   ]
  },
  {
   "cell_type": "markdown",
   "metadata": {
    "slideshow": {
     "slide_type": "slide"
    }
   },
   "source": [
    "**Restore and visualize trained policy**"
   ]
  },
  {
   "cell_type": "code",
   "execution_count": 18,
   "metadata": {
    "ExecuteTime": {
     "end_time": "2024-12-27T22:07:10.167379Z",
     "start_time": "2024-12-27T22:07:10.151178Z"
    },
    "slideshow": {
     "slide_type": "slide"
    }
   },
   "outputs": [
    {
     "data": {
      "application/vnd.jupyter.widget-view+json": {
       "model_id": "19e930c03f274681b99d813730360f2a",
       "version_major": 2,
       "version_minor": 0
      },
      "text/plain": [
       "Dropdown(options=(<ObstacleTypes.obstacle_8x8_wall_with_door: ['00000000', '00000000', '00000000', '00000000',…"
      ]
     },
     "metadata": {},
     "output_type": "display_data"
    }
   ],
   "source": [
    "available_obstacles = [ObstacleTypes.obstacle_8x8_wall_with_door]\n",
    "selected_obstacle = widget_list(available_obstacles)"
   ]
  },
  {
   "cell_type": "code",
   "execution_count": 19,
   "metadata": {
    "ExecuteTime": {
     "end_time": "2024-12-27T22:07:12.686676Z",
     "start_time": "2024-12-27T22:07:10.863333Z"
    },
    "slideshow": {
     "slide_type": "slide"
    }
   },
   "outputs": [
    {
     "data": {
      "text/html": [
       "<table class=\"show_videos\" style=\"border-spacing:0px;\"><tr><td style=\"padding:1px;\"><div style=\"display:flex; align-items:left;\">\n",
       "      <div style=\"display:flex; flex-direction:column; align-items:center;\">\n",
       "      <div>2d-GridWorld</div><div><video controls width=\"256\" height=\"256\" style=\"object-fit:cover;\" loop autoplay muted>\n",
       "      <source src=\"data:video/mp4;base64,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\" type=\"video/mp4\"/>\n",
       "      This browser does not support the video tag.\n",
       "      </video></div></div></div></td></tr></table>"
      ],
      "text/plain": [
       "<IPython.core.display.HTML object>"
      ]
     },
     "metadata": {},
     "output_type": "display_data"
    }
   ],
   "source": [
    "# SAVED_POLICY_NAME = \"policy_best_reward.pth\"\n",
    "SAVED_POLICY_NAME = \"policy.pth\"\n",
    "INITIAL_STATE = (7, 7)\n",
    "FINAL_STATE = (0, 7)\n",
    "\n",
    "offline_policy_config = TrainedPolicyConfig(\n",
    "    name_expert_data=selected_data_set.value,\n",
    "    rl_policy_model=selected_offline_rl_policy.value,\n",
    "    render_mode=render_mode,\n",
    "    device=\"cpu\",\n",
    ")\n",
    "\n",
    "policy = OfflineRLTraining.restore_policy(offline_policy_config)\n",
    "\n",
    "env.set_new_obstacle_map(selected_obstacle.value.value)\n",
    "env.set_starting_point(INITIAL_STATE)\n",
    "env.set_goal_point(FINAL_STATE)\n",
    "# snapshot_env(env)\n",
    "\n",
    "offpolicy_rendering(\n",
    "    env_or_env_name=env,\n",
    "    render_mode=render_mode,\n",
    "    policy_model=policy,\n",
    "    env_2d_grid_initial_config=env_2D_grid_initial_config,\n",
    "    num_frames=100,\n",
    "    imitation_policy_sampling=False,\n",
    "    inline=True,\n",
    ")"
   ]
  },
  {
   "cell_type": "markdown",
   "metadata": {
    "slideshow": {
     "slide_type": "slide"
    }
   },
   "source": [
    "### Summary and conclusions\n",
    "\n",
    "**BCQ and the CQL policies are able to learn the expert data**\n",
    "\n",
    "**Imitation learning cannot make it because it cannot learn the critical state-action pairs.**"
   ]
  },
  {
   "cell_type": "markdown",
   "metadata": {
    "slideshow": {
     "slide_type": "slide"
    }
   },
   "source": [
    "## Exercise II "
   ]
  },
  {
   "cell_type": "markdown",
   "metadata": {
    "slideshow": {
     "slide_type": "slide"
    }
   },
   "source": [
    "**Now, we'll explore how BCQ and CQL, address the issue of connecting suboptimal trajectories in order to get new ones with higer rewards (stitching property). We will see how they compare with imitation learning.**"
   ]
  },
  {
   "cell_type": "markdown",
   "metadata": {
    "slideshow": {
     "slide_type": "slide"
    }
   },
   "source": [
    "We will start again with the previous setup. So, as we did before, we will create again two datasets: one from a policy moving suboptimal from (0,0) to (2,4), and the other from another policy moving from (4,0) to (7,7). The goal is to find an agent capable of connecting trajectories coming from both datasets, in order to find the optimal path between (2,0) and (2,4)."
   ]
  },
  {
   "cell_type": "markdown",
   "metadata": {
    "slideshow": {
     "slide_type": "slide"
    }
   },
   "source": [
    "### STEP 1: Create the environment\n",
    "\n",
    "**Create the environment**"
   ]
  },
  {
   "cell_type": "code",
   "execution_count": 38,
   "metadata": {
    "slideshow": {
     "slide_type": "slide"
    },
    "ExecuteTime": {
     "end_time": "2024-12-27T22:33:36.437594Z",
     "start_time": "2024-12-27T22:33:35.796426Z"
    }
   },
   "outputs": [
    {
     "data": {
      "text/plain": "<Figure size 640x480 with 1 Axes>",
      "image/png": "[encoded data removed]"
     },
     "metadata": {},
     "output_type": "display_data"
    },
    {
     "data": {
      "text/plain": "<Figure size 640x480 with 1 Axes>",
      "image/png": "[encoded data removed]"
     },
     "metadata": {},
     "output_type": "display_data"
    }
   ],
   "source": [
    "ENV = EnvFactory.Grid_2D_8x8_discrete\n",
    "\n",
    "OBSTACLE = ObstacleTypes.obst_free_8x8\n",
    "INITIAL_STATE_POLICY_I = (0, 0)\n",
    "INITIAL_STATE_POLICY_II = (2, 0)\n",
    "FINAL_STATE_POLICY = (2, 4)\n",
    "\n",
    "\n",
    "env_2D_grid_initial_config_I = Grid2DInitialConfig(\n",
    "    obstacles=OBSTACLE,\n",
    "    initial_state=INITIAL_STATE_POLICY_I,\n",
    "    target_state=FINAL_STATE_POLICY,\n",
    ")\n",
    "\n",
    "env_2D_grid_initial_config_II = Grid2DInitialConfig(\n",
    "    obstacles=OBSTACLE,\n",
    "    initial_state=INITIAL_STATE_POLICY_II,\n",
    "    target_state=FINAL_STATE_POLICY,\n",
    ")\n",
    "\n",
    "env = ENV.get_env(render_mode=render_mode, grid_config=env_2D_grid_initial_config_I)\n",
    "snapshot_env(env)\n",
    "\n",
    "env = ENV.get_env(render_mode=render_mode, grid_config=env_2D_grid_initial_config_II)\n",
    "snapshot_env(env)"
   ]
  },
  {
   "cell_type": "markdown",
   "metadata": {
    "slideshow": {
     "slide_type": "slide"
    }
   },
   "source": [
    "### STEP 2: Create Minari datasets\n",
    "\n",
    "**Let's see how well offline RL algorithms can deal with the stitching property. We will examine some edge cases to compare them with some of the algorithms we have already studied before.**"
   ]
  },
  {
   "cell_type": "code",
   "execution_count": null,
   "metadata": {
    "slideshow": {
     "slide_type": "slide"
    }
   },
   "outputs": [],
   "source": [
    "IDENTIFIER_COMBINED_DATASETS = \"_stiching_property_I\"\n",
    "\n",
    "# Dataset I with 2000 collected points\n",
    "BEHAVIOR_POLICY_I = BehaviorPolicy2dGridFactory.deterministic_8x8\n",
    "DATA_SET_IDENTIFIER_I = \"_longer_path\"\n",
    "NUM_STEPS_I = 2000\n",
    "\n",
    "# Dataset II with 1000 points\n",
    "# BEHAVIOR_POLICY_II = BehaviorPolicyType.behavior_8x8_eps_greedy_4_0_to_7_7\n",
    "BEHAVIOR_POLICY_II = BehaviorPolicy2dGridFactory.move_right\n",
    "DATA_SET_IDENTIFIER_II = \"_short_path\"\n",
    "NUM_STEPS_II = 1000"
   ]
  },
  {
   "cell_type": "code",
   "execution_count": null,
   "metadata": {
    "slideshow": {
     "slide_type": "slide"
    }
   },
   "outputs": [],
   "source": [
    "select_policy_to_render = widget_list([BEHAVIOR_POLICY_I, BEHAVIOR_POLICY_II])"
   ]
  },
  {
   "cell_type": "code",
   "execution_count": null,
   "metadata": {
    "slideshow": {
     "slide_type": "slide"
    }
   },
   "outputs": [],
   "source": [
    "env_2D_grid_initial_config = (\n",
    "    env_2D_grid_initial_config_I\n",
    "    if select_policy_to_render.value == BEHAVIOR_POLICY_I\n",
    "    else env_2D_grid_initial_config_II\n",
    ")\n",
    "\n",
    "offpolicy_rendering(\n",
    "    env_or_env_name=ENV,\n",
    "    render_mode=render_mode,\n",
    "    behavior_policy_name=select_policy_to_render.value,\n",
    "    env_2d_grid_initial_config=env_2D_grid_initial_config,\n",
    "    num_frames=100,\n",
    ")"
   ]
  },
  {
   "cell_type": "markdown",
   "metadata": {
    "slideshow": {
     "slide_type": "slide"
    }
   },
   "source": [
    "**Create datasets**"
   ]
  },
  {
   "cell_type": "code",
   "execution_count": null,
   "metadata": {
    "slideshow": {
     "slide_type": "slide"
    }
   },
   "outputs": [],
   "source": [
    "config_combined_data = create_combined_minari_dataset(\n",
    "    env_name=ENV,\n",
    "    dataset_identifiers=(DATA_SET_IDENTIFIER_I, DATA_SET_IDENTIFIER_II),\n",
    "    num_collected_points=(NUM_STEPS_I, NUM_STEPS_II),\n",
    "    behavior_policies=(BEHAVIOR_POLICY_I, BEHAVIOR_POLICY_II),\n",
    "    combined_dataset_identifier=\"combined_dataset\",\n",
    "    env_2d_grid_initial_config=(env_2D_grid_initial_config_I, env_2D_grid_initial_config_II),\n",
    ")\n",
    "buffer_data = load_buffer_minari(config_combined_data.data_set_name)\n",
    "data_size = len(buffer_data)"
   ]
  },
  {
   "cell_type": "code",
   "execution_count": null,
   "metadata": {},
   "outputs": [],
   "source": [
    "dataset_availables = [\n",
    "    config_combined_data.data_set_name\n",
    "] + config_combined_data.children_dataset_names\n",
    "selected_data_set = widget_list(dataset_availables)"
   ]
  },
  {
   "cell_type": "markdown",
   "metadata": {
    "slideshow": {
     "slide_type": "slide"
    }
   },
   "source": [
    "### STEP 3: Feed data into replay buffer"
   ]
  },
  {
   "cell_type": "code",
   "execution_count": null,
   "metadata": {
    "slideshow": {
     "slide_type": "slide"
    }
   },
   "outputs": [],
   "source": [
    "buffer_data = load_buffer_minari(selected_data_set.value)\n",
    "len_buffer = len(buffer_data)\n",
    "\n",
    "# Compute state-action data distribution\n",
    "state_action_count_data, _ = get_state_action_data_and_policy_grid_distributions(\n",
    "    buffer_data, env, normalized=False\n",
    ")\n",
    "\n",
    "if \"start_0_0\" in selected_data_set.value:\n",
    "    env.set_starting_point((0, 0))\n",
    "    snapshot_env(env)\n",
    "elif \"start_2_0\" in selected_data_set.value:\n",
    "    env.set_starting_point((2, 0))\n",
    "    snapshot_env(env)"
   ]
  },
  {
   "cell_type": "markdown",
   "metadata": {
    "slideshow": {
     "slide_type": "slide"
    }
   },
   "source": [
    "### STEP 4: Select offline policies and training"
   ]
  },
  {
   "cell_type": "code",
   "execution_count": null,
   "metadata": {
    "slideshow": {
     "slide_type": "slide"
    }
   },
   "outputs": [],
   "source": [
    "offline_rl_policies = [RLPolicyFactory.bcq_discrete, RLPolicyFactory.cql_discrete]\n",
    "selected_offline_rl_policy = widget_list(offline_rl_policies)"
   ]
  },
  {
   "cell_type": "code",
   "execution_count": null,
   "metadata": {
    "slideshow": {
     "slide_type": "slide"
    }
   },
   "outputs": [],
   "source": [
    "# Offiline - Training\n",
    "\n",
    "NUM_EPOCHS = 5\n",
    "BATCH_SIZE = 128\n",
    "STEP_PER_EPOCH = 1.0 * len_buffer\n",
    "NUMBER_TEST_ENVS = 1\n",
    "\n",
    "\n",
    "offline_policy_config = TrainedPolicyConfig(\n",
    "    name_expert_data=selected_data_set.value,\n",
    "    rl_policy_model=selected_offline_rl_policy.value,\n",
    "    render_mode=render_mode,\n",
    "    device=\"cpu\",\n",
    ")\n",
    "\n",
    "\n",
    "# Hyperparameters to be used in the training.\n",
    "offline_training_hyperparams = OfflineTrainingHyperparams(\n",
    "    offline_policy_config=offline_policy_config,\n",
    "    num_epochs=NUM_EPOCHS,\n",
    "    number_test_envs=NUMBER_TEST_ENVS,\n",
    "    step_per_epoch=STEP_PER_EPOCH,\n",
    "    restore_training=False,\n",
    ")"
   ]
  },
  {
   "cell_type": "code",
   "outputs": [],
   "source": [
    "OfflineRLTraining.training(offline_training_hyperparams)"
   ],
   "metadata": {
    "collapsed": false
   }
  },
  {
   "cell_type": "markdown",
   "metadata": {
    "slideshow": {
     "slide_type": "slide"
    }
   },
   "source": [
    "##### **Restore and visualize trained policy**"
   ]
  },
  {
   "cell_type": "code",
   "execution_count": null,
   "metadata": {
    "slideshow": {
     "slide_type": "slide"
    }
   },
   "outputs": [],
   "source": [
    "# SAVED_POLICY_NAME = \"policy_best_reward.pth\"\n",
    "SAVED_POLICY_NAME = \"policy.pth\"\n",
    "INITIAL_STATE = (0, 0)\n",
    "FINAL_STATE = (2, 4)\n",
    "\n",
    "offline_policy_config = TrainedPolicyConfig(\n",
    "    name_expert_data=selected_data_set.value,\n",
    "    rl_policy_model=selected_offline_rl_policy.value,\n",
    "    render_mode=render_mode,\n",
    "    device=\"cpu\",\n",
    ")\n",
    "\n",
    "policy = OfflineRLTraining.restore_policy(offline_policy_config)\n",
    "log_name = Path(selected_data_set.value) / Path(selected_offline_rl_policy.value)\n",
    "log_path = get_trained_policy_path() / log_name / SAVED_POLICY_NAME\n",
    "policy.load_state_dict(torch.load(str(log_path), map_location=\"cpu\"))\n",
    "\n",
    "env.set_starting_point(INITIAL_STATE)\n",
    "env.set_goal_point(FINAL_STATE)\n",
    "# snapshot_env(env)\n",
    "\n",
    "offpolicy_rendering(\n",
    "    env_or_env_name=env,\n",
    "    render_mode=render_mode,\n",
    "    policy_model=policy,\n",
    "    env_2d_grid_initial_config=env_2D_grid_initial_config,\n",
    "    num_frames=100,\n",
    "    imitation_policy_sampling=False,\n",
    ")"
   ]
  },
  {
   "cell_type": "markdown",
   "metadata": {},
   "source": [
    "**Question**: Let's now change the dataset distribution. We'll collect 600 points with the first behavior policy and 100 with the second one. In this case, the probability of taking the suboptimal path will be higher. What paths are chosen by the algorithms?"
   ]
  },
  {
   "cell_type": "markdown",
   "metadata": {
    "slideshow": {
     "slide_type": "slide"
    }
   },
   "source": [
    "## Final remarks"
   ]
  },
  {
   "cell_type": "markdown",
   "metadata": {
    "slideshow": {
     "slide_type": "slide"
    }
   },
   "source": [
    "Offline RL proves valuable in various scenarios, especially when:\n",
    "\n",
    "a. Robots require intelligent behavior in complex open-world environments demanding extensive training data due to robust visual perception requirements. (complex environment modeling and extensive data collection)\n",
    "\n",
    "b. Robot grasping tasks, which involve expert data that cannot be accurately simulated, providing an opportunity to assess our BCQ algorithm.\n",
    "\n",
    "c. Robotic navigation tasks, where offline RL aids in crafting effective navigation policies using real-world data.\n",
    "\n",
    "d. Autonomous driving, where ample expert data and an offline approach enhance safety.\n",
    "\n",
    "e. Healthcare applications, where safety is paramount due to the potential serious consequences of inaccurate forecasts.\n",
    "\n",
    "... and many more.\n",
    "\n",
    "However, if you have access to an environment with abundant data, online Reinforcement Learning (RL) can be a powerful choice due to its potential for exploration and real-time feedback. Nevertheless, the landscape of RL is evolving, and a data-centric approach is gaining prominence, exemplified by vast datasets like X-Embodiment. It's becoming evident that robots trained with diverse data across various scenarios tend to outperform those solely focused on specific tasks. Furthermore, leveraging multitask trained agents for transfer learning can be a valuable strategy for addressing your specific task at hand."
   ]
  },
  {
   "cell_type": "code",
   "execution_count": null,
   "metadata": {},
   "outputs": [],
   "source": []
  }
 ],
 "metadata": {
  "celltoolbar": "Slideshow",
  "kernelspec": {
   "display_name": "offline-rl-example",
   "language": "python",
   "name": "offline-rl-example"
  },
  "language_info": {
   "codemirror_mode": {
    "name": "ipython",
    "version": 3
   },
   "file_extension": ".py",
   "mimetype": "text/x-python",
   "name": "python",
   "nbconvert_exporter": "python",
   "pygments_lexer": "ipython3",
   "version": "3.11.11"
  },
  "toc": {
   "base_numbering": 1,
   "nav_menu": {},
   "number_sections": true,
   "sideBar": true,
   "skip_h1_title": false,
   "title_cell": "Table of Contents",
   "title_sidebar": "Contents",
   "toc_cell": false,
   "toc_position": {
    "height": "calc(100% - 180px)",
    "left": "10px",
    "top": "150px",
    "width": "396.2px"
   },
   "toc_section_display": true,
   "toc_window_display": true
  }
 },
 "nbformat": 4,
 "nbformat_minor": 1
}
