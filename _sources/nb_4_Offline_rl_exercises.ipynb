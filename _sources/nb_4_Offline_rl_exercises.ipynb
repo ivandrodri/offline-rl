{
 "cells": [
  {
   "cell_type": "code",
   "execution_count": 1,
   "metadata": {
    "execution": {
     "iopub.execute_input": "2025-01-06T20:23:55.693162Z",
     "iopub.status.busy": "2025-01-06T20:23:55.692737Z",
     "iopub.status.idle": "2025-01-06T20:23:56.701186Z",
     "shell.execute_reply": "2025-01-06T20:23:56.700650Z"
    }
   },
   "outputs": [],
   "source": [
    "%%capture\n",
    "%load_ext autoreload\n",
    "%autoreload 2\n",
    "%matplotlib inline\n",
    "%load_ext offline_rl\n",
    "%set_random_seed 12"
   ]
  },
  {
   "cell_type": "code",
   "execution_count": 2,
   "metadata": {
    "execution": {
     "iopub.execute_input": "2025-01-06T20:23:56.703554Z",
     "iopub.status.busy": "2025-01-06T20:23:56.703200Z",
     "iopub.status.idle": "2025-01-06T20:23:56.723364Z",
     "shell.execute_reply": "2025-01-06T20:23:56.722874Z"
    }
   },
   "outputs": [],
   "source": [
    "%autoreload"
   ]
  },
  {
   "cell_type": "code",
   "execution_count": 3,
   "metadata": {
    "execution": {
     "iopub.execute_input": "2025-01-06T20:23:56.725440Z",
     "iopub.status.busy": "2025-01-06T20:23:56.725094Z",
     "iopub.status.idle": "2025-01-06T20:24:02.201936Z",
     "shell.execute_reply": "2025-01-06T20:24:02.201396Z"
    }
   },
   "outputs": [
    {
     "name": "stderr",
     "output_type": "stream",
     "text": [
      "sys:1: DeprecationWarning: DataCollectorV0 is deprecated and will be removed. Use DataCollector instead.\n"
     ]
    }
   ],
   "source": [
    "from offline_rl.set_env_variables import set_env_variables\n",
    "set_env_variables()\n",
    "import torch\n",
    "import os\n",
    "import warnings\n",
    "from offline_rl.custom_envs.custom_2d_grid_env.obstacles_2D_grid_register import ObstacleTypes\n",
    "from offline_rl.custom_envs.custom_envs_registration import RenderMode, EnvFactory\n",
    "from offline_rl.offline_policies.offpolicy_rendering import offpolicy_rendering\n",
    "from offline_rl.trainings.policy_config_data_class import (\n",
    "    TrainedPolicyConfig,\n",
    "    get_trained_policy_path,\n",
    ")\n",
    "from offline_rl.trainings.offline_training import OfflineRLTraining\n",
    "from offline_rl.utils import widget_list\n",
    "from offline_rl.visualizations.utils import (\n",
    "    get_state_action_data_and_policy_grid_distributions,\n",
    "    snapshot_env,\n",
    ")\n",
    "from offline_rl.utils import load_buffer_minari\n",
    "from offline_rl.custom_envs.env_wrappers import Grid2DInitialConfig\n",
    "from offline_rl.behavior_policies.behavior_policy_registry import BehaviorPolicy2dGridFactory\n",
    "from offline_rl.trainings.training_interface import OfflineTrainingHyperparams\n",
    "from pathlib import Path\n",
    "\n",
    "\n",
    "warnings.filterwarnings(\"ignore\")\n",
    "render_mode = RenderMode.RGB_ARRAY\n",
    "IS_NOT_CI = False if os.getenv(\"CI\") else True"
   ]
  },
  {
   "cell_type": "markdown",
   "metadata": {
    "slideshow": {
     "slide_type": "slide"
    }
   },
   "source": [
    "Offline RL pipeline:\n",
    "\n",
    "<img src=\"_static/images/93_offline_RL_pipeline.png\" alt=\"Snow\" style=\"width:50%;\">"
   ]
  },
  {
   "cell_type": "markdown",
   "metadata": {
    "slideshow": {
     "slide_type": "slide"
    }
   },
   "source": [
    "# Exercise: Offline RL algorithms"
   ]
  },
  {
   "cell_type": "markdown",
   "metadata": {
    "slideshow": {
     "slide_type": "slide"
    }
   },
   "source": [
    "**Off-policy methods cannot learn from data efficiently unless a significant amount of data covering a large portion of the environment states is available**. Only in such cases can the agent explore the environment and get feedback similar to what's done in an online approach. However, this scenario is rare and challenging to achieve in realistic applications, which is one of the reasons why we turn to offline RL, where only a small amount of data is available."
   ]
  },
  {
   "cell_type": "markdown",
   "metadata": {
    "slideshow": {
     "slide_type": "slide"
    }
   },
   "source": [
    "One of the major issues when applying off-policy methods to collected data is the agent's tendency to go out-of-distribution (o.o.d.). More importantly, once it goes o.o.d., the policy becomes unpredictable, making it impossible to return to the in-distribution region. This unpredictability propagates errors in the policy evaluation process (i.e., the dynamic programming equations), destroying the algorithm's learning capabilities."
   ]
  },
  {
   "cell_type": "markdown",
   "metadata": {
    "slideshow": {
     "slide_type": "slide"
    }
   },
   "source": [
    "## Exercise I\n",
    "\n",
    "Let's collect a small amount of expert data and a larger amount of suboptimal data. We will play with two offline RL algorithms, BCQ and CQL, and we will check it they can recover the expert policy without going o.o.d. We will compare the results with the imitation learning approach, specifically the BC algorithm, which in some cases is another viable option when expert data is available.\n",
    "\n",
    "\n",
    "In this exercise, we will collect two datasets: one with expert and another with suboptimal data. The goal of the agent will be to get as close as possible to the target.\n",
    "\n",
    "I - **expert policy**: collect ~ 1000 steps\n",
    "\n",
    "II  - **Suboptimal policy**:  collect ~ 2000 steps"
   ]
  },
  {
   "cell_type": "markdown",
   "metadata": {
    "slideshow": {
     "slide_type": "slide"
    }
   },
   "source": [
    "### STEP 1: Create the environment"
   ]
  },
  {
   "cell_type": "code",
   "execution_count": 4,
   "metadata": {
    "execution": {
     "iopub.execute_input": "2025-01-06T20:24:02.204681Z",
     "iopub.status.busy": "2025-01-06T20:24:02.204155Z",
     "iopub.status.idle": "2025-01-06T20:24:02.241313Z",
     "shell.execute_reply": "2025-01-06T20:24:02.240860Z"
    }
   },
   "outputs": [
    {
     "data": {
      "application/vnd.jupyter.widget-view+json": {
       "model_id": "45d7dfaf3ec2400ca1e5bc6cfd579246",
       "version_major": 2,
       "version_minor": 0
      },
      "text/plain": [
       "Dropdown(options=(<ObstacleTypes.obstacle_8x8_wall_with_door: ['00000000', '00000000', '00000000', '00000000',…"
      ]
     },
     "metadata": {},
     "output_type": "display_data"
    }
   ],
   "source": [
    "obstacle_selected = widget_list([ObstacleTypes.obstacle_8x8_wall_with_door])"
   ]
  },
  {
   "cell_type": "code",
   "execution_count": 5,
   "metadata": {
    "execution": {
     "iopub.execute_input": "2025-01-06T20:24:02.243251Z",
     "iopub.status.busy": "2025-01-06T20:24:02.243089Z",
     "iopub.status.idle": "2025-01-06T20:24:02.480629Z",
     "shell.execute_reply": "2025-01-06T20:24:02.479907Z"
    }
   },
   "outputs": [
    {
     "data": {
      "image/png": "[encoded data removed]",
      "text/plain": [
       "<Figure size 640x480 with 1 Axes>"
      ]
     },
     "metadata": {},
     "output_type": "display_data"
    }
   ],
   "source": [
    "ENV = EnvFactory.Grid_2D_8x8_discrete\n",
    "\n",
    "# Grid configuration\n",
    "OBSTACLE = obstacle_selected.value\n",
    "INITIAL_STATE = (7, 7)\n",
    "FINAL_STATE = (0, 7)\n",
    "\n",
    "env_2D_grid_initial_config = Grid2DInitialConfig(\n",
    "    obstacles=OBSTACLE,\n",
    "    initial_state=INITIAL_STATE,\n",
    "    target_state=FINAL_STATE,\n",
    ")\n",
    "\n",
    "env = ENV.get_env(render_mode=render_mode, grid_config=env_2D_grid_initial_config)\n",
    "\n",
    "snapshot_env(env)"
   ]
  },
  {
   "cell_type": "markdown",
   "metadata": {
    "slideshow": {
     "slide_type": "slide"
    }
   },
   "source": [
    "### STEP 2: Create Minari datasets"
   ]
  },
  {
   "cell_type": "markdown",
   "metadata": {
    "slideshow": {
     "slide_type": "slide"
    }
   },
   "source": [
    "**Behavior policies and datasets configurations**"
   ]
  },
  {
   "cell_type": "code",
   "execution_count": 6,
   "metadata": {
    "execution": {
     "iopub.execute_input": "2025-01-06T20:24:02.483207Z",
     "iopub.status.busy": "2025-01-06T20:24:02.483018Z",
     "iopub.status.idle": "2025-01-06T20:24:02.517913Z",
     "shell.execute_reply": "2025-01-06T20:24:02.517335Z"
    }
   },
   "outputs": [],
   "source": [
    "BEHAVIOR_POLICY_I = BehaviorPolicy2dGridFactory.move_up\n",
    "DATA_SET_IDENTIFIER_I = \"_expert\"\n",
    "NUM_STEPS_I = 1000\n",
    "\n",
    "BEHAVIOR_POLICY_II = BehaviorPolicy2dGridFactory.move_left\n",
    "DATA_SET_IDENTIFIER_II = \"_suboptimal\"\n",
    "NUM_STEPS_II = 2000"
   ]
  },
  {
   "cell_type": "code",
   "execution_count": 7,
   "metadata": {
    "execution": {
     "iopub.execute_input": "2025-01-06T20:24:02.520426Z",
     "iopub.status.busy": "2025-01-06T20:24:02.519979Z",
     "iopub.status.idle": "2025-01-06T20:24:02.556933Z",
     "shell.execute_reply": "2025-01-06T20:24:02.556377Z"
    }
   },
   "outputs": [
    {
     "data": {
      "application/vnd.jupyter.widget-view+json": {
       "model_id": "922528008ac34f449a745fdfe3941a39",
       "version_major": 2,
       "version_minor": 0
      },
      "text/plain": [
       "Dropdown(options=(<BehaviorPolicy2dGridFactory.move_up: 'move_up'>, <BehaviorPolicy2dGridFactory.move_left: 'm…"
      ]
     },
     "metadata": {},
     "output_type": "display_data"
    }
   ],
   "source": [
    "policy_selected = widget_list([BEHAVIOR_POLICY_I, BEHAVIOR_POLICY_II])"
   ]
  },
  {
   "cell_type": "code",
   "execution_count": 8,
   "metadata": {
    "execution": {
     "iopub.execute_input": "2025-01-06T20:24:02.558913Z",
     "iopub.status.busy": "2025-01-06T20:24:02.558739Z",
     "iopub.status.idle": "2025-01-06T20:24:04.772097Z",
     "shell.execute_reply": "2025-01-06T20:24:04.771576Z"
    }
   },
   "outputs": [
    {
     "data": {
      "text/html": [
       "<table class=\"show_videos\" style=\"border-spacing:0px;\"><tr><td style=\"padding:1px;\"><div style=\"display:flex; align-items:left;\">\n",
       "      <div style=\"display:flex; flex-direction:column; align-items:center;\">\n",
       "      <div>2d-GridWorld</div><div><video controls width=\"256\" height=\"256\" style=\"object-fit:cover;\" loop autoplay muted>\n",
       "      <source src=\"data:video/mp4;base64,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\" type=\"video/mp4\"/>\n",
       "      This browser does not support the video tag.\n",
       "      </video></div></div></div></td></tr></table>"
      ],
      "text/plain": [
       "<IPython.core.display.HTML object>"
      ]
     },
     "metadata": {},
     "output_type": "display_data"
    }
   ],
   "source": [
    "offpolicy_rendering(\n",
    "    env_or_env_name=ENV,\n",
    "    render_mode=render_mode,\n",
    "    behavior_policy=policy_selected.value,\n",
    "    env_2d_grid_initial_config=env_2D_grid_initial_config,\n",
    "    num_frames=100,\n",
    ")"
   ]
  },
  {
   "cell_type": "markdown",
   "metadata": {
    "slideshow": {
     "slide_type": "slide"
    }
   },
   "source": [
    "**Collect data**"
   ]
  },
  {
   "cell_type": "code",
   "execution_count": 9,
   "metadata": {
    "execution": {
     "iopub.execute_input": "2025-01-06T20:24:04.774222Z",
     "iopub.status.busy": "2025-01-06T20:24:04.773882Z",
     "iopub.status.idle": "2025-01-06T20:24:05.161000Z",
     "shell.execute_reply": "2025-01-06T20:24:05.160475Z"
    }
   },
   "outputs": [
    {
     "name": "stdout",
     "output_type": "stream",
     "text": [
      "Number of episodes in dataset I:20, in dataset II:40 and  in the combined dataset: 60\n"
     ]
    },
    {
     "data": {
      "application/vnd.jupyter.widget-view+json": {
       "model_id": "a46e20744391409089f6577f4df3dc18",
       "version_major": 2,
       "version_minor": 0
      },
      "text/plain": [
       "Dropdown(options=('Grid_2D_8x8_discrete-combined_data_sets_offline_rl-v0', 'Grid_2D_8x8_discrete-data_obstacle…"
      ]
     },
     "metadata": {},
     "output_type": "display_data"
    }
   ],
   "source": [
    "from offline_rl.generate_custom_minari_datasets.generate_minari_dataset import (\n",
    "    create_combined_minari_dataset,\n",
    ")\n",
    "\n",
    "config_combined_data = create_combined_minari_dataset(\n",
    "    env_name=ENV,\n",
    "    dataset_identifiers=(DATA_SET_IDENTIFIER_I, DATA_SET_IDENTIFIER_II),\n",
    "    num_collected_points=(NUM_STEPS_I, NUM_STEPS_II),\n",
    "    behavior_policies=(BEHAVIOR_POLICY_I, BEHAVIOR_POLICY_II),\n",
    "    combined_dataset_identifier=\"combined_data_sets_offline_rl\",\n",
    "    env_2d_grid_initial_config=env_2D_grid_initial_config,\n",
    ")\n",
    "\n",
    "dataset_availables = [\n",
    "    config_combined_data.data_set_name\n",
    "] + config_combined_data.children_dataset_names\n",
    "selected_data_set = widget_list(dataset_availables)"
   ]
  },
  {
   "cell_type": "markdown",
   "metadata": {
    "slideshow": {
     "slide_type": "slide"
    }
   },
   "source": [
    "### STEP 3: Feed data into replay buffer"
   ]
  },
  {
   "cell_type": "code",
   "execution_count": 10,
   "metadata": {
    "execution": {
     "iopub.execute_input": "2025-01-06T20:24:05.163003Z",
     "iopub.status.busy": "2025-01-06T20:24:05.162835Z",
     "iopub.status.idle": "2025-01-06T20:24:06.265710Z",
     "shell.execute_reply": "2025-01-06T20:24:06.265123Z"
    }
   },
   "outputs": [
    {
     "name": "stdout",
     "output_type": "stream",
     "text": [
      "Dataset /workspace/src/offline_rl/data/offline_data/Grid_2D_8x8_discrete-combined_data_sets_offline_rl-v0 downloaded. number of episodes: 60\n"
     ]
    },
    {
     "data": {
      "image/png": "[encoded data removed]",
      "text/plain": [
       "<Figure size 1000x500 with 1 Axes>"
      ]
     },
     "metadata": {},
     "output_type": "display_data"
    },
    {
     "data": {
      "image/png": "[encoded data removed]",
      "text/plain": [
       "<Figure size 640x480 with 1 Axes>"
      ]
     },
     "metadata": {},
     "output_type": "display_data"
    }
   ],
   "source": [
    "buffer_data = load_buffer_minari(selected_data_set.value)\n",
    "len_buffer = len(buffer_data)\n",
    "\n",
    "# Compute state-action data distribution\n",
    "state_action_count_data, _ = get_state_action_data_and_policy_grid_distributions(buffer_data, env)\n",
    "snapshot_env(env)"
   ]
  },
  {
   "cell_type": "markdown",
   "metadata": {},
   "source": [
    "#### Data analysis\n",
    "\n",
    "Note that we have four peaks. The ones at (2,7) and (3,7) come from policy-I, which goes towards the target but stops before reaching it. The other two peaks at (6,0) and (7,0) are produced by policy-II, which drifts the agent to the left with noise. **It is important to notice that the amount of collected data at state (5,7) is very little, but this state is crucial if we want to approach the target.**\n",
    "\n",
    "What do you think a BC algorithm would do? What about an offline one?\n",
    "\n",
    "<div style=\"margin-top: 20px;\">\n",
    "    <div style=\"display: flex; justify-content: space-between;\">\n",
    "        <div style=\"width: 100%;\">\n",
    "            <img src=\"_static/images/nb_96_critical_state.png\" alt=\"Snow\" style=\"width:100%;\">\n",
    "        </div>\n",
    "        <div style=\"width: 100%;\">\n",
    "            <img src=\"_static/images/96_critical_action_states.png\" alt=\"KL divergence\" width=80%>\n",
    "        </div>\n",
    "    </div>\n",
    "</div>"
   ]
  },
  {
   "cell_type": "markdown",
   "metadata": {
    "slideshow": {
     "slide_type": "slide"
    }
   },
   "source": [
    "### STEP 4-5: Select offline policies and training"
   ]
  },
  {
   "cell_type": "code",
   "execution_count": 11,
   "metadata": {
    "execution": {
     "iopub.execute_input": "2025-01-06T20:24:06.268082Z",
     "iopub.status.busy": "2025-01-06T20:24:06.267895Z",
     "iopub.status.idle": "2025-01-06T20:24:06.310222Z",
     "shell.execute_reply": "2025-01-06T20:24:06.309795Z"
    }
   },
   "outputs": [
    {
     "data": {
      "application/vnd.jupyter.widget-view+json": {
       "model_id": "d74fbfc2f2dc473aac1c807a39a95e47",
       "version_major": 2,
       "version_minor": 0
      },
      "text/plain": [
       "Dropdown(options=(<RLPolicyFactory.bcq_discrete: 'bcq_discrete'>, <RLPolicyFactory.cql_discrete: 'cql_discrete…"
      ]
     },
     "metadata": {},
     "output_type": "display_data"
    }
   ],
   "source": [
    "from offline_rl.offline_policies.policy_registry import RLPolicyFactory\n",
    "\n",
    "offline_rl_policies = [\n",
    "    RLPolicyFactory.bcq_discrete,\n",
    "    RLPolicyFactory.cql_discrete,\n",
    "    RLPolicyFactory.imitation_learning,\n",
    "]\n",
    "selected_offline_rl_policy = widget_list(offline_rl_policies)"
   ]
  },
  {
   "cell_type": "markdown",
   "metadata": {
    "slideshow": {
     "slide_type": "slide"
    }
   },
   "source": [
    "**Training**"
   ]
  },
  {
   "cell_type": "code",
   "execution_count": 12,
   "metadata": {
    "execution": {
     "iopub.execute_input": "2025-01-06T20:24:06.312286Z",
     "iopub.status.busy": "2025-01-06T20:24:06.311894Z",
     "iopub.status.idle": "2025-01-06T20:24:06.344366Z",
     "shell.execute_reply": "2025-01-06T20:24:06.343818Z"
    }
   },
   "outputs": [],
   "source": [
    "NUM_EPOCHS = 2\n",
    "BATCH_SIZE = 128\n",
    "STEP_PER_EPOCH = 1.0 * len_buffer\n",
    "NUMBER_TEST_ENVS = 1\n",
    "\n",
    "# Metadata for the offline policy. Included the Minari metadata as well as the policy model configuration.\n",
    "offline_policy_config = TrainedPolicyConfig(\n",
    "    rl_policy_model=selected_offline_rl_policy.value,\n",
    "    name_expert_data=selected_data_set.value,\n",
    "    render_mode=render_mode,\n",
    "    device=\"cpu\",\n",
    ")\n",
    "\n",
    "# Hyperparameters to be used in the training.\n",
    "offline_training_hyperparams = OfflineTrainingHyperparams(\n",
    "    offline_policy_config=offline_policy_config,\n",
    "    num_epochs=NUM_EPOCHS,\n",
    "    number_test_envs=NUMBER_TEST_ENVS,\n",
    "    step_per_epoch=STEP_PER_EPOCH,\n",
    "    restore_training=False,\n",
    ")"
   ]
  },
  {
   "cell_type": "code",
   "execution_count": 13,
   "metadata": {
    "execution": {
     "iopub.execute_input": "2025-01-06T20:24:06.346662Z",
     "iopub.status.busy": "2025-01-06T20:24:06.346211Z",
     "iopub.status.idle": "2025-01-06T20:24:34.001434Z",
     "shell.execute_reply": "2025-01-06T20:24:34.000809Z"
    }
   },
   "outputs": [
    {
     "name": "stdout",
     "output_type": "stream",
     "text": [
      "Dataset /workspace/src/offline_rl/data/offline_data/Grid_2D_8x8_discrete-combined_data_sets_offline_rl-v0 downloaded. number of episodes: 60\n"
     ]
    },
    {
     "name": "stdout",
     "output_type": "stream",
     "text": [
      "Epoch #1: test_reward: -43.090235 ± 0.000000, best_reward: -43.090235 ± 0.000000 in #1\n"
     ]
    },
    {
     "name": "stdout",
     "output_type": "stream",
     "text": [
      "Epoch #2: test_reward: -0.207813 ± 0.000000, best_reward: -0.207813 ± 0.000000 in #2\n"
     ]
    }
   ],
   "source": [
    "OfflineRLTraining.training(\n",
    "    offline_training_hyperparams,\n",
    "    show_progress=IS_NOT_CI \n",
    ")"
   ]
  },
  {
   "cell_type": "markdown",
   "metadata": {
    "slideshow": {
     "slide_type": "slide"
    }
   },
   "source": [
    "**Restore and visualize trained policy**"
   ]
  },
  {
   "cell_type": "code",
   "execution_count": 14,
   "metadata": {
    "execution": {
     "iopub.execute_input": "2025-01-06T20:24:34.003997Z",
     "iopub.status.busy": "2025-01-06T20:24:34.003787Z",
     "iopub.status.idle": "2025-01-06T20:24:34.043144Z",
     "shell.execute_reply": "2025-01-06T20:24:34.042578Z"
    }
   },
   "outputs": [
    {
     "data": {
      "application/vnd.jupyter.widget-view+json": {
       "model_id": "a516b278faab4d70a1c591b9267f2f92",
       "version_major": 2,
       "version_minor": 0
      },
      "text/plain": [
       "Dropdown(options=(<ObstacleTypes.obstacle_8x8_wall_with_door: ['00000000', '00000000', '00000000', '00000000',…"
      ]
     },
     "metadata": {},
     "output_type": "display_data"
    }
   ],
   "source": [
    "available_obstacles = [ObstacleTypes.obstacle_8x8_wall_with_door]\n",
    "selected_obstacle = widget_list(available_obstacles)"
   ]
  },
  {
   "cell_type": "code",
   "execution_count": 15,
   "metadata": {
    "execution": {
     "iopub.execute_input": "2025-01-06T20:24:34.045444Z",
     "iopub.status.busy": "2025-01-06T20:24:34.045033Z",
     "iopub.status.idle": "2025-01-06T20:24:36.287789Z",
     "shell.execute_reply": "2025-01-06T20:24:36.287222Z"
    }
   },
   "outputs": [
    {
     "data": {
      "text/html": [
       "<table class=\"show_videos\" style=\"border-spacing:0px;\"><tr><td style=\"padding:1px;\"><div style=\"display:flex; align-items:left;\">\n",
       "      <div style=\"display:flex; flex-direction:column; align-items:center;\">\n",
       "      <div>2d-GridWorld</div><div><video controls width=\"256\" height=\"256\" style=\"object-fit:cover;\" loop autoplay muted>\n",
       "      <source src=\"data:video/mp4;base64,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\" type=\"video/mp4\"/>\n",
       "      This browser does not support the video tag.\n",
       "      </video></div></div></div></td></tr></table>"
      ],
      "text/plain": [
       "<IPython.core.display.HTML object>"
      ]
     },
     "metadata": {},
     "output_type": "display_data"
    }
   ],
   "source": [
    "# SAVED_POLICY_NAME = \"policy_best_reward.pth\"\n",
    "SAVED_POLICY_NAME = \"policy.pth\"\n",
    "INITIAL_STATE = (7, 7)\n",
    "FINAL_STATE = (0, 7)\n",
    "\n",
    "offline_policy_config = TrainedPolicyConfig(\n",
    "    name_expert_data=selected_data_set.value,\n",
    "    rl_policy_model=selected_offline_rl_policy.value,\n",
    "    render_mode=render_mode,\n",
    "    device=\"cpu\",\n",
    ")\n",
    "\n",
    "policy = OfflineRLTraining.restore_policy(offline_policy_config)\n",
    "\n",
    "env.set_new_obstacle_map(selected_obstacle.value.value)\n",
    "env.set_starting_point(INITIAL_STATE)\n",
    "env.set_goal_point(FINAL_STATE)\n",
    "# snapshot_env(env)\n",
    "\n",
    "offpolicy_rendering(\n",
    "    env_or_env_name=env,\n",
    "    render_mode=render_mode,\n",
    "    policy_model=policy,\n",
    "    env_2d_grid_initial_config=env_2D_grid_initial_config,\n",
    "    num_frames=100,\n",
    "    imitation_policy_sampling=False,\n",
    "    inline=True,\n",
    ")"
   ]
  },
  {
   "cell_type": "markdown",
   "metadata": {
    "slideshow": {
     "slide_type": "slide"
    }
   },
   "source": [
    "### Summary and conclusions\n",
    "\n",
    "**BCQ and the CQL policies are able to learn the expert data**\n",
    "\n",
    "**Imitation learning cannot make it because it cannot learn the critical state-action pairs.**"
   ]
  },
  {
   "cell_type": "markdown",
   "metadata": {
    "slideshow": {
     "slide_type": "slide"
    }
   },
   "source": [
    "## Exercise II "
   ]
  },
  {
   "cell_type": "markdown",
   "metadata": {
    "slideshow": {
     "slide_type": "slide"
    }
   },
   "source": [
    "**Now, we'll explore how BCQ and CQL, address the issue of connecting suboptimal trajectories in order to get new ones with higer rewards (stitching property). We will see how they compare with imitation learning.**"
   ]
  },
  {
   "cell_type": "markdown",
   "metadata": {
    "slideshow": {
     "slide_type": "slide"
    }
   },
   "source": [
    "We will start again with the previous setup. So, as we did before, we will create again two datasets: one from a policy moving suboptimal from (0,0) to (2,4), and the other from another policy moving from (4,0) to (7,7). The goal is to find an agent capable of connecting trajectories coming from both datasets, in order to find the optimal path between (2,0) and (2,4)."
   ]
  },
  {
   "cell_type": "markdown",
   "metadata": {
    "slideshow": {
     "slide_type": "slide"
    }
   },
   "source": [
    "### STEP 1: Create the environment\n",
    "\n",
    "**Create the environment**"
   ]
  },
  {
   "cell_type": "code",
   "execution_count": 16,
   "metadata": {
    "execution": {
     "iopub.execute_input": "2025-01-06T20:24:36.290232Z",
     "iopub.status.busy": "2025-01-06T20:24:36.289845Z",
     "iopub.status.idle": "2025-01-06T20:24:36.651271Z",
     "shell.execute_reply": "2025-01-06T20:24:36.650628Z"
    }
   },
   "outputs": [
    {
     "data": {
      "image/png": "[encoded data removed]",
      "text/plain": [
       "<Figure size 640x480 with 1 Axes>"
      ]
     },
     "metadata": {},
     "output_type": "display_data"
    },
    {
     "data": {
      "image/png": "[encoded data removed]",
      "text/plain": [
       "<Figure size 640x480 with 1 Axes>"
      ]
     },
     "metadata": {},
     "output_type": "display_data"
    }
   ],
   "source": [
    "ENV = EnvFactory.Grid_2D_8x8_discrete\n",
    "\n",
    "OBSTACLE = ObstacleTypes.obst_free_8x8\n",
    "INITIAL_STATE_POLICY_I = (0, 0)\n",
    "INITIAL_STATE_POLICY_II = (2, 0)\n",
    "FINAL_STATE_POLICY = (2, 4)\n",
    "\n",
    "\n",
    "env_2D_grid_initial_config_I = Grid2DInitialConfig(\n",
    "    obstacles=OBSTACLE,\n",
    "    initial_state=INITIAL_STATE_POLICY_I,\n",
    "    target_state=FINAL_STATE_POLICY,\n",
    ")\n",
    "\n",
    "env_2D_grid_initial_config_II = Grid2DInitialConfig(\n",
    "    obstacles=OBSTACLE,\n",
    "    initial_state=INITIAL_STATE_POLICY_II,\n",
    "    target_state=FINAL_STATE_POLICY,\n",
    ")\n",
    "\n",
    "env = ENV.get_env(render_mode=render_mode, grid_config=env_2D_grid_initial_config_I)\n",
    "snapshot_env(env)\n",
    "\n",
    "env = ENV.get_env(render_mode=render_mode, grid_config=env_2D_grid_initial_config_II)\n",
    "snapshot_env(env)"
   ]
  },
  {
   "cell_type": "markdown",
   "metadata": {
    "slideshow": {
     "slide_type": "slide"
    }
   },
   "source": [
    "### STEP 2: Create Minari datasets\n",
    "\n",
    "**Let's see how well offline RL algorithms can deal with the stitching property. We will examine some edge cases to compare them with some of the algorithms we have already studied before.**"
   ]
  },
  {
   "cell_type": "code",
   "execution_count": 17,
   "metadata": {
    "execution": {
     "iopub.execute_input": "2025-01-06T20:24:36.653528Z",
     "iopub.status.busy": "2025-01-06T20:24:36.653326Z",
     "iopub.status.idle": "2025-01-06T20:24:36.687942Z",
     "shell.execute_reply": "2025-01-06T20:24:36.687391Z"
    }
   },
   "outputs": [],
   "source": [
    "IDENTIFIER_COMBINED_DATASETS = \"_stiching_property_I\"\n",
    "\n",
    "# Dataset I with 2000 collected points\n",
    "BEHAVIOR_POLICY_I = BehaviorPolicy2dGridFactory.deterministic_8x8\n",
    "DATA_SET_IDENTIFIER_I = \"_longer_path\"\n",
    "NUM_STEPS_I = 2000\n",
    "\n",
    "# Dataset II with 1000 points\n",
    "# BEHAVIOR_POLICY_II = BehaviorPolicyType.behavior_8x8_eps_greedy_4_0_to_7_7\n",
    "BEHAVIOR_POLICY_II = BehaviorPolicy2dGridFactory.move_right\n",
    "DATA_SET_IDENTIFIER_II = \"_short_path\"\n",
    "NUM_STEPS_II = 1000"
   ]
  },
  {
   "cell_type": "code",
   "execution_count": 18,
   "metadata": {
    "execution": {
     "iopub.execute_input": "2025-01-06T20:24:36.690186Z",
     "iopub.status.busy": "2025-01-06T20:24:36.689870Z",
     "iopub.status.idle": "2025-01-06T20:24:36.724828Z",
     "shell.execute_reply": "2025-01-06T20:24:36.724277Z"
    }
   },
   "outputs": [
    {
     "data": {
      "application/vnd.jupyter.widget-view+json": {
       "model_id": "20728f78f35d453c8829b690691f6e96",
       "version_major": 2,
       "version_minor": 0
      },
      "text/plain": [
       "Dropdown(options=(<BehaviorPolicy2dGridFactory.deterministic_8x8: 'deterministic_8x8'>, <BehaviorPolicy2dGridF…"
      ]
     },
     "metadata": {},
     "output_type": "display_data"
    }
   ],
   "source": [
    "select_policy_to_render = widget_list([BEHAVIOR_POLICY_I, BEHAVIOR_POLICY_II])"
   ]
  },
  {
   "cell_type": "code",
   "execution_count": 19,
   "metadata": {
    "execution": {
     "iopub.execute_input": "2025-01-06T20:24:36.726807Z",
     "iopub.status.busy": "2025-01-06T20:24:36.726478Z",
     "iopub.status.idle": "2025-01-06T20:24:39.019870Z",
     "shell.execute_reply": "2025-01-06T20:24:39.019283Z"
    }
   },
   "outputs": [
    {
     "data": {
      "text/html": [
       "<table class=\"show_videos\" style=\"border-spacing:0px;\"><tr><td style=\"padding:1px;\"><div style=\"display:flex; align-items:left;\">\n",
       "      <div style=\"display:flex; flex-direction:column; align-items:center;\">\n",
       "      <div>2d-GridWorld</div><div><video controls width=\"256\" height=\"256\" style=\"object-fit:cover;\" loop autoplay muted>\n",
       "      <source src=\"data:video/mp4;base64,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\" type=\"video/mp4\"/>\n",
       "      This browser does not support the video tag.\n",
       "      </video></div></div></div></td></tr></table>"
      ],
      "text/plain": [
       "<IPython.core.display.HTML object>"
      ]
     },
     "metadata": {},
     "output_type": "display_data"
    }
   ],
   "source": [
    "env_2D_grid_initial_config = (\n",
    "    env_2D_grid_initial_config_I\n",
    "    if select_policy_to_render.value == BEHAVIOR_POLICY_I\n",
    "    else env_2D_grid_initial_config_II\n",
    ")\n",
    "\n",
    "offpolicy_rendering(\n",
    "    env_or_env_name=ENV,\n",
    "    render_mode=render_mode,\n",
    "    policy_model=select_policy_to_render.value,\n",
    "    env_2d_grid_initial_config=env_2D_grid_initial_config,\n",
    "    num_frames=100,\n",
    ")"
   ]
  },
  {
   "cell_type": "markdown",
   "metadata": {
    "slideshow": {
     "slide_type": "slide"
    }
   },
   "source": [
    "**Create datasets**"
   ]
  },
  {
   "cell_type": "code",
   "execution_count": 20,
   "metadata": {
    "execution": {
     "iopub.execute_input": "2025-01-06T20:24:39.022068Z",
     "iopub.status.busy": "2025-01-06T20:24:39.021677Z",
     "iopub.status.idle": "2025-01-06T20:24:40.910632Z",
     "shell.execute_reply": "2025-01-06T20:24:40.910076Z"
    }
   },
   "outputs": [
    {
     "name": "stdout",
     "output_type": "stream",
     "text": [
      "Number of episodes in dataset I:125, in dataset II:250 and  in the combined dataset: 375\n",
      "Dataset /workspace/src/offline_rl/data/offline_data/Grid_2D_8x8_discrete-combined_dataset-v0 downloaded. number of episodes: 375\n"
     ]
    }
   ],
   "source": [
    "config_combined_data = create_combined_minari_dataset(\n",
    "    env_name=ENV,\n",
    "    dataset_identifiers=(DATA_SET_IDENTIFIER_I, DATA_SET_IDENTIFIER_II),\n",
    "    num_collected_points=(NUM_STEPS_I, NUM_STEPS_II),\n",
    "    behavior_policies=(BEHAVIOR_POLICY_I, BEHAVIOR_POLICY_II),\n",
    "    combined_dataset_identifier=\"combined_dataset\",\n",
    "    env_2d_grid_initial_config=(env_2D_grid_initial_config_I, env_2D_grid_initial_config_II),\n",
    ")\n",
    "buffer_data = load_buffer_minari(config_combined_data.data_set_name)\n",
    "data_size = len(buffer_data)"
   ]
  },
  {
   "cell_type": "code",
   "execution_count": 21,
   "metadata": {
    "execution": {
     "iopub.execute_input": "2025-01-06T20:24:40.912986Z",
     "iopub.status.busy": "2025-01-06T20:24:40.912643Z",
     "iopub.status.idle": "2025-01-06T20:24:40.949125Z",
     "shell.execute_reply": "2025-01-06T20:24:40.948668Z"
    }
   },
   "outputs": [
    {
     "data": {
      "application/vnd.jupyter.widget-view+json": {
       "model_id": "56e3d298b38d4be9865bb9bda5aac664",
       "version_major": 2,
       "version_minor": 0
      },
      "text/plain": [
       "Dropdown(options=('Grid_2D_8x8_discrete-combined_dataset-v0', 'Grid_2D_8x8_discrete-data_obst_free_8x8_start_0…"
      ]
     },
     "metadata": {},
     "output_type": "display_data"
    }
   ],
   "source": [
    "dataset_availables = [\n",
    "    config_combined_data.data_set_name\n",
    "] + config_combined_data.children_dataset_names\n",
    "selected_data_set = widget_list(dataset_availables)"
   ]
  },
  {
   "cell_type": "markdown",
   "metadata": {
    "slideshow": {
     "slide_type": "slide"
    }
   },
   "source": [
    "### STEP 3: Feed data into replay buffer"
   ]
  },
  {
   "cell_type": "code",
   "execution_count": 22,
   "metadata": {
    "execution": {
     "iopub.execute_input": "2025-01-06T20:24:40.951153Z",
     "iopub.status.busy": "2025-01-06T20:24:40.950826Z",
     "iopub.status.idle": "2025-01-06T20:24:42.288580Z",
     "shell.execute_reply": "2025-01-06T20:24:42.287969Z"
    }
   },
   "outputs": [
    {
     "name": "stdout",
     "output_type": "stream",
     "text": [
      "Dataset /workspace/src/offline_rl/data/offline_data/Grid_2D_8x8_discrete-combined_dataset-v0 downloaded. number of episodes: 375\n"
     ]
    },
    {
     "data": {
      "image/png": "[encoded data removed]",
      "text/plain": [
       "<Figure size 1000x500 with 1 Axes>"
      ]
     },
     "metadata": {},
     "output_type": "display_data"
    }
   ],
   "source": [
    "buffer_data = load_buffer_minari(selected_data_set.value)\n",
    "len_buffer = len(buffer_data)\n",
    "\n",
    "# Compute state-action data distribution\n",
    "state_action_count_data, _ = get_state_action_data_and_policy_grid_distributions(\n",
    "    buffer_data, env, normalized=False\n",
    ")\n",
    "\n",
    "if \"start_0_0\" in selected_data_set.value:\n",
    "    env.set_starting_point((0, 0))\n",
    "    snapshot_env(env)\n",
    "elif \"start_2_0\" in selected_data_set.value:\n",
    "    env.set_starting_point((2, 0))\n",
    "    snapshot_env(env)"
   ]
  },
  {
   "cell_type": "markdown",
   "metadata": {
    "slideshow": {
     "slide_type": "slide"
    }
   },
   "source": [
    "### STEP 4: Select offline policies and training"
   ]
  },
  {
   "cell_type": "code",
   "execution_count": 23,
   "metadata": {
    "execution": {
     "iopub.execute_input": "2025-01-06T20:24:42.290862Z",
     "iopub.status.busy": "2025-01-06T20:24:42.290541Z",
     "iopub.status.idle": "2025-01-06T20:24:42.326978Z",
     "shell.execute_reply": "2025-01-06T20:24:42.326452Z"
    }
   },
   "outputs": [
    {
     "data": {
      "application/vnd.jupyter.widget-view+json": {
       "model_id": "3202cc4b7a284dd48a2a550cea4b0ec4",
       "version_major": 2,
       "version_minor": 0
      },
      "text/plain": [
       "Dropdown(options=(<RLPolicyFactory.bcq_discrete: 'bcq_discrete'>, <RLPolicyFactory.cql_discrete: 'cql_discrete…"
      ]
     },
     "metadata": {},
     "output_type": "display_data"
    }
   ],
   "source": [
    "offline_rl_policies = [RLPolicyFactory.bcq_discrete, RLPolicyFactory.cql_discrete]\n",
    "selected_offline_rl_policy = widget_list(offline_rl_policies)"
   ]
  },
  {
   "cell_type": "code",
   "execution_count": 24,
   "metadata": {
    "execution": {
     "iopub.execute_input": "2025-01-06T20:24:42.329068Z",
     "iopub.status.busy": "2025-01-06T20:24:42.328748Z",
     "iopub.status.idle": "2025-01-06T20:24:42.362903Z",
     "shell.execute_reply": "2025-01-06T20:24:42.362289Z"
    }
   },
   "outputs": [],
   "source": [
    "# Offiline - Training\n",
    "\n",
    "NUM_EPOCHS = 2\n",
    "BATCH_SIZE = 128\n",
    "STEP_PER_EPOCH = 1.0 * len_buffer\n",
    "NUMBER_TEST_ENVS = 1\n",
    "\n",
    "\n",
    "offline_policy_config = TrainedPolicyConfig(\n",
    "    name_expert_data=selected_data_set.value,\n",
    "    rl_policy_model=selected_offline_rl_policy.value,\n",
    "    render_mode=render_mode,\n",
    "    device=\"cpu\",\n",
    ")\n",
    "\n",
    "\n",
    "# Hyperparameters to be used in the training.\n",
    "offline_training_hyperparams = OfflineTrainingHyperparams(\n",
    "    offline_policy_config=offline_policy_config,\n",
    "    num_epochs=NUM_EPOCHS,\n",
    "    number_test_envs=NUMBER_TEST_ENVS,\n",
    "    step_per_epoch=STEP_PER_EPOCH,\n",
    "    restore_training=False,\n",
    ")"
   ]
  },
  {
   "cell_type": "code",
   "execution_count": 25,
   "metadata": {
    "execution": {
     "iopub.execute_input": "2025-01-06T20:24:42.365306Z",
     "iopub.status.busy": "2025-01-06T20:24:42.364977Z",
     "iopub.status.idle": "2025-01-06T20:25:06.700978Z",
     "shell.execute_reply": "2025-01-06T20:25:06.700267Z"
    }
   },
   "outputs": [
    {
     "name": "stdout",
     "output_type": "stream",
     "text": [
      "Dataset /workspace/src/offline_rl/data/offline_data/Grid_2D_8x8_discrete-combined_dataset-v0 downloaded. number of episodes: 375\n"
     ]
    },
    {
     "name": "stdout",
     "output_type": "stream",
     "text": [
      "Epoch #1: test_reward: -0.022067 ± 0.000000, best_reward: -0.022067 ± 0.000000 in #1\n"
     ]
    },
    {
     "name": "stdout",
     "output_type": "stream",
     "text": [
      "Epoch #2: test_reward: -0.022067 ± 0.000000, best_reward: -0.022067 ± 0.000000 in #1\n"
     ]
    }
   ],
   "source": [
    "OfflineRLTraining.training(\n",
    "    offline_training_hyperparams,\n",
    "    show_progress=IS_NOT_CI\n",
    ")"
   ]
  },
  {
   "cell_type": "markdown",
   "metadata": {
    "slideshow": {
     "slide_type": "slide"
    }
   },
   "source": [
    "**Restore and visualize trained policy**"
   ]
  },
  {
   "cell_type": "code",
   "execution_count": 26,
   "metadata": {
    "execution": {
     "iopub.execute_input": "2025-01-06T20:25:06.704006Z",
     "iopub.status.busy": "2025-01-06T20:25:06.703779Z",
     "iopub.status.idle": "2025-01-06T20:25:09.136915Z",
     "shell.execute_reply": "2025-01-06T20:25:09.136473Z"
    }
   },
   "outputs": [
    {
     "data": {
      "text/html": [
       "<table class=\"show_videos\" style=\"border-spacing:0px;\"><tr><td style=\"padding:1px;\"><div style=\"display:flex; align-items:left;\">\n",
       "      <div style=\"display:flex; flex-direction:column; align-items:center;\">\n",
       "      <div>2d-GridWorld</div><div><video controls width=\"256\" height=\"256\" style=\"object-fit:cover;\" loop autoplay muted>\n",
       "      <source src=\"data:video/mp4;base64,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\" type=\"video/mp4\"/>\n",
       "      This browser does not support the video tag.\n",
       "      </video></div></div></div></td></tr></table>"
      ],
      "text/plain": [
       "<IPython.core.display.HTML object>"
      ]
     },
     "metadata": {},
     "output_type": "display_data"
    }
   ],
   "source": [
    "# SAVED_POLICY_NAME = \"policy_best_reward.pth\"\n",
    "SAVED_POLICY_NAME = \"policy.pth\"\n",
    "INITIAL_STATE = (0, 0)\n",
    "FINAL_STATE = (2, 4)\n",
    "\n",
    "offline_policy_config = TrainedPolicyConfig(\n",
    "    name_expert_data=selected_data_set.value,\n",
    "    rl_policy_model=selected_offline_rl_policy.value,\n",
    "    render_mode=render_mode,\n",
    "    device=\"cpu\",\n",
    ")\n",
    "\n",
    "policy = OfflineRLTraining.restore_policy(offline_policy_config)\n",
    "log_name = Path(selected_data_set.value) / Path(selected_offline_rl_policy.value)\n",
    "log_path = get_trained_policy_path() / log_name / SAVED_POLICY_NAME\n",
    "policy.load_state_dict(torch.load(str(log_path), map_location=\"cpu\"))\n",
    "\n",
    "env.set_starting_point(INITIAL_STATE)\n",
    "env.set_goal_point(FINAL_STATE)\n",
    "# snapshot_env(env)\n",
    "\n",
    "offpolicy_rendering(\n",
    "    env_or_env_name=env,\n",
    "    render_mode=render_mode,\n",
    "    policy_model=policy,\n",
    "    env_2d_grid_initial_config=env_2D_grid_initial_config,\n",
    "    num_frames=100,\n",
    "    imitation_policy_sampling=False,\n",
    ")"
   ]
  },
  {
   "cell_type": "markdown",
   "metadata": {},
   "source": [
    "**Question**: Let's now change the dataset distribution. We'll collect 600 points with the first behavior policy and 100 with the second one. In this case, the probability of taking the suboptimal path will be higher. What paths are chosen by the algorithms?"
   ]
  },
  {
   "cell_type": "markdown",
   "metadata": {
    "slideshow": {
     "slide_type": "slide"
    }
   },
   "source": [
    "## Final remarks"
   ]
  },
  {
   "cell_type": "markdown",
   "metadata": {
    "slideshow": {
     "slide_type": "slide"
    }
   },
   "source": [
    "Offline RL proves valuable in various scenarios, especially when:\n",
    "\n",
    "a. Robots require intelligent behavior in complex open-world environments demanding extensive training data due to robust visual perception requirements. (complex environment modeling and extensive data collection)\n",
    "\n",
    "b. Robot grasping tasks, which involve expert data that cannot be accurately simulated, providing an opportunity to assess our BCQ algorithm.\n",
    "\n",
    "c. Robotic navigation tasks, where offline RL aids in crafting effective navigation policies using real-world data.\n",
    "\n",
    "d. Autonomous driving, where ample expert data and an offline approach enhance safety.\n",
    "\n",
    "e. Healthcare applications, where safety is paramount due to the potential serious consequences of inaccurate forecasts.\n",
    "\n",
    "... and many more.\n",
    "\n",
    "However, if you have access to an environment with abundant data, online Reinforcement Learning (RL) can be a powerful choice due to its potential for exploration and real-time feedback. Nevertheless, the landscape of RL is evolving, and a data-centric approach is gaining prominence, exemplified by vast datasets like X-Embodiment. It's becoming evident that robots trained with diverse data across various scenarios tend to outperform those solely focused on specific tasks. Furthermore, leveraging multitask trained agents for transfer learning can be a valuable strategy for addressing your specific task at hand."
   ]
  },
  {
   "cell_type": "code",
   "execution_count": null,
   "metadata": {},
   "outputs": [],
   "source": []
  }
 ],
 "metadata": {
  "language_info": {
   "codemirror_mode": {
    "name": "ipython",
    "version": 3
   },
   "file_extension": ".py",
   "mimetype": "text/x-python",
   "name": "python",
   "nbconvert_exporter": "python",
   "pygments_lexer": "ipython3",
   "version": "3.11.6"
  },
  "widgets": {
   "application/vnd.jupyter.widget-state+json": {
    "state": {
     "0bd62748cb4c47b3a7ca9cfcb350bc06": {
      "model_module": "@jupyter-widgets/base",
      "model_module_version": "2.0.0",
      "model_name": "LayoutModel",
      "state": {
       "_model_module": "@jupyter-widgets/base",
       "_model_module_version": "2.0.0",
       "_model_name": "LayoutModel",
       "_view_count": null,
       "_view_module": "@jupyter-widgets/base",
       "_view_module_version": "2.0.0",
       "_view_name": "LayoutView",
       "align_content": null,
       "align_items": null,
       "align_self": null,
       "border_bottom": null,
       "border_left": null,
       "border_right": null,
       "border_top": null,
       "bottom": null,
       "display": null,
       "flex": null,
       "flex_flow": null,
       "grid_area": null,
       "grid_auto_columns": null,
       "grid_auto_flow": null,
       "grid_auto_rows": null,
       "grid_column": null,
       "grid_gap": null,
       "grid_row": null,
       "grid_template_areas": null,
       "grid_template_columns": null,
       "grid_template_rows": null,
       "height": null,
       "justify_content": null,
       "justify_items": null,
       "left": null,
       "margin": null,
       "max_height": null,
       "max_width": null,
       "min_height": null,
       "min_width": null,
       "object_fit": null,
       "object_position": null,
       "order": null,
       "overflow": null,
       "padding": null,
       "right": null,
       "top": null,
       "visibility": null,
       "width": null
      }
     },
     "107444cb8f334cc9b47b21874358551c": {
      "model_module": "@jupyter-widgets/controls",
      "model_module_version": "2.0.0",
      "model_name": "DescriptionStyleModel",
      "state": {
       "_model_module": "@jupyter-widgets/controls",
       "_model_module_version": "2.0.0",
       "_model_name": "DescriptionStyleModel",
       "_view_count": null,
       "_view_module": "@jupyter-widgets/base",
       "_view_module_version": "2.0.0",
       "_view_name": "StyleView",
       "description_width": ""
      }
     },
     "1c9072ddf5314a42b3dfc3853da14a8a": {
      "model_module": "@jupyter-widgets/controls",
      "model_module_version": "2.0.0",
      "model_name": "DescriptionStyleModel",
      "state": {
       "_model_module": "@jupyter-widgets/controls",
       "_model_module_version": "2.0.0",
       "_model_name": "DescriptionStyleModel",
       "_view_count": null,
       "_view_module": "@jupyter-widgets/base",
       "_view_module_version": "2.0.0",
       "_view_name": "StyleView",
       "description_width": ""
      }
     },
     "20728f78f35d453c8829b690691f6e96": {
      "model_module": "@jupyter-widgets/controls",
      "model_module_version": "2.0.0",
      "model_name": "DropdownModel",
      "state": {
       "_dom_classes": [],
       "_model_module": "@jupyter-widgets/controls",
       "_model_module_version": "2.0.0",
       "_model_name": "DropdownModel",
       "_options_labels": [
        "deterministic_8x8",
        "move_right"
       ],
       "_view_count": null,
       "_view_module": "@jupyter-widgets/controls",
       "_view_module_version": "2.0.0",
       "_view_name": "DropdownView",
       "description": "",
       "description_allow_html": false,
       "disabled": false,
       "index": 0,
       "layout": "IPY_MODEL_e6563cca07c645969eaa10a6349fc65d",
       "style": "IPY_MODEL_107444cb8f334cc9b47b21874358551c",
       "tabbable": null,
       "tooltip": null
      }
     },
     "30a55be25dde46bebe6f1ed485fac8b1": {
      "model_module": "@jupyter-widgets/base",
      "model_module_version": "2.0.0",
      "model_name": "LayoutModel",
      "state": {
       "_model_module": "@jupyter-widgets/base",
       "_model_module_version": "2.0.0",
       "_model_name": "LayoutModel",
       "_view_count": null,
       "_view_module": "@jupyter-widgets/base",
       "_view_module_version": "2.0.0",
       "_view_name": "LayoutView",
       "align_content": null,
       "align_items": null,
       "align_self": null,
       "border_bottom": null,
       "border_left": null,
       "border_right": null,
       "border_top": null,
       "bottom": null,
       "display": null,
       "flex": null,
       "flex_flow": null,
       "grid_area": null,
       "grid_auto_columns": null,
       "grid_auto_flow": null,
       "grid_auto_rows": null,
       "grid_column": null,
       "grid_gap": null,
       "grid_row": null,
       "grid_template_areas": null,
       "grid_template_columns": null,
       "grid_template_rows": null,
       "height": null,
       "justify_content": null,
       "justify_items": null,
       "left": null,
       "margin": null,
       "max_height": null,
       "max_width": null,
       "min_height": null,
       "min_width": null,
       "object_fit": null,
       "object_position": null,
       "order": null,
       "overflow": null,
       "padding": null,
       "right": null,
       "top": null,
       "visibility": null,
       "width": null
      }
     },
     "3202cc4b7a284dd48a2a550cea4b0ec4": {
      "model_module": "@jupyter-widgets/controls",
      "model_module_version": "2.0.0",
      "model_name": "DropdownModel",
      "state": {
       "_dom_classes": [],
       "_model_module": "@jupyter-widgets/controls",
       "_model_module_version": "2.0.0",
       "_model_name": "DropdownModel",
       "_options_labels": [
        "bcq_discrete",
        "cql_discrete"
       ],
       "_view_count": null,
       "_view_module": "@jupyter-widgets/controls",
       "_view_module_version": "2.0.0",
       "_view_name": "DropdownView",
       "description": "",
       "description_allow_html": false,
       "disabled": false,
       "index": 0,
       "layout": "IPY_MODEL_662d3bb455644cd288d607172a615fa6",
       "style": "IPY_MODEL_b7509c18a93c4270981b658fd7b40d64",
       "tabbable": null,
       "tooltip": null
      }
     },
     "45d7dfaf3ec2400ca1e5bc6cfd579246": {
      "model_module": "@jupyter-widgets/controls",
      "model_module_version": "2.0.0",
      "model_name": "DropdownModel",
      "state": {
       "_dom_classes": [],
       "_model_module": "@jupyter-widgets/controls",
       "_model_module_version": "2.0.0",
       "_model_name": "DropdownModel",
       "_options_labels": [
        "ObstacleTypes.obstacle_8x8_wall_with_door"
       ],
       "_view_count": null,
       "_view_module": "@jupyter-widgets/controls",
       "_view_module_version": "2.0.0",
       "_view_name": "DropdownView",
       "description": "",
       "description_allow_html": false,
       "disabled": false,
       "index": 0,
       "layout": "IPY_MODEL_c6d558d1c74048b0913d038ff4c0fff2",
       "style": "IPY_MODEL_1c9072ddf5314a42b3dfc3853da14a8a",
       "tabbable": null,
       "tooltip": null
      }
     },
     "56e3d298b38d4be9865bb9bda5aac664": {
      "model_module": "@jupyter-widgets/controls",
      "model_module_version": "2.0.0",
      "model_name": "DropdownModel",
      "state": {
       "_dom_classes": [],
       "_model_module": "@jupyter-widgets/controls",
       "_model_module_version": "2.0.0",
       "_model_name": "DropdownModel",
       "_options_labels": [
        "Grid_2D_8x8_discrete-combined_dataset-v0",
        "Grid_2D_8x8_discrete-data_obst_free_8x8_start_0_0_target_2_4_longer_path-v0",
        "Grid_2D_8x8_discrete-data_obst_free_8x8_start_2_0_target_2_4_short_path-v0"
       ],
       "_view_count": null,
       "_view_module": "@jupyter-widgets/controls",
       "_view_module_version": "2.0.0",
       "_view_name": "DropdownView",
       "description": "",
       "description_allow_html": false,
       "disabled": false,
       "index": 0,
       "layout": "IPY_MODEL_0bd62748cb4c47b3a7ca9cfcb350bc06",
       "style": "IPY_MODEL_ff5a3a5091ae4d30aaecbab80f9ecbdb",
       "tabbable": null,
       "tooltip": null
      }
     },
     "64f6064732b748bbba3929354f3fba69": {
      "model_module": "@jupyter-widgets/controls",
      "model_module_version": "2.0.0",
      "model_name": "DescriptionStyleModel",
      "state": {
       "_model_module": "@jupyter-widgets/controls",
       "_model_module_version": "2.0.0",
       "_model_name": "DescriptionStyleModel",
       "_view_count": null,
       "_view_module": "@jupyter-widgets/base",
       "_view_module_version": "2.0.0",
       "_view_name": "StyleView",
       "description_width": ""
      }
     },
     "662d3bb455644cd288d607172a615fa6": {
      "model_module": "@jupyter-widgets/base",
      "model_module_version": "2.0.0",
      "model_name": "LayoutModel",
      "state": {
       "_model_module": "@jupyter-widgets/base",
       "_model_module_version": "2.0.0",
       "_model_name": "LayoutModel",
       "_view_count": null,
       "_view_module": "@jupyter-widgets/base",
       "_view_module_version": "2.0.0",
       "_view_name": "LayoutView",
       "align_content": null,
       "align_items": null,
       "align_self": null,
       "border_bottom": null,
       "border_left": null,
       "border_right": null,
       "border_top": null,
       "bottom": null,
       "display": null,
       "flex": null,
       "flex_flow": null,
       "grid_area": null,
       "grid_auto_columns": null,
       "grid_auto_flow": null,
       "grid_auto_rows": null,
       "grid_column": null,
       "grid_gap": null,
       "grid_row": null,
       "grid_template_areas": null,
       "grid_template_columns": null,
       "grid_template_rows": null,
       "height": null,
       "justify_content": null,
       "justify_items": null,
       "left": null,
       "margin": null,
       "max_height": null,
       "max_width": null,
       "min_height": null,
       "min_width": null,
       "object_fit": null,
       "object_position": null,
       "order": null,
       "overflow": null,
       "padding": null,
       "right": null,
       "top": null,
       "visibility": null,
       "width": null
      }
     },
     "72d0468deafa4def8f48c9193638e581": {
      "model_module": "@jupyter-widgets/base",
      "model_module_version": "2.0.0",
      "model_name": "LayoutModel",
      "state": {
       "_model_module": "@jupyter-widgets/base",
       "_model_module_version": "2.0.0",
       "_model_name": "LayoutModel",
       "_view_count": null,
       "_view_module": "@jupyter-widgets/base",
       "_view_module_version": "2.0.0",
       "_view_name": "LayoutView",
       "align_content": null,
       "align_items": null,
       "align_self": null,
       "border_bottom": null,
       "border_left": null,
       "border_right": null,
       "border_top": null,
       "bottom": null,
       "display": null,
       "flex": null,
       "flex_flow": null,
       "grid_area": null,
       "grid_auto_columns": null,
       "grid_auto_flow": null,
       "grid_auto_rows": null,
       "grid_column": null,
       "grid_gap": null,
       "grid_row": null,
       "grid_template_areas": null,
       "grid_template_columns": null,
       "grid_template_rows": null,
       "height": null,
       "justify_content": null,
       "justify_items": null,
       "left": null,
       "margin": null,
       "max_height": null,
       "max_width": null,
       "min_height": null,
       "min_width": null,
       "object_fit": null,
       "object_position": null,
       "order": null,
       "overflow": null,
       "padding": null,
       "right": null,
       "top": null,
       "visibility": null,
       "width": null
      }
     },
     "76ed71f6a40e42f98c782d40795e0dc6": {
      "model_module": "@jupyter-widgets/base",
      "model_module_version": "2.0.0",
      "model_name": "LayoutModel",
      "state": {
       "_model_module": "@jupyter-widgets/base",
       "_model_module_version": "2.0.0",
       "_model_name": "LayoutModel",
       "_view_count": null,
       "_view_module": "@jupyter-widgets/base",
       "_view_module_version": "2.0.0",
       "_view_name": "LayoutView",
       "align_content": null,
       "align_items": null,
       "align_self": null,
       "border_bottom": null,
       "border_left": null,
       "border_right": null,
       "border_top": null,
       "bottom": null,
       "display": null,
       "flex": null,
       "flex_flow": null,
       "grid_area": null,
       "grid_auto_columns": null,
       "grid_auto_flow": null,
       "grid_auto_rows": null,
       "grid_column": null,
       "grid_gap": null,
       "grid_row": null,
       "grid_template_areas": null,
       "grid_template_columns": null,
       "grid_template_rows": null,
       "height": null,
       "justify_content": null,
       "justify_items": null,
       "left": null,
       "margin": null,
       "max_height": null,
       "max_width": null,
       "min_height": null,
       "min_width": null,
       "object_fit": null,
       "object_position": null,
       "order": null,
       "overflow": null,
       "padding": null,
       "right": null,
       "top": null,
       "visibility": null,
       "width": null
      }
     },
     "7cd82b370cd444778154fe244210c5d3": {
      "model_module": "@jupyter-widgets/controls",
      "model_module_version": "2.0.0",
      "model_name": "DescriptionStyleModel",
      "state": {
       "_model_module": "@jupyter-widgets/controls",
       "_model_module_version": "2.0.0",
       "_model_name": "DescriptionStyleModel",
       "_view_count": null,
       "_view_module": "@jupyter-widgets/base",
       "_view_module_version": "2.0.0",
       "_view_name": "StyleView",
       "description_width": ""
      }
     },
     "922528008ac34f449a745fdfe3941a39": {
      "model_module": "@jupyter-widgets/controls",
      "model_module_version": "2.0.0",
      "model_name": "DropdownModel",
      "state": {
       "_dom_classes": [],
       "_model_module": "@jupyter-widgets/controls",
       "_model_module_version": "2.0.0",
       "_model_name": "DropdownModel",
       "_options_labels": [
        "move_up",
        "move_left"
       ],
       "_view_count": null,
       "_view_module": "@jupyter-widgets/controls",
       "_view_module_version": "2.0.0",
       "_view_name": "DropdownView",
       "description": "",
       "description_allow_html": false,
       "disabled": false,
       "index": 0,
       "layout": "IPY_MODEL_a9517f428a444ba1b434b9977ccf7e5c",
       "style": "IPY_MODEL_7cd82b370cd444778154fe244210c5d3",
       "tabbable": null,
       "tooltip": null
      }
     },
     "a46e20744391409089f6577f4df3dc18": {
      "model_module": "@jupyter-widgets/controls",
      "model_module_version": "2.0.0",
      "model_name": "DropdownModel",
      "state": {
       "_dom_classes": [],
       "_model_module": "@jupyter-widgets/controls",
       "_model_module_version": "2.0.0",
       "_model_name": "DropdownModel",
       "_options_labels": [
        "Grid_2D_8x8_discrete-combined_data_sets_offline_rl-v0",
        "Grid_2D_8x8_discrete-data_obstacle_8x8_wall_with_door_start_7_7_target_0_7_expert-v0",
        "Grid_2D_8x8_discrete-data_obstacle_8x8_wall_with_door_start_7_7_target_0_7_suboptimal-v0"
       ],
       "_view_count": null,
       "_view_module": "@jupyter-widgets/controls",
       "_view_module_version": "2.0.0",
       "_view_name": "DropdownView",
       "description": "",
       "description_allow_html": false,
       "disabled": false,
       "index": 0,
       "layout": "IPY_MODEL_76ed71f6a40e42f98c782d40795e0dc6",
       "style": "IPY_MODEL_a550e7d8fecf4aadab5c5d3f2ad2c179",
       "tabbable": null,
       "tooltip": null
      }
     },
     "a516b278faab4d70a1c591b9267f2f92": {
      "model_module": "@jupyter-widgets/controls",
      "model_module_version": "2.0.0",
      "model_name": "DropdownModel",
      "state": {
       "_dom_classes": [],
       "_model_module": "@jupyter-widgets/controls",
       "_model_module_version": "2.0.0",
       "_model_name": "DropdownModel",
       "_options_labels": [
        "ObstacleTypes.obstacle_8x8_wall_with_door"
       ],
       "_view_count": null,
       "_view_module": "@jupyter-widgets/controls",
       "_view_module_version": "2.0.0",
       "_view_name": "DropdownView",
       "description": "",
       "description_allow_html": false,
       "disabled": false,
       "index": 0,
       "layout": "IPY_MODEL_30a55be25dde46bebe6f1ed485fac8b1",
       "style": "IPY_MODEL_a8245e02ba6142aa824538c7484bc118",
       "tabbable": null,
       "tooltip": null
      }
     },
     "a550e7d8fecf4aadab5c5d3f2ad2c179": {
      "model_module": "@jupyter-widgets/controls",
      "model_module_version": "2.0.0",
      "model_name": "DescriptionStyleModel",
      "state": {
       "_model_module": "@jupyter-widgets/controls",
       "_model_module_version": "2.0.0",
       "_model_name": "DescriptionStyleModel",
       "_view_count": null,
       "_view_module": "@jupyter-widgets/base",
       "_view_module_version": "2.0.0",
       "_view_name": "StyleView",
       "description_width": ""
      }
     },
     "a8245e02ba6142aa824538c7484bc118": {
      "model_module": "@jupyter-widgets/controls",
      "model_module_version": "2.0.0",
      "model_name": "DescriptionStyleModel",
      "state": {
       "_model_module": "@jupyter-widgets/controls",
       "_model_module_version": "2.0.0",
       "_model_name": "DescriptionStyleModel",
       "_view_count": null,
       "_view_module": "@jupyter-widgets/base",
       "_view_module_version": "2.0.0",
       "_view_name": "StyleView",
       "description_width": ""
      }
     },
     "a9517f428a444ba1b434b9977ccf7e5c": {
      "model_module": "@jupyter-widgets/base",
      "model_module_version": "2.0.0",
      "model_name": "LayoutModel",
      "state": {
       "_model_module": "@jupyter-widgets/base",
       "_model_module_version": "2.0.0",
       "_model_name": "LayoutModel",
       "_view_count": null,
       "_view_module": "@jupyter-widgets/base",
       "_view_module_version": "2.0.0",
       "_view_name": "LayoutView",
       "align_content": null,
       "align_items": null,
       "align_self": null,
       "border_bottom": null,
       "border_left": null,
       "border_right": null,
       "border_top": null,
       "bottom": null,
       "display": null,
       "flex": null,
       "flex_flow": null,
       "grid_area": null,
       "grid_auto_columns": null,
       "grid_auto_flow": null,
       "grid_auto_rows": null,
       "grid_column": null,
       "grid_gap": null,
       "grid_row": null,
       "grid_template_areas": null,
       "grid_template_columns": null,
       "grid_template_rows": null,
       "height": null,
       "justify_content": null,
       "justify_items": null,
       "left": null,
       "margin": null,
       "max_height": null,
       "max_width": null,
       "min_height": null,
       "min_width": null,
       "object_fit": null,
       "object_position": null,
       "order": null,
       "overflow": null,
       "padding": null,
       "right": null,
       "top": null,
       "visibility": null,
       "width": null
      }
     },
     "b7509c18a93c4270981b658fd7b40d64": {
      "model_module": "@jupyter-widgets/controls",
      "model_module_version": "2.0.0",
      "model_name": "DescriptionStyleModel",
      "state": {
       "_model_module": "@jupyter-widgets/controls",
       "_model_module_version": "2.0.0",
       "_model_name": "DescriptionStyleModel",
       "_view_count": null,
       "_view_module": "@jupyter-widgets/base",
       "_view_module_version": "2.0.0",
       "_view_name": "StyleView",
       "description_width": ""
      }
     },
     "c6d558d1c74048b0913d038ff4c0fff2": {
      "model_module": "@jupyter-widgets/base",
      "model_module_version": "2.0.0",
      "model_name": "LayoutModel",
      "state": {
       "_model_module": "@jupyter-widgets/base",
       "_model_module_version": "2.0.0",
       "_model_name": "LayoutModel",
       "_view_count": null,
       "_view_module": "@jupyter-widgets/base",
       "_view_module_version": "2.0.0",
       "_view_name": "LayoutView",
       "align_content": null,
       "align_items": null,
       "align_self": null,
       "border_bottom": null,
       "border_left": null,
       "border_right": null,
       "border_top": null,
       "bottom": null,
       "display": null,
       "flex": null,
       "flex_flow": null,
       "grid_area": null,
       "grid_auto_columns": null,
       "grid_auto_flow": null,
       "grid_auto_rows": null,
       "grid_column": null,
       "grid_gap": null,
       "grid_row": null,
       "grid_template_areas": null,
       "grid_template_columns": null,
       "grid_template_rows": null,
       "height": null,
       "justify_content": null,
       "justify_items": null,
       "left": null,
       "margin": null,
       "max_height": null,
       "max_width": null,
       "min_height": null,
       "min_width": null,
       "object_fit": null,
       "object_position": null,
       "order": null,
       "overflow": null,
       "padding": null,
       "right": null,
       "top": null,
       "visibility": null,
       "width": null
      }
     },
     "d74fbfc2f2dc473aac1c807a39a95e47": {
      "model_module": "@jupyter-widgets/controls",
      "model_module_version": "2.0.0",
      "model_name": "DropdownModel",
      "state": {
       "_dom_classes": [],
       "_model_module": "@jupyter-widgets/controls",
       "_model_module_version": "2.0.0",
       "_model_name": "DropdownModel",
       "_options_labels": [
        "bcq_discrete",
        "cql_discrete",
        "imitation_learning"
       ],
       "_view_count": null,
       "_view_module": "@jupyter-widgets/controls",
       "_view_module_version": "2.0.0",
       "_view_name": "DropdownView",
       "description": "",
       "description_allow_html": false,
       "disabled": false,
       "index": 0,
       "layout": "IPY_MODEL_72d0468deafa4def8f48c9193638e581",
       "style": "IPY_MODEL_64f6064732b748bbba3929354f3fba69",
       "tabbable": null,
       "tooltip": null
      }
     },
     "e6563cca07c645969eaa10a6349fc65d": {
      "model_module": "@jupyter-widgets/base",
      "model_module_version": "2.0.0",
      "model_name": "LayoutModel",
      "state": {
       "_model_module": "@jupyter-widgets/base",
       "_model_module_version": "2.0.0",
       "_model_name": "LayoutModel",
       "_view_count": null,
       "_view_module": "@jupyter-widgets/base",
       "_view_module_version": "2.0.0",
       "_view_name": "LayoutView",
       "align_content": null,
       "align_items": null,
       "align_self": null,
       "border_bottom": null,
       "border_left": null,
       "border_right": null,
       "border_top": null,
       "bottom": null,
       "display": null,
       "flex": null,
       "flex_flow": null,
       "grid_area": null,
       "grid_auto_columns": null,
       "grid_auto_flow": null,
       "grid_auto_rows": null,
       "grid_column": null,
       "grid_gap": null,
       "grid_row": null,
       "grid_template_areas": null,
       "grid_template_columns": null,
       "grid_template_rows": null,
       "height": null,
       "justify_content": null,
       "justify_items": null,
       "left": null,
       "margin": null,
       "max_height": null,
       "max_width": null,
       "min_height": null,
       "min_width": null,
       "object_fit": null,
       "object_position": null,
       "order": null,
       "overflow": null,
       "padding": null,
       "right": null,
       "top": null,
       "visibility": null,
       "width": null
      }
     },
     "ff5a3a5091ae4d30aaecbab80f9ecbdb": {
      "model_module": "@jupyter-widgets/controls",
      "model_module_version": "2.0.0",
      "model_name": "DescriptionStyleModel",
      "state": {
       "_model_module": "@jupyter-widgets/controls",
       "_model_module_version": "2.0.0",
       "_model_name": "DescriptionStyleModel",
       "_view_count": null,
       "_view_module": "@jupyter-widgets/base",
       "_view_module_version": "2.0.0",
       "_view_name": "StyleView",
       "description_width": ""
      }
     }
    },
    "version_major": 2,
    "version_minor": 0
   }
  }
 },
 "nbformat": 4,
 "nbformat_minor": 1
}
