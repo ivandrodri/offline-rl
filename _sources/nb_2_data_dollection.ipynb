{
 "cells": [
  {
   "cell_type": "code",
   "execution_count": 1,
   "metadata": {
    "execution": {
     "iopub.execute_input": "2025-01-06T13:36:47.574963Z",
     "iopub.status.busy": "2025-01-06T13:36:47.574806Z",
     "iopub.status.idle": "2025-01-06T13:36:48.528612Z",
     "shell.execute_reply": "2025-01-06T13:36:48.528108Z"
    }
   },
   "outputs": [],
   "source": [
    "%%capture\n",
    "%load_ext autoreload\n",
    "%autoreload 2\n",
    "%matplotlib inline\n",
    "%load_ext tensorboard\n",
    "%set_random_seed 12"
   ]
  },
  {
   "cell_type": "code",
   "execution_count": 2,
   "metadata": {
    "execution": {
     "iopub.execute_input": "2025-01-06T13:36:48.530782Z",
     "iopub.status.busy": "2025-01-06T13:36:48.530563Z",
     "iopub.status.idle": "2025-01-06T13:36:48.541991Z",
     "shell.execute_reply": "2025-01-06T13:36:48.541584Z"
    }
   },
   "outputs": [],
   "source": [
    "# %tensorboard --logdir ../offline_rl/ --host localhost"
   ]
  },
  {
   "cell_type": "code",
   "execution_count": 3,
   "metadata": {
    "execution": {
     "iopub.execute_input": "2025-01-06T13:36:48.543711Z",
     "iopub.status.busy": "2025-01-06T13:36:48.543552Z",
     "iopub.status.idle": "2025-01-06T13:36:53.516093Z",
     "shell.execute_reply": "2025-01-06T13:36:53.515523Z"
    }
   },
   "outputs": [
    {
     "name": "stderr",
     "output_type": "stream",
     "text": [
      "sys:1: DeprecationWarning: DataCollectorV0 is deprecated and will be removed. Use DataCollector instead.\n"
     ]
    }
   ],
   "source": [
    "from offline_rl.set_env_variables import set_env_variables\n",
    "\n",
    "set_env_variables()\n",
    "\n",
    "import warnings\n",
    "import os\n",
    "\n",
    "import gymnasium as gym\n",
    "from offline_rl.custom_envs.custom_2d_grid_env.obstacles_2D_grid_register import ObstacleTypes\n",
    "from offline_rl.custom_envs.custom_2d_grid_env.simple_grid import Custom2DGridEnv\n",
    "from offline_rl.custom_envs.custom_envs_registration import RenderMode\n",
    "from offline_rl.offline_policies.offpolicy_rendering import offpolicy_rendering\n",
    "from offline_rl.utils import load_buffer_minari\n",
    "from offline_rl.visualizations.utils import (\n",
    "    get_state_action_data_and_policy_grid_distributions,\n",
    "    snapshot_env,\n",
    ")\n",
    "from offline_rl.utils import widget_list\n",
    "from offline_rl.custom_envs.custom_envs_registration import EnvFactory\n",
    "from offline_rl.behavior_policies.behavior_policy_registry import BehaviorPolicy2dGridFactory\n",
    "from offline_rl.generate_custom_minari_datasets.generate_minari_dataset import (\n",
    "    create_minari_datasets,\n",
    ")\n",
    "\n",
    "\n",
    "if not os.environ.get(\"DISPLAY\"):\n",
    "    os.environ[\"MUJOCO_GL\"] = \"egl\"\n",
    "\n",
    "warnings.filterwarnings(\"ignore\")\n",
    "\n",
    "# To get access to the registered environments."
   ]
  },
  {
   "cell_type": "markdown",
   "metadata": {
    "slideshow": {
     "slide_type": "slide"
    }
   },
   "source": [
    "# Exercise: Minari data collection\n",
    "\n",
    "In this exercise you don't have any homework. The idea is to play around with it to get familiar with the code  (notebooks and source code) and with the way we collect data.\n",
    "\n",
    "Remember that the pipeline for offline learning will be the following:\n",
    "\n",
    "<img src=\"_static/images/93_offline_RL_pipeline.png\" alt=\"Snow\" style=\"width:50%;\">\n",
    "\n",
    "In this notebook we will be exploring the steps 1-2-3 . It would be a good idea now to give a look to the code structure:\n",
    "\n",
    "<img src=\"_static/images/93_code_structure.png\" alt=\"Snow\" style=\"width:20%;\">\n",
    "\n",
    "You can also give a look to [Minari documentation](https://minari.farama.org/main/content/basic_usage/) if needed."
   ]
  },
  {
   "cell_type": "markdown",
   "metadata": {
    "slideshow": {
     "slide_type": "slide"
    }
   },
   "source": [
    "## STEP 1: Create the environments"
   ]
  },
  {
   "cell_type": "code",
   "execution_count": 4,
   "metadata": {
    "execution": {
     "iopub.execute_input": "2025-01-06T13:36:53.518172Z",
     "iopub.status.busy": "2025-01-06T13:36:53.517893Z",
     "iopub.status.idle": "2025-01-06T13:36:53.546767Z",
     "shell.execute_reply": "2025-01-06T13:36:53.546195Z"
    }
   },
   "outputs": [],
   "source": [
    "# List of different environments\n",
    "ENV_LIST = [\n",
    "    EnvFactory.Grid_2D_8x8_discrete,\n",
    "    \"InvertedPendulum-v4\",\n",
    "    \"Humanoid-v4\",\n",
    "    \"AdroitHandHammer-v1\",\n",
    "    \"HalfCheetah-v4\",\n",
    "]\n",
    "\n",
    "# obstacles to be used with the 2d grid-world\n",
    "grid_world_obstacles = [\n",
    "    ObstacleTypes.obstacle_8x8_top_right,\n",
    "    ObstacleTypes.obst_free_8x8,\n",
    "]\n",
    "\n",
    "# behavior policies to be used with 2d grid-world\n",
    "behavior_policy_grid_world = [\n",
    "    BehaviorPolicy2dGridFactory.suboptimal_8x8,\n",
    "    BehaviorPolicy2dGridFactory.random,\n",
    "    BehaviorPolicy2dGridFactory.deterministic_8x8,\n",
    "]"
   ]
  },
  {
   "cell_type": "code",
   "execution_count": 5,
   "metadata": {
    "execution": {
     "iopub.execute_input": "2025-01-06T13:36:53.548603Z",
     "iopub.status.busy": "2025-01-06T13:36:53.548437Z",
     "iopub.status.idle": "2025-01-06T13:36:53.582212Z",
     "shell.execute_reply": "2025-01-06T13:36:53.581722Z"
    }
   },
   "outputs": [
    {
     "data": {
      "application/vnd.jupyter.widget-view+json": {
       "model_id": "d569c4003ba74e189c2fcd1d87b7c2c5",
       "version_major": 2,
       "version_minor": 0
      },
      "text/plain": [
       "Dropdown(description='Mixed envs.', options=(<EnvFactory.Grid_2D_8x8_discrete: 'Grid_2D_8x8_discrete'>, 'Inver…"
      ]
     },
     "metadata": {},
     "output_type": "display_data"
    },
    {
     "data": {
      "application/vnd.jupyter.widget-view+json": {
       "model_id": "2ec436130a1446f3bcf40956afd0089e",
       "version_major": 2,
       "version_minor": 0
      },
      "text/plain": [
       "Dropdown(description='grid obst.', options=(<ObstacleTypes.obstacle_8x8_top_right: ['00000100', '00000100', '0…"
      ]
     },
     "metadata": {},
     "output_type": "display_data"
    },
    {
     "data": {
      "application/vnd.jupyter.widget-view+json": {
       "model_id": "9b0cb05dde75466bbd96b97c1d2e68d0",
       "version_major": 2,
       "version_minor": 0
      },
      "text/plain": [
       "Dropdown(description='grid policy', options=(<BehaviorPolicy2dGridFactory.suboptimal_8x8: 'suboptimal_8x8'>, <…"
      ]
     },
     "metadata": {},
     "output_type": "display_data"
    }
   ],
   "source": [
    "selected_environment = widget_list(ENV_LIST, description=\"Mixed envs.\")\n",
    "selected_obstacle = widget_list(grid_world_obstacles, description=\"grid obst.\")\n",
    "selected_grid_world_policy = widget_list(behavior_policy_grid_world, description=\"grid policy\")"
   ]
  },
  {
   "cell_type": "markdown",
   "metadata": {
    "slideshow": {
     "slide_type": "slide"
    }
   },
   "source": [
    "**Select and render behavior policies**"
   ]
  },
  {
   "cell_type": "code",
   "execution_count": 6,
   "metadata": {
    "execution": {
     "iopub.execute_input": "2025-01-06T13:36:53.583916Z",
     "iopub.status.busy": "2025-01-06T13:36:53.583753Z",
     "iopub.status.idle": "2025-01-06T13:36:56.069757Z",
     "shell.execute_reply": "2025-01-06T13:36:56.069197Z"
    }
   },
   "outputs": [
    {
     "data": {
      "text/html": [
       "<table class=\"show_videos\" style=\"border-spacing:0px;\"><tr><td style=\"padding:1px;\"><div style=\"display:flex; align-items:left;\">\n",
       "      <div style=\"display:flex; flex-direction:column; align-items:center;\">\n",
       "      <div>2d-GridWorld</div><div><video controls width=\"256\" height=\"256\" style=\"object-fit:cover;\" loop autoplay muted>\n",
       "      <source src=\"data:video/mp4;base64,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\" type=\"video/mp4\"/>\n",
       "      This browser does not support the video tag.\n",
       "      </video></div></div></div></td></tr></table>"
      ],
      "text/plain": [
       "<IPython.core.display.HTML object>"
      ]
     },
     "metadata": {},
     "output_type": "display_data"
    }
   ],
   "source": [
    "behavior_policy = BehaviorPolicy2dGridFactory.random\n",
    "if isinstance(selected_environment.value, EnvFactory):\n",
    "    env = EnvFactory[selected_environment.value].get_env(render_mode=RenderMode.RGB_ARRAY)\n",
    "    if isinstance(env.unwrapped, Custom2DGridEnv):\n",
    "        env.set_new_obstacle_map(selected_obstacle.value.value)\n",
    "        behavior_policy = selected_grid_world_policy.value\n",
    "else:\n",
    "    env = gym.make(selected_environment.value, render_mode=\"rgb_array\")\n",
    "\n",
    "offpolicy_rendering(\n",
    "    env_or_env_name=env,\n",
    "    render_mode=RenderMode.RGB_ARRAY,\n",
    "    behavior_policy=behavior_policy,\n",
    "    num_frames=100,\n",
    "    fps=10,\n",
    ")"
   ]
  },
  {
   "cell_type": "markdown",
   "metadata": {
    "slideshow": {
     "slide_type": "slide"
    }
   },
   "source": [
    "## STEP 2: Create Minari datasets"
   ]
  },
  {
   "cell_type": "code",
   "execution_count": 7,
   "metadata": {
    "execution": {
     "iopub.execute_input": "2025-01-06T13:36:56.072010Z",
     "iopub.status.busy": "2025-01-06T13:36:56.071624Z",
     "iopub.status.idle": "2025-01-06T13:36:56.150525Z",
     "shell.execute_reply": "2025-01-06T13:36:56.150067Z"
    }
   },
   "outputs": [],
   "source": [
    "DATA_SET_IDENTIFIER_I = \"_collected_data_nb_92\"\n",
    "NUM_STEPS_I = 500\n",
    "\n",
    "data_set_config = create_minari_datasets(\n",
    "    env_name=env.spec.id,\n",
    "    dataset_identifier=DATA_SET_IDENTIFIER_I,\n",
    "    num_collected_points=NUM_STEPS_I,\n",
    "    behavior_policy=behavior_policy,\n",
    ")"
   ]
  },
  {
   "cell_type": "markdown",
   "metadata": {},
   "source": [
    "**Congratulations! You have created your first Minari dataset. Take a look at `src/offline_rl/data`.**"
   ]
  },
  {
   "cell_type": "markdown",
   "metadata": {
    "slideshow": {
     "slide_type": "slide"
    }
   },
   "source": [
    "## STEP 3: Feed dataset to Tianshou ReplayBuffer"
   ]
  },
  {
   "cell_type": "code",
   "execution_count": 8,
   "metadata": {
    "execution": {
     "iopub.execute_input": "2025-01-06T13:36:56.152542Z",
     "iopub.status.busy": "2025-01-06T13:36:56.152221Z",
     "iopub.status.idle": "2025-01-06T13:36:56.195605Z",
     "shell.execute_reply": "2025-01-06T13:36:56.195196Z"
    }
   },
   "outputs": [
    {
     "name": "stdout",
     "output_type": "stream",
     "text": [
      "Dataset /workspace/src/offline_rl/data/offline_data/Grid_2D_8x8_discrete-data_collected_data_nb_92-v0 downloaded. number of episodes: 10\n",
      "The number of dataset points is 500\n",
      "Batch(\n",
      "    obs: array([1., 0., 0., 0., 0., 0., 0., 0., 0., 0., 0., 0., 0., 0., 0., 0., 0.,\n",
      "                0., 0., 0., 0., 0., 0., 0., 0., 0., 0., 0., 0., 0., 0., 0., 0., 0.,\n",
      "                0., 0., 0., 0., 0., 0., 0., 0., 0., 0., 0., 0., 0., 0., 0., 0., 0.,\n",
      "                0., 0., 0., 0., 0., 0., 0., 0., 0., 0., 0., 0., 0.]),\n",
      "    act: array(1),\n",
      "    rew: array(-0.01440554),\n",
      "    terminated: array(False),\n",
      "    truncated: array(0.),\n",
      "    done: array(False),\n",
      "    obs_next: array([0., 0., 0., 0., 0., 0., 0., 0., 1., 0., 0., 0., 0., 0., 0., 0., 0.,\n",
      "                     0., 0., 0., 0., 0., 0., 0., 0., 0., 0., 0., 0., 0., 0., 0., 0., 0.,\n",
      "                     0., 0., 0., 0., 0., 0., 0., 0., 0., 0., 0., 0., 0., 0., 0., 0., 0.,\n",
      "                     0., 0., 0., 0., 0., 0., 0., 0., 0., 0., 0., 0., 0.]),\n",
      "    info: Batch(),\n",
      "    policy: Batch(),\n",
      ")\n"
     ]
    }
   ],
   "source": [
    "buffer_data = load_buffer_minari(data_set_config.data_set_name)\n",
    "print(f\"The number of dataset points is {len(buffer_data)}\")\n",
    "\n",
    "for elem in buffer_data:\n",
    "    print(elem)\n",
    "    break"
   ]
  },
  {
   "cell_type": "markdown",
   "metadata": {
    "slideshow": {
     "slide_type": "slide"
    }
   },
   "source": [
    "**Let's give a look to the collected 2d grid world data**\n",
    "\n",
    "**Useful information:**\n",
    "\n",
    "In our grid world environment, the agent's position is represented as $(x_1, x_2)$, with $x_1/x_2$ the vertical/horizontal coordinates. Observations are represented as a one-hot encoded vector of dimensions $x_1 \\times x_2$, for example, a 64-dimensional vector in an 8x8 grid,\n",
    " \n",
    "\n",
    "The action is represented by an integer in the range of [0, 1, 2, 3], each indicating a direction:\n",
    "\n",
    "    0: (-1, 0) - UP\n",
    "    1: (1, 0) - DOWN\n",
    "    2: (0, -1) - LEFT\n",
    "    3: (0, 1) - RIGHT\n",
    "\n"
   ]
  },
  {
   "cell_type": "code",
   "execution_count": 9,
   "metadata": {
    "execution": {
     "iopub.execute_input": "2025-01-06T13:36:56.197343Z",
     "iopub.status.busy": "2025-01-06T13:36:56.197182Z",
     "iopub.status.idle": "2025-01-06T13:36:57.133920Z",
     "shell.execute_reply": "2025-01-06T13:36:57.133355Z"
    }
   },
   "outputs": [
    {
     "data": {
      "image/png": "[encoded data removed]",
      "text/plain": [
       "<Figure size 1000x500 with 1 Axes>"
      ]
     },
     "metadata": {},
     "output_type": "display_data"
    },
    {
     "data": {
      "image/png": "[encoded data removed]",
      "text/plain": [
       "<Figure size 640x480 with 1 Axes>"
      ]
     },
     "metadata": {},
     "output_type": "display_data"
    }
   ],
   "source": [
    "# Compute state-action data distribution\n",
    "if type(env.unwrapped).__name__== \"Custom2DGridEnv\":\n",
    "    state_action_count_data, _ = get_state_action_data_and_policy_grid_distributions(\n",
    "        buffer_data, env\n",
    "    )\n",
    "    snapshot_env(env)\n",
    "else:\n",
    "    raise ValueError(f\"To analyze the data the environment should be of type {Custom2DGridEnv}.\")"
   ]
  },
  {
   "cell_type": "markdown",
   "metadata": {
    "slideshow": {
     "slide_type": "slide"
    }
   },
   "source": [
    "## References\n",
    "\n",
    "[ \\[Fu.Justin et. al.\\] D4RL: Datasets for Deep Data-Driven Reinforcement Learning](https://arxiv.org/abs/2004.07219)\n",
    "\n",
    "[ MINARI: A dataset API for Offline Reinforcement Learning ](https://minari.farama.org/main/content/basic_usage/)"
   ]
  },
  {
   "cell_type": "code",
   "execution_count": null,
   "metadata": {},
   "outputs": [],
   "source": []
  }
 ],
 "metadata": {
  "language_info": {
   "codemirror_mode": {
    "name": "ipython",
    "version": 3
   },
   "file_extension": ".py",
   "mimetype": "text/x-python",
   "name": "python",
   "nbconvert_exporter": "python",
   "pygments_lexer": "ipython3",
   "version": "3.11.6"
  },
  "widgets": {
   "application/vnd.jupyter.widget-state+json": {
    "state": {
     "2ec436130a1446f3bcf40956afd0089e": {
      "model_module": "@jupyter-widgets/controls",
      "model_module_version": "2.0.0",
      "model_name": "DropdownModel",
      "state": {
       "_dom_classes": [],
       "_model_module": "@jupyter-widgets/controls",
       "_model_module_version": "2.0.0",
       "_model_name": "DropdownModel",
       "_options_labels": [
        "ObstacleTypes.obstacle_8x8_top_right",
        "ObstacleTypes.obst_free_8x8"
       ],
       "_view_count": null,
       "_view_module": "@jupyter-widgets/controls",
       "_view_module_version": "2.0.0",
       "_view_name": "DropdownView",
       "description": "grid obst.",
       "description_allow_html": false,
       "disabled": false,
       "index": 0,
       "layout": "IPY_MODEL_42dea2d9c10f4338b0506f782b6429c0",
       "style": "IPY_MODEL_ea1d45250674465793946a5f0fd56064",
       "tabbable": null,
       "tooltip": null
      }
     },
     "42dea2d9c10f4338b0506f782b6429c0": {
      "model_module": "@jupyter-widgets/base",
      "model_module_version": "2.0.0",
      "model_name": "LayoutModel",
      "state": {
       "_model_module": "@jupyter-widgets/base",
       "_model_module_version": "2.0.0",
       "_model_name": "LayoutModel",
       "_view_count": null,
       "_view_module": "@jupyter-widgets/base",
       "_view_module_version": "2.0.0",
       "_view_name": "LayoutView",
       "align_content": null,
       "align_items": null,
       "align_self": null,
       "border_bottom": null,
       "border_left": null,
       "border_right": null,
       "border_top": null,
       "bottom": null,
       "display": null,
       "flex": null,
       "flex_flow": null,
       "grid_area": null,
       "grid_auto_columns": null,
       "grid_auto_flow": null,
       "grid_auto_rows": null,
       "grid_column": null,
       "grid_gap": null,
       "grid_row": null,
       "grid_template_areas": null,
       "grid_template_columns": null,
       "grid_template_rows": null,
       "height": null,
       "justify_content": null,
       "justify_items": null,
       "left": null,
       "margin": null,
       "max_height": null,
       "max_width": null,
       "min_height": null,
       "min_width": null,
       "object_fit": null,
       "object_position": null,
       "order": null,
       "overflow": null,
       "padding": null,
       "right": null,
       "top": null,
       "visibility": null,
       "width": null
      }
     },
     "96a1f7d13cc5417aaa35fef9d9234cee": {
      "model_module": "@jupyter-widgets/base",
      "model_module_version": "2.0.0",
      "model_name": "LayoutModel",
      "state": {
       "_model_module": "@jupyter-widgets/base",
       "_model_module_version": "2.0.0",
       "_model_name": "LayoutModel",
       "_view_count": null,
       "_view_module": "@jupyter-widgets/base",
       "_view_module_version": "2.0.0",
       "_view_name": "LayoutView",
       "align_content": null,
       "align_items": null,
       "align_self": null,
       "border_bottom": null,
       "border_left": null,
       "border_right": null,
       "border_top": null,
       "bottom": null,
       "display": null,
       "flex": null,
       "flex_flow": null,
       "grid_area": null,
       "grid_auto_columns": null,
       "grid_auto_flow": null,
       "grid_auto_rows": null,
       "grid_column": null,
       "grid_gap": null,
       "grid_row": null,
       "grid_template_areas": null,
       "grid_template_columns": null,
       "grid_template_rows": null,
       "height": null,
       "justify_content": null,
       "justify_items": null,
       "left": null,
       "margin": null,
       "max_height": null,
       "max_width": null,
       "min_height": null,
       "min_width": null,
       "object_fit": null,
       "object_position": null,
       "order": null,
       "overflow": null,
       "padding": null,
       "right": null,
       "top": null,
       "visibility": null,
       "width": null
      }
     },
     "9b0cb05dde75466bbd96b97c1d2e68d0": {
      "model_module": "@jupyter-widgets/controls",
      "model_module_version": "2.0.0",
      "model_name": "DropdownModel",
      "state": {
       "_dom_classes": [],
       "_model_module": "@jupyter-widgets/controls",
       "_model_module_version": "2.0.0",
       "_model_name": "DropdownModel",
       "_options_labels": [
        "suboptimal_8x8",
        "random",
        "deterministic_8x8"
       ],
       "_view_count": null,
       "_view_module": "@jupyter-widgets/controls",
       "_view_module_version": "2.0.0",
       "_view_name": "DropdownView",
       "description": "grid policy",
       "description_allow_html": false,
       "disabled": false,
       "index": 0,
       "layout": "IPY_MODEL_96a1f7d13cc5417aaa35fef9d9234cee",
       "style": "IPY_MODEL_aabc4d1748bd4febb22d8d6cd8bc44a8",
       "tabbable": null,
       "tooltip": null
      }
     },
     "9fd4639987a644bb82f46e8556aff69f": {
      "model_module": "@jupyter-widgets/base",
      "model_module_version": "2.0.0",
      "model_name": "LayoutModel",
      "state": {
       "_model_module": "@jupyter-widgets/base",
       "_model_module_version": "2.0.0",
       "_model_name": "LayoutModel",
       "_view_count": null,
       "_view_module": "@jupyter-widgets/base",
       "_view_module_version": "2.0.0",
       "_view_name": "LayoutView",
       "align_content": null,
       "align_items": null,
       "align_self": null,
       "border_bottom": null,
       "border_left": null,
       "border_right": null,
       "border_top": null,
       "bottom": null,
       "display": null,
       "flex": null,
       "flex_flow": null,
       "grid_area": null,
       "grid_auto_columns": null,
       "grid_auto_flow": null,
       "grid_auto_rows": null,
       "grid_column": null,
       "grid_gap": null,
       "grid_row": null,
       "grid_template_areas": null,
       "grid_template_columns": null,
       "grid_template_rows": null,
       "height": null,
       "justify_content": null,
       "justify_items": null,
       "left": null,
       "margin": null,
       "max_height": null,
       "max_width": null,
       "min_height": null,
       "min_width": null,
       "object_fit": null,
       "object_position": null,
       "order": null,
       "overflow": null,
       "padding": null,
       "right": null,
       "top": null,
       "visibility": null,
       "width": null
      }
     },
     "aabc4d1748bd4febb22d8d6cd8bc44a8": {
      "model_module": "@jupyter-widgets/controls",
      "model_module_version": "2.0.0",
      "model_name": "DescriptionStyleModel",
      "state": {
       "_model_module": "@jupyter-widgets/controls",
       "_model_module_version": "2.0.0",
       "_model_name": "DescriptionStyleModel",
       "_view_count": null,
       "_view_module": "@jupyter-widgets/base",
       "_view_module_version": "2.0.0",
       "_view_name": "StyleView",
       "description_width": ""
      }
     },
     "d4918920b48249e78cac7a0f9058591b": {
      "model_module": "@jupyter-widgets/controls",
      "model_module_version": "2.0.0",
      "model_name": "DescriptionStyleModel",
      "state": {
       "_model_module": "@jupyter-widgets/controls",
       "_model_module_version": "2.0.0",
       "_model_name": "DescriptionStyleModel",
       "_view_count": null,
       "_view_module": "@jupyter-widgets/base",
       "_view_module_version": "2.0.0",
       "_view_name": "StyleView",
       "description_width": ""
      }
     },
     "d569c4003ba74e189c2fcd1d87b7c2c5": {
      "model_module": "@jupyter-widgets/controls",
      "model_module_version": "2.0.0",
      "model_name": "DropdownModel",
      "state": {
       "_dom_classes": [],
       "_model_module": "@jupyter-widgets/controls",
       "_model_module_version": "2.0.0",
       "_model_name": "DropdownModel",
       "_options_labels": [
        "Grid_2D_8x8_discrete",
        "InvertedPendulum-v4",
        "Humanoid-v4",
        "AdroitHandHammer-v1",
        "HalfCheetah-v4"
       ],
       "_view_count": null,
       "_view_module": "@jupyter-widgets/controls",
       "_view_module_version": "2.0.0",
       "_view_name": "DropdownView",
       "description": "Mixed envs.",
       "description_allow_html": false,
       "disabled": false,
       "index": 0,
       "layout": "IPY_MODEL_9fd4639987a644bb82f46e8556aff69f",
       "style": "IPY_MODEL_d4918920b48249e78cac7a0f9058591b",
       "tabbable": null,
       "tooltip": null
      }
     },
     "ea1d45250674465793946a5f0fd56064": {
      "model_module": "@jupyter-widgets/controls",
      "model_module_version": "2.0.0",
      "model_name": "DescriptionStyleModel",
      "state": {
       "_model_module": "@jupyter-widgets/controls",
       "_model_module_version": "2.0.0",
       "_model_name": "DescriptionStyleModel",
       "_view_count": null,
       "_view_module": "@jupyter-widgets/base",
       "_view_module_version": "2.0.0",
       "_view_name": "StyleView",
       "description_width": ""
      }
     }
    },
    "version_major": 2,
    "version_minor": 0
   }
  }
 },
 "nbformat": 4,
 "nbformat_minor": 1
}
